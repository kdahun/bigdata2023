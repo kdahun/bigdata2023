{
  "nbformat": 4,
  "nbformat_minor": 0,
  "metadata": {
    "colab": {
      "provenance": [],
      "authorship_tag": "ABX9TyN4wDnmA8DT6EEVCtCWG6i3",
      "include_colab_link": true
    },
    "kernelspec": {
      "name": "python3",
      "display_name": "Python 3"
    },
    "language_info": {
      "name": "python"
    }
  },
  "cells": [
    {
      "cell_type": "markdown",
      "metadata": {
        "id": "view-in-github",
        "colab_type": "text"
      },
      "source": [
        "<a href=\"https://colab.research.google.com/github/kdahun/bigdata2023/blob/main/python3day.ipynb\" target=\"_parent\"><img src=\"https://colab.research.google.com/assets/colab-badge.svg\" alt=\"Open In Colab\"/></a>"
      ]
    },
    {
      "cell_type": "markdown",
      "source": [
        "# 딕셔너리 실습\n",
        "* 주사위 두개 던져서 나오는 모든 경우의 수를 생각\n",
        "* 각 합이 나오는 경우의 수와 그 경로를 사전형으로 구하기"
      ],
      "metadata": {
        "id": "Bfjsdb_Hlsfv"
      }
    },
    {
      "cell_type": "code",
      "execution_count": 3,
      "metadata": {
        "id": "MoO-ZG_Uk8zr"
      },
      "outputs": [],
      "source": [
        "d1 = {}\n",
        "d2 = {}\n",
        "\n",
        "for i in range(1,7):\n",
        "  for j in range(1,7):\n",
        "    if i+j not in d2.keys():\n",
        "      d2[i+j]=[[i,j]]\n",
        "    else:\n",
        "      d2[i+j].append([i,j])"
      ]
    },
    {
      "cell_type": "code",
      "source": [
        "d2"
      ],
      "metadata": {
        "colab": {
          "base_uri": "https://localhost:8080/"
        },
        "id": "rvCy43ETn8Zu",
        "outputId": "61b0a7d0-1071-40ce-fda2-2619cba9f804"
      },
      "execution_count": 4,
      "outputs": [
        {
          "output_type": "execute_result",
          "data": {
            "text/plain": [
              "{2: [[1, 1]],\n",
              " 3: [[1, 2], [2, 1]],\n",
              " 4: [[1, 3], [2, 2], [3, 1]],\n",
              " 5: [[1, 4], [2, 3], [3, 2], [4, 1]],\n",
              " 6: [[1, 5], [2, 4], [3, 3], [4, 2], [5, 1]],\n",
              " 7: [[1, 6], [2, 5], [3, 4], [4, 3], [5, 2], [6, 1]],\n",
              " 8: [[2, 6], [3, 5], [4, 4], [5, 3], [6, 2]],\n",
              " 9: [[3, 6], [4, 5], [5, 4], [6, 3]],\n",
              " 10: [[4, 6], [5, 5], [6, 4]],\n",
              " 11: [[5, 6], [6, 5]],\n",
              " 12: [[6, 6]]}"
            ]
          },
          "metadata": {},
          "execution_count": 4
        }
      ]
    },
    {
      "cell_type": "code",
      "source": [
        "for i in d2.keys():\n",
        "  d1[i]=len(d2[i])"
      ],
      "metadata": {
        "id": "gTreWNvon9hP"
      },
      "execution_count": 14,
      "outputs": []
    },
    {
      "cell_type": "code",
      "source": [
        "d1"
      ],
      "metadata": {
        "colab": {
          "base_uri": "https://localhost:8080/"
        },
        "id": "dbATRJxkoXzf",
        "outputId": "196364c5-c680-44f1-9faa-f58ade214173"
      },
      "execution_count": 16,
      "outputs": [
        {
          "output_type": "execute_result",
          "data": {
            "text/plain": [
              "{2: 1, 3: 2, 4: 3, 5: 4, 6: 5, 7: 6, 8: 5, 9: 4, 10: 3, 11: 2, 12: 1}"
            ]
          },
          "metadata": {},
          "execution_count": 16
        }
      ]
    },
    {
      "cell_type": "code",
      "source": [
        "#bank 관련 함수 만들기\n",
        "def open_account(): #procedure(반환값 없음)\n",
        "  print(\"새로운 계좌가 생성되었습니다\")\n",
        "a=open_account()\n",
        "print(a)\n",
        "def deposit(balance, money):\n",
        "  print(f\"입금액은 {money}원이고 잔액은 {balance+money}원 입니다.\")\n",
        "  return balance+money\n",
        "\n",
        "a=deposit(1000, 2000)\n",
        "print(a)\n",
        "\n",
        "def withdraw(balance, money):\n",
        "  if balance<money:\n",
        "    print(\"잔액이 부족합니다.\")\n",
        "    return balance\n",
        "  else:\n",
        "    print(f\"{money}원이 출금되었습니다.\", end=\" \")\n",
        "    print(f\"잔액은 {balance-money}원입니다.\")\n",
        "    return balance-money\n",
        "\n",
        "#withdraw(3000, 2000)\n",
        "def withdraw_night(balance, money):\n",
        "  fee=500\n",
        "  if balance<money+fee:\n",
        "    print(\"잔액이 부족합니다.\")\n",
        "    return fee, balance\n",
        "  else:\n",
        "    print(f\"수수료 {fee}원이 발생하였습니다.\", end=\" \")\n",
        "    print(f\"{money}원이 출금되었습니다.\", end=\" \")\n",
        "    print(f\"잔액은 {balance-money-fee}원 입니다.\")\n",
        "    return fee, balance-money-fee\n",
        "a,b=withdraw_night(3000, 2000)\n",
        "print(a,b)"
      ],
      "metadata": {
        "colab": {
          "base_uri": "https://localhost:8080/"
        },
        "id": "U8w4vUizoZA_",
        "outputId": "c92e5b95-97f1-408b-a3ac-fa6ad01d3751"
      },
      "execution_count": 17,
      "outputs": [
        {
          "output_type": "stream",
          "name": "stdout",
          "text": [
            "새로운 계좌가 생성되었습니다\n",
            "None\n",
            "입금액은 2000원이고 잔액은 3000원 입니다.\n",
            "3000\n",
            "수수료 500원이 발생하였습니다. 2000원이 출금되었습니다. 잔액은 500원 입니다.\n",
            "500 500\n"
          ]
        }
      ]
    },
    {
      "cell_type": "markdown",
      "source": [
        "### 입력으로 들어오는 모든 수의 평균을 계산하는 함수"
      ],
      "metadata": {
        "id": "dnudwcq05IYy"
      }
    },
    {
      "cell_type": "code",
      "source": [
        "def average(*num):\n",
        "  result = 0\n",
        "  for n in num:\n",
        "    result +=n\n",
        "  result=result/len(num)\n",
        "  return result\n",
        "\n",
        "print(\"평균 : \",average(10,20,60))"
      ],
      "metadata": {
        "colab": {
          "base_uri": "https://localhost:8080/"
        },
        "id": "y35FJmz13Wai",
        "outputId": "74e5189d-a300-48d3-8241-746133bfe041"
      },
      "execution_count": 21,
      "outputs": [
        {
          "output_type": "stream",
          "name": "stdout",
          "text": [
            "평균 :  30.0\n"
          ]
        }
      ]
    },
    {
      "cell_type": "code",
      "source": [
        "def factorial(num):\n",
        "  result =1\n",
        "  for i in range(1,num+1):\n",
        "    result*=i\n",
        "  return result\n",
        "\n",
        "factorial(5)"
      ],
      "metadata": {
        "colab": {
          "base_uri": "https://localhost:8080/"
        },
        "id": "33oDU3275wRL",
        "outputId": "f2a848cb-d9e4-4ba4-eced-32c6cc95713a"
      },
      "execution_count": 23,
      "outputs": [
        {
          "output_type": "execute_result",
          "data": {
            "text/plain": [
              "120"
            ]
          },
          "metadata": {},
          "execution_count": 23
        }
      ]
    },
    {
      "cell_type": "code",
      "source": [
        "def factorial(num):\n",
        "  result =1\n",
        "  i=1\n",
        "  while i<num+1:\n",
        "    result*=i\n",
        "    i+=1\n",
        "  return result\n",
        "\n",
        "factorial(5)"
      ],
      "metadata": {
        "colab": {
          "base_uri": "https://localhost:8080/"
        },
        "id": "AMhgMb9i8O_P",
        "outputId": "94f160ea-f21e-4cde-a900-2251529e3193"
      },
      "execution_count": 24,
      "outputs": [
        {
          "output_type": "execute_result",
          "data": {
            "text/plain": [
              "120"
            ]
          },
          "metadata": {},
          "execution_count": 24
        }
      ]
    },
    {
      "cell_type": "code",
      "source": [
        "# 재귀홤수\n",
        "# 자기 자신을 호출하는 함수\n",
        "\n",
        "def recursive_function(i):\n",
        "# 100번째 호출을 했을 때 종료되도록 종료 조건 명시\n",
        "  if i == 100:\n",
        "    return\n",
        "  print(i, '번째 재귀함수에서', i + 1,'번째 재귀함수를 호출합니다.')\n",
        "\n",
        "  recursive_function(i + 1)\n",
        "  print(i,'번째 재귀함수를 종료합니다.')\n",
        "\n",
        "recursive_function(1)"
      ],
      "metadata": {
        "colab": {
          "base_uri": "https://localhost:8080/"
        },
        "id": "N7WFfolr9DFD",
        "outputId": "e2765f36-5071-4f24-a8c9-fac77f8460b2"
      },
      "execution_count": 26,
      "outputs": [
        {
          "output_type": "stream",
          "name": "stdout",
          "text": [
            "1 번째 재귀함수에서 2 번째 재귀함수를 호출합니다.\n",
            "2 번째 재귀함수에서 3 번째 재귀함수를 호출합니다.\n",
            "3 번째 재귀함수에서 4 번째 재귀함수를 호출합니다.\n",
            "4 번째 재귀함수에서 5 번째 재귀함수를 호출합니다.\n",
            "5 번째 재귀함수에서 6 번째 재귀함수를 호출합니다.\n",
            "6 번째 재귀함수에서 7 번째 재귀함수를 호출합니다.\n",
            "7 번째 재귀함수에서 8 번째 재귀함수를 호출합니다.\n",
            "8 번째 재귀함수에서 9 번째 재귀함수를 호출합니다.\n",
            "9 번째 재귀함수에서 10 번째 재귀함수를 호출합니다.\n",
            "10 번째 재귀함수에서 11 번째 재귀함수를 호출합니다.\n",
            "11 번째 재귀함수에서 12 번째 재귀함수를 호출합니다.\n",
            "12 번째 재귀함수에서 13 번째 재귀함수를 호출합니다.\n",
            "13 번째 재귀함수에서 14 번째 재귀함수를 호출합니다.\n",
            "14 번째 재귀함수에서 15 번째 재귀함수를 호출합니다.\n",
            "15 번째 재귀함수에서 16 번째 재귀함수를 호출합니다.\n",
            "16 번째 재귀함수에서 17 번째 재귀함수를 호출합니다.\n",
            "17 번째 재귀함수에서 18 번째 재귀함수를 호출합니다.\n",
            "18 번째 재귀함수에서 19 번째 재귀함수를 호출합니다.\n",
            "19 번째 재귀함수에서 20 번째 재귀함수를 호출합니다.\n",
            "20 번째 재귀함수에서 21 번째 재귀함수를 호출합니다.\n",
            "21 번째 재귀함수에서 22 번째 재귀함수를 호출합니다.\n",
            "22 번째 재귀함수에서 23 번째 재귀함수를 호출합니다.\n",
            "23 번째 재귀함수에서 24 번째 재귀함수를 호출합니다.\n",
            "24 번째 재귀함수에서 25 번째 재귀함수를 호출합니다.\n",
            "25 번째 재귀함수에서 26 번째 재귀함수를 호출합니다.\n",
            "26 번째 재귀함수에서 27 번째 재귀함수를 호출합니다.\n",
            "27 번째 재귀함수에서 28 번째 재귀함수를 호출합니다.\n",
            "28 번째 재귀함수에서 29 번째 재귀함수를 호출합니다.\n",
            "29 번째 재귀함수에서 30 번째 재귀함수를 호출합니다.\n",
            "30 번째 재귀함수에서 31 번째 재귀함수를 호출합니다.\n",
            "31 번째 재귀함수에서 32 번째 재귀함수를 호출합니다.\n",
            "32 번째 재귀함수에서 33 번째 재귀함수를 호출합니다.\n",
            "33 번째 재귀함수에서 34 번째 재귀함수를 호출합니다.\n",
            "34 번째 재귀함수에서 35 번째 재귀함수를 호출합니다.\n",
            "35 번째 재귀함수에서 36 번째 재귀함수를 호출합니다.\n",
            "36 번째 재귀함수에서 37 번째 재귀함수를 호출합니다.\n",
            "37 번째 재귀함수에서 38 번째 재귀함수를 호출합니다.\n",
            "38 번째 재귀함수에서 39 번째 재귀함수를 호출합니다.\n",
            "39 번째 재귀함수에서 40 번째 재귀함수를 호출합니다.\n",
            "40 번째 재귀함수에서 41 번째 재귀함수를 호출합니다.\n",
            "41 번째 재귀함수에서 42 번째 재귀함수를 호출합니다.\n",
            "42 번째 재귀함수에서 43 번째 재귀함수를 호출합니다.\n",
            "43 번째 재귀함수에서 44 번째 재귀함수를 호출합니다.\n",
            "44 번째 재귀함수에서 45 번째 재귀함수를 호출합니다.\n",
            "45 번째 재귀함수에서 46 번째 재귀함수를 호출합니다.\n",
            "46 번째 재귀함수에서 47 번째 재귀함수를 호출합니다.\n",
            "47 번째 재귀함수에서 48 번째 재귀함수를 호출합니다.\n",
            "48 번째 재귀함수에서 49 번째 재귀함수를 호출합니다.\n",
            "49 번째 재귀함수에서 50 번째 재귀함수를 호출합니다.\n",
            "50 번째 재귀함수에서 51 번째 재귀함수를 호출합니다.\n",
            "51 번째 재귀함수에서 52 번째 재귀함수를 호출합니다.\n",
            "52 번째 재귀함수에서 53 번째 재귀함수를 호출합니다.\n",
            "53 번째 재귀함수에서 54 번째 재귀함수를 호출합니다.\n",
            "54 번째 재귀함수에서 55 번째 재귀함수를 호출합니다.\n",
            "55 번째 재귀함수에서 56 번째 재귀함수를 호출합니다.\n",
            "56 번째 재귀함수에서 57 번째 재귀함수를 호출합니다.\n",
            "57 번째 재귀함수에서 58 번째 재귀함수를 호출합니다.\n",
            "58 번째 재귀함수에서 59 번째 재귀함수를 호출합니다.\n",
            "59 번째 재귀함수에서 60 번째 재귀함수를 호출합니다.\n",
            "60 번째 재귀함수에서 61 번째 재귀함수를 호출합니다.\n",
            "61 번째 재귀함수에서 62 번째 재귀함수를 호출합니다.\n",
            "62 번째 재귀함수에서 63 번째 재귀함수를 호출합니다.\n",
            "63 번째 재귀함수에서 64 번째 재귀함수를 호출합니다.\n",
            "64 번째 재귀함수에서 65 번째 재귀함수를 호출합니다.\n",
            "65 번째 재귀함수에서 66 번째 재귀함수를 호출합니다.\n",
            "66 번째 재귀함수에서 67 번째 재귀함수를 호출합니다.\n",
            "67 번째 재귀함수에서 68 번째 재귀함수를 호출합니다.\n",
            "68 번째 재귀함수에서 69 번째 재귀함수를 호출합니다.\n",
            "69 번째 재귀함수에서 70 번째 재귀함수를 호출합니다.\n",
            "70 번째 재귀함수에서 71 번째 재귀함수를 호출합니다.\n",
            "71 번째 재귀함수에서 72 번째 재귀함수를 호출합니다.\n",
            "72 번째 재귀함수에서 73 번째 재귀함수를 호출합니다.\n",
            "73 번째 재귀함수에서 74 번째 재귀함수를 호출합니다.\n",
            "74 번째 재귀함수에서 75 번째 재귀함수를 호출합니다.\n",
            "75 번째 재귀함수에서 76 번째 재귀함수를 호출합니다.\n",
            "76 번째 재귀함수에서 77 번째 재귀함수를 호출합니다.\n",
            "77 번째 재귀함수에서 78 번째 재귀함수를 호출합니다.\n",
            "78 번째 재귀함수에서 79 번째 재귀함수를 호출합니다.\n",
            "79 번째 재귀함수에서 80 번째 재귀함수를 호출합니다.\n",
            "80 번째 재귀함수에서 81 번째 재귀함수를 호출합니다.\n",
            "81 번째 재귀함수에서 82 번째 재귀함수를 호출합니다.\n",
            "82 번째 재귀함수에서 83 번째 재귀함수를 호출합니다.\n",
            "83 번째 재귀함수에서 84 번째 재귀함수를 호출합니다.\n",
            "84 번째 재귀함수에서 85 번째 재귀함수를 호출합니다.\n",
            "85 번째 재귀함수에서 86 번째 재귀함수를 호출합니다.\n",
            "86 번째 재귀함수에서 87 번째 재귀함수를 호출합니다.\n",
            "87 번째 재귀함수에서 88 번째 재귀함수를 호출합니다.\n",
            "88 번째 재귀함수에서 89 번째 재귀함수를 호출합니다.\n",
            "89 번째 재귀함수에서 90 번째 재귀함수를 호출합니다.\n",
            "90 번째 재귀함수에서 91 번째 재귀함수를 호출합니다.\n",
            "91 번째 재귀함수에서 92 번째 재귀함수를 호출합니다.\n",
            "92 번째 재귀함수에서 93 번째 재귀함수를 호출합니다.\n",
            "93 번째 재귀함수에서 94 번째 재귀함수를 호출합니다.\n",
            "94 번째 재귀함수에서 95 번째 재귀함수를 호출합니다.\n",
            "95 번째 재귀함수에서 96 번째 재귀함수를 호출합니다.\n",
            "96 번째 재귀함수에서 97 번째 재귀함수를 호출합니다.\n",
            "97 번째 재귀함수에서 98 번째 재귀함수를 호출합니다.\n",
            "98 번째 재귀함수에서 99 번째 재귀함수를 호출합니다.\n",
            "99 번째 재귀함수에서 100 번째 재귀함수를 호출합니다.\n",
            "99 번째 재귀함수를 종료합니다.\n",
            "98 번째 재귀함수를 종료합니다.\n",
            "97 번째 재귀함수를 종료합니다.\n",
            "96 번째 재귀함수를 종료합니다.\n",
            "95 번째 재귀함수를 종료합니다.\n",
            "94 번째 재귀함수를 종료합니다.\n",
            "93 번째 재귀함수를 종료합니다.\n",
            "92 번째 재귀함수를 종료합니다.\n",
            "91 번째 재귀함수를 종료합니다.\n",
            "90 번째 재귀함수를 종료합니다.\n",
            "89 번째 재귀함수를 종료합니다.\n",
            "88 번째 재귀함수를 종료합니다.\n",
            "87 번째 재귀함수를 종료합니다.\n",
            "86 번째 재귀함수를 종료합니다.\n",
            "85 번째 재귀함수를 종료합니다.\n",
            "84 번째 재귀함수를 종료합니다.\n",
            "83 번째 재귀함수를 종료합니다.\n",
            "82 번째 재귀함수를 종료합니다.\n",
            "81 번째 재귀함수를 종료합니다.\n",
            "80 번째 재귀함수를 종료합니다.\n",
            "79 번째 재귀함수를 종료합니다.\n",
            "78 번째 재귀함수를 종료합니다.\n",
            "77 번째 재귀함수를 종료합니다.\n",
            "76 번째 재귀함수를 종료합니다.\n",
            "75 번째 재귀함수를 종료합니다.\n",
            "74 번째 재귀함수를 종료합니다.\n",
            "73 번째 재귀함수를 종료합니다.\n",
            "72 번째 재귀함수를 종료합니다.\n",
            "71 번째 재귀함수를 종료합니다.\n",
            "70 번째 재귀함수를 종료합니다.\n",
            "69 번째 재귀함수를 종료합니다.\n",
            "68 번째 재귀함수를 종료합니다.\n",
            "67 번째 재귀함수를 종료합니다.\n",
            "66 번째 재귀함수를 종료합니다.\n",
            "65 번째 재귀함수를 종료합니다.\n",
            "64 번째 재귀함수를 종료합니다.\n",
            "63 번째 재귀함수를 종료합니다.\n",
            "62 번째 재귀함수를 종료합니다.\n",
            "61 번째 재귀함수를 종료합니다.\n",
            "60 번째 재귀함수를 종료합니다.\n",
            "59 번째 재귀함수를 종료합니다.\n",
            "58 번째 재귀함수를 종료합니다.\n",
            "57 번째 재귀함수를 종료합니다.\n",
            "56 번째 재귀함수를 종료합니다.\n",
            "55 번째 재귀함수를 종료합니다.\n",
            "54 번째 재귀함수를 종료합니다.\n",
            "53 번째 재귀함수를 종료합니다.\n",
            "52 번째 재귀함수를 종료합니다.\n",
            "51 번째 재귀함수를 종료합니다.\n",
            "50 번째 재귀함수를 종료합니다.\n",
            "49 번째 재귀함수를 종료합니다.\n",
            "48 번째 재귀함수를 종료합니다.\n",
            "47 번째 재귀함수를 종료합니다.\n",
            "46 번째 재귀함수를 종료합니다.\n",
            "45 번째 재귀함수를 종료합니다.\n",
            "44 번째 재귀함수를 종료합니다.\n",
            "43 번째 재귀함수를 종료합니다.\n",
            "42 번째 재귀함수를 종료합니다.\n",
            "41 번째 재귀함수를 종료합니다.\n",
            "40 번째 재귀함수를 종료합니다.\n",
            "39 번째 재귀함수를 종료합니다.\n",
            "38 번째 재귀함수를 종료합니다.\n",
            "37 번째 재귀함수를 종료합니다.\n",
            "36 번째 재귀함수를 종료합니다.\n",
            "35 번째 재귀함수를 종료합니다.\n",
            "34 번째 재귀함수를 종료합니다.\n",
            "33 번째 재귀함수를 종료합니다.\n",
            "32 번째 재귀함수를 종료합니다.\n",
            "31 번째 재귀함수를 종료합니다.\n",
            "30 번째 재귀함수를 종료합니다.\n",
            "29 번째 재귀함수를 종료합니다.\n",
            "28 번째 재귀함수를 종료합니다.\n",
            "27 번째 재귀함수를 종료합니다.\n",
            "26 번째 재귀함수를 종료합니다.\n",
            "25 번째 재귀함수를 종료합니다.\n",
            "24 번째 재귀함수를 종료합니다.\n",
            "23 번째 재귀함수를 종료합니다.\n",
            "22 번째 재귀함수를 종료합니다.\n",
            "21 번째 재귀함수를 종료합니다.\n",
            "20 번째 재귀함수를 종료합니다.\n",
            "19 번째 재귀함수를 종료합니다.\n",
            "18 번째 재귀함수를 종료합니다.\n",
            "17 번째 재귀함수를 종료합니다.\n",
            "16 번째 재귀함수를 종료합니다.\n",
            "15 번째 재귀함수를 종료합니다.\n",
            "14 번째 재귀함수를 종료합니다.\n",
            "13 번째 재귀함수를 종료합니다.\n",
            "12 번째 재귀함수를 종료합니다.\n",
            "11 번째 재귀함수를 종료합니다.\n",
            "10 번째 재귀함수를 종료합니다.\n",
            "9 번째 재귀함수를 종료합니다.\n",
            "8 번째 재귀함수를 종료합니다.\n",
            "7 번째 재귀함수를 종료합니다.\n",
            "6 번째 재귀함수를 종료합니다.\n",
            "5 번째 재귀함수를 종료합니다.\n",
            "4 번째 재귀함수를 종료합니다.\n",
            "3 번째 재귀함수를 종료합니다.\n",
            "2 번째 재귀함수를 종료합니다.\n",
            "1 번째 재귀함수를 종료합니다.\n"
          ]
        }
      ]
    },
    {
      "cell_type": "code",
      "source": [
        "def factorial_self(num):\n",
        "  if num == 1:\n",
        "    return 1\n",
        "  num=factorial_self(num-1)*num\n",
        "  return num\n",
        "\n",
        "factorial_self(5)"
      ],
      "metadata": {
        "colab": {
          "base_uri": "https://localhost:8080/"
        },
        "id": "M7t98C1YPEpG",
        "outputId": "b16755bc-2e1a-421f-93b2-9bf049c309df"
      },
      "execution_count": 27,
      "outputs": [
        {
          "output_type": "execute_result",
          "data": {
            "text/plain": [
              "120"
            ]
          },
          "metadata": {},
          "execution_count": 27
        }
      ]
    },
    {
      "cell_type": "code",
      "source": [
        "def GCD(num1,num2):\n",
        "  if num2==0:\n",
        "    return num1\n",
        "  result =GCD(num2,num1%num2)\n",
        "  print(num1,num2)\n",
        "  return result\n"
      ],
      "metadata": {
        "id": "HQCP4_8VRu9Y"
      },
      "execution_count": 37,
      "outputs": []
    },
    {
      "cell_type": "code",
      "source": [
        "GCD(192,162)"
      ],
      "metadata": {
        "colab": {
          "base_uri": "https://localhost:8080/"
        },
        "id": "1N6E3VoZTWmw",
        "outputId": "518bb70f-747a-497c-d2a8-ec8895eb8ef9"
      },
      "execution_count": 38,
      "outputs": [
        {
          "output_type": "stream",
          "name": "stdout",
          "text": [
            "12 6\n",
            "30 12\n",
            "162 30\n",
            "192 162\n"
          ]
        },
        {
          "output_type": "execute_result",
          "data": {
            "text/plain": [
              "6"
            ]
          },
          "metadata": {},
          "execution_count": 38
        }
      ]
    },
    {
      "cell_type": "code",
      "source": [
        "# lambda 함수 : 이름없는 함수"
      ],
      "metadata": {
        "id": "VPBBXMq6TZcQ"
      },
      "execution_count": 39,
      "outputs": []
    },
    {
      "cell_type": "code",
      "source": [
        "# zip 함수\n",
        "score = [10,20,15,19]\n",
        "student=[\"kim\",\"park\"]\n",
        "\n",
        "print(list(zip(student,score)))"
      ],
      "metadata": {
        "colab": {
          "base_uri": "https://localhost:8080/"
        },
        "id": "eGZ9Qi6YYdx5",
        "outputId": "d0440cc8-01f6-47a8-d389-c8b1932d7794"
      },
      "execution_count": 41,
      "outputs": [
        {
          "output_type": "stream",
          "name": "stdout",
          "text": [
            "[('kim', 10), ('park', 20)]\n"
          ]
        }
      ]
    },
    {
      "cell_type": "code",
      "source": [
        "# map 함수\n",
        "# map 함수의 반환 값은 map 객체이기 때문에 해당 자료형을 list 혹은 tuple로 형 변환시켜주어야 한다.\n",
        "\n",
        "def plus_ten(x):\n",
        "  return x+10\n",
        "\n",
        "list(map(plus_ten,[10,20,30]))"
      ],
      "metadata": {
        "colab": {
          "base_uri": "https://localhost:8080/"
        },
        "id": "USGfLpiEYiJw",
        "outputId": "ce94c536-94ff-4335-d9f5-31cc53520b2c"
      },
      "execution_count": 42,
      "outputs": [
        {
          "output_type": "execute_result",
          "data": {
            "text/plain": [
              "[20, 30, 40]"
            ]
          },
          "metadata": {},
          "execution_count": 42
        }
      ]
    },
    {
      "cell_type": "code",
      "source": [
        "list(map(lambda x : x+10,[10,20,30]))"
      ],
      "metadata": {
        "colab": {
          "base_uri": "https://localhost:8080/"
        },
        "id": "g1V847HQcDKi",
        "outputId": "6e60aaa8-51d3-432f-86d2-1a96d3540de1"
      },
      "execution_count": 43,
      "outputs": [
        {
          "output_type": "execute_result",
          "data": {
            "text/plain": [
              "[20, 30, 40]"
            ]
          },
          "metadata": {},
          "execution_count": 43
        }
      ]
    },
    {
      "cell_type": "markdown",
      "source": [
        "# 파일 입출력"
      ],
      "metadata": {
        "id": "sjJYjPIpdUfh"
      }
    },
    {
      "cell_type": "code",
      "source": [
        "fw=open(\"test.txt\",\"w\") # w : 쓰기\n",
        "fw.write(\"i am a student\")\n",
        "fw.close()"
      ],
      "metadata": {
        "id": "Xhk8JE6ScJ4C"
      },
      "execution_count": 45,
      "outputs": []
    },
    {
      "cell_type": "code",
      "source": [
        "fw=open(\"test2.txt\",\"a\") # a : 이어서 쓰기\n",
        "fw.write(\"dkkdkdkdkdkdk\\n\")\n",
        "fw.close()"
      ],
      "metadata": {
        "id": "KhNgj_vUdppB"
      },
      "execution_count": 52,
      "outputs": []
    },
    {
      "cell_type": "code",
      "source": [
        "fr=open(\"test.txt\",\"r\") # r : 읽기\n",
        "b=fr.readlines()\n",
        "fr.close()\n",
        "\n",
        "print(b)\n"
      ],
      "metadata": {
        "colab": {
          "base_uri": "https://localhost:8080/"
        },
        "id": "nQZv2dCSd5JK",
        "outputId": "4dc36876-44aa-49d5-fa63-5beccb3c9bf6"
      },
      "execution_count": 61,
      "outputs": [
        {
          "output_type": "stream",
          "name": "stdout",
          "text": [
            "['dkkdkdkdkdkdkdkkdkdkdkdkdkdkkdkdkdkdkdk\\n', 'dkkdkdkdkdkdk\\n', 'dkkdkdkdkdkdk\\n']\n"
          ]
        }
      ]
    },
    {
      "cell_type": "code",
      "source": [
        "result=[]\n",
        "for line in b:\n",
        "  result.append(line.replace('\\n',''))"
      ],
      "metadata": {
        "id": "6FjaJKOHe1DE"
      },
      "execution_count": 62,
      "outputs": []
    },
    {
      "cell_type": "code",
      "source": [
        "' '.join(result)"
      ],
      "metadata": {
        "colab": {
          "base_uri": "https://localhost:8080/",
          "height": 35
        },
        "id": "pNofRk1afuwS",
        "outputId": "083972e6-a408-4303-fb25-735db11c8ee9"
      },
      "execution_count": 64,
      "outputs": [
        {
          "output_type": "execute_result",
          "data": {
            "text/plain": [
              "'dkkdkdkdkdkdkdkkdkdkdkdkdkdkkdkdkdkdkdk dkkdkdkdkdkdk dkkdkdkdkdkdk'"
            ],
            "application/vnd.google.colaboratory.intrinsic+json": {
              "type": "string"
            }
          },
          "metadata": {},
          "execution_count": 64
        }
      ]
    },
    {
      "cell_type": "code",
      "source": [
        "import pickle"
      ],
      "metadata": {
        "id": "qWu0OS2Cfveb"
      },
      "execution_count": 65,
      "outputs": []
    },
    {
      "cell_type": "code",
      "source": [
        "d1 = {}\n",
        "d2 = {}\n",
        "\n",
        "for i in range(1,7):\n",
        "  for j in range(1,7):\n",
        "    if i+j not in d2.keys():\n",
        "      d1[i+j]=1\n",
        "      d2[i+j]=[[i,j]]\n",
        "    else:\n",
        "      d1[i+j]+=1\n",
        "      d2[i+j].append([i,j])"
      ],
      "metadata": {
        "id": "Cmx6cw_igYkL"
      },
      "execution_count": 66,
      "outputs": []
    },
    {
      "cell_type": "code",
      "source": [
        "d1"
      ],
      "metadata": {
        "colab": {
          "base_uri": "https://localhost:8080/"
        },
        "id": "7e22i3EcgrVb",
        "outputId": "b0421e21-be93-4400-c618-b67a376632ab"
      },
      "execution_count": 67,
      "outputs": [
        {
          "output_type": "execute_result",
          "data": {
            "text/plain": [
              "{2: 1, 3: 2, 4: 3, 5: 4, 6: 5, 7: 6, 8: 5, 9: 4, 10: 3, 11: 2, 12: 1}"
            ]
          },
          "metadata": {},
          "execution_count": 67
        }
      ]
    },
    {
      "cell_type": "code",
      "source": [
        "d2"
      ],
      "metadata": {
        "colab": {
          "base_uri": "https://localhost:8080/"
        },
        "id": "jsuQe28sgr4S",
        "outputId": "2dc02a84-d37e-4661-e4b9-007a99c4cb0e"
      },
      "execution_count": 69,
      "outputs": [
        {
          "output_type": "execute_result",
          "data": {
            "text/plain": [
              "{2: [[1, 1]],\n",
              " 3: [[1, 2], [2, 1]],\n",
              " 4: [[1, 3], [2, 2], [3, 1]],\n",
              " 5: [[1, 4], [2, 3], [3, 2], [4, 1]],\n",
              " 6: [[1, 5], [2, 4], [3, 3], [4, 2], [5, 1]],\n",
              " 7: [[1, 6], [2, 5], [3, 4], [4, 3], [5, 2], [6, 1]],\n",
              " 8: [[2, 6], [3, 5], [4, 4], [5, 3], [6, 2]],\n",
              " 9: [[3, 6], [4, 5], [5, 4], [6, 3]],\n",
              " 10: [[4, 6], [5, 5], [6, 4]],\n",
              " 11: [[5, 6], [6, 5]],\n",
              " 12: [[6, 6]]}"
            ]
          },
          "metadata": {},
          "execution_count": 69
        }
      ]
    },
    {
      "cell_type": "code",
      "source": [
        "fw=open(\"data.pickle\",\"wb\") # 이진 형식일때는 wb\n",
        "pickle.dump(d2, fw) # d2 딕셔너리를 열려있는 fw에 넣어준다\n",
        "fw.close()"
      ],
      "metadata": {
        "id": "ElEsW__7gsOa"
      },
      "execution_count": 72,
      "outputs": []
    },
    {
      "cell_type": "markdown",
      "source": [
        "# with ~ as 는 close()를 하지 않아도 with~as 구문이 끝나면 자동으로 객체를 close 해준다"
      ],
      "metadata": {
        "id": "vfjbssZEiAhK"
      }
    },
    {
      "cell_type": "code",
      "source": [
        "with open(\"data.pickle\",\"rb\") as fr:\n",
        "  di = pickle.load(fr)\n",
        "\n",
        "print(di)"
      ],
      "metadata": {
        "colab": {
          "base_uri": "https://localhost:8080/"
        },
        "id": "rZEJMTPChJaN",
        "outputId": "d4e5aaf0-a5f7-4e71-ffd8-fc38fff31901"
      },
      "execution_count": 74,
      "outputs": [
        {
          "output_type": "stream",
          "name": "stdout",
          "text": [
            "{2: [[1, 1]], 3: [[1, 2], [2, 1]], 4: [[1, 3], [2, 2], [3, 1]], 5: [[1, 4], [2, 3], [3, 2], [4, 1]], 6: [[1, 5], [2, 4], [3, 3], [4, 2], [5, 1]], 7: [[1, 6], [2, 5], [3, 4], [4, 3], [5, 2], [6, 1]], 8: [[2, 6], [3, 5], [4, 4], [5, 3], [6, 2]], 9: [[3, 6], [4, 5], [5, 4], [6, 3]], 10: [[4, 6], [5, 5], [6, 4]], 11: [[5, 6], [6, 5]], 12: [[6, 6]]}\n"
          ]
        }
      ]
    },
    {
      "cell_type": "code",
      "source": [
        "from google.colab import drive\n",
        "drive.mount('/content/drive')"
      ],
      "metadata": {
        "colab": {
          "base_uri": "https://localhost:8080/"
        },
        "id": "P9e1x-Wpi4Oz",
        "outputId": "014b5eeb-df39-452d-a2ad-1ddd3a57fd5a"
      },
      "execution_count": 75,
      "outputs": [
        {
          "output_type": "stream",
          "name": "stdout",
          "text": [
            "Mounted at /content/drive\n"
          ]
        }
      ]
    },
    {
      "cell_type": "code",
      "source": [
        "ls"
      ],
      "metadata": {
        "colab": {
          "base_uri": "https://localhost:8080/"
        },
        "id": "OlgQj_HKi-Iz",
        "outputId": "531186d0-0a99-4874-ad2f-0a485ce00bb4"
      },
      "execution_count": 79,
      "outputs": [
        {
          "output_type": "stream",
          "name": "stdout",
          "text": [
            " \u001b[0m\u001b[01;34mbigdata2023\u001b[0m/       '제목 없는 다이어그램 (1).drawio'\n",
            "\u001b[01;34m'Colab Notebooks'\u001b[0m/  '제목 없는 다이어그램 (2).drawio'\n",
            " tips.csv           '제목 없는 다이어그램.drawio'\n",
            " \u001b[01;34myolov3\u001b[0m/            '파이썬_3일_강사.ipynb의 사본'\n"
          ]
        }
      ]
    },
    {
      "cell_type": "code",
      "source": [],
      "metadata": {
        "id": "G71YV4fUi9_b"
      },
      "execution_count": null,
      "outputs": []
    },
    {
      "cell_type": "code",
      "source": [
        "\n"
      ],
      "metadata": {
        "id": "C-BDh6QjhrIT"
      },
      "execution_count": 81,
      "outputs": []
    },
    {
      "cell_type": "code",
      "source": [
        "fileName = \"/content/drive/MyDrive/tips.csv\"\n",
        "\n",
        "with open(fileName,'r')as fr:\n",
        "  title=fr.readline()\n",
        "\n",
        "with open(fileName,'r')as fr:\n",
        "  a=fr.readlines()\n",
        "\n",
        "title= title.replace('\\n','').split(',')\n",
        "title"
      ],
      "metadata": {
        "colab": {
          "base_uri": "https://localhost:8080/"
        },
        "id": "op6K5zLEjb8k",
        "outputId": "b843ab7b-6cb1-4533-d0ed-c2de52fb50bb"
      },
      "execution_count": 103,
      "outputs": [
        {
          "output_type": "execute_result",
          "data": {
            "text/plain": [
              "['total_bill', 'tip', 'smoker', 'day', 'time', 'size']"
            ]
          },
          "metadata": {},
          "execution_count": 103
        }
      ]
    },
    {
      "cell_type": "code",
      "source": [
        "info=[]\n",
        "for i in a:\n",
        "  info.append(i.replace('\\n','').split(','))\n",
        "\n",
        "info"
      ],
      "metadata": {
        "colab": {
          "base_uri": "https://localhost:8080/"
        },
        "id": "kQcreZuhje67",
        "outputId": "7ca95a28-e63a-442b-946c-f88590b37ff9"
      },
      "execution_count": 99,
      "outputs": [
        {
          "output_type": "execute_result",
          "data": {
            "text/plain": [
              "[['total_bill', 'tip', 'smoker', 'day', 'time', 'size'],\n",
              " ['16.99', '1.01', 'No', 'Sun', 'Dinner', '2'],\n",
              " ['10.34', '1.66', 'No', 'Sun', 'Dinner', '3'],\n",
              " ['21.01', '3.5', 'No', 'Sun', 'Dinner', '3'],\n",
              " ['23.68', '3.31', 'No', 'Sun', 'Dinner', '2'],\n",
              " ['24.59', '3.61', 'No', 'Sun', 'Dinner', '4'],\n",
              " ['25.29', '4.71', 'No', 'Sun', 'Dinner', '4'],\n",
              " ['8.77', '2.0', 'No', 'Sun', 'Dinner', '2'],\n",
              " ['26.88', '3.12', 'No', 'Sun', 'Dinner', '4'],\n",
              " ['15.04', '1.96', 'No', 'Sun', 'Dinner', '2'],\n",
              " ['14.78', '3.23', 'No', 'Sun', 'Dinner', '2'],\n",
              " ['10.27', '1.71', 'No', 'Sun', 'Dinner', '2'],\n",
              " ['35.26', '5.0', 'No', 'Sun', 'Dinner', '4'],\n",
              " ['15.42', '1.57', 'No', 'Sun', 'Dinner', '2'],\n",
              " ['18.43', '3.0', 'No', 'Sun', 'Dinner', '4'],\n",
              " ['14.83', '3.02', 'No', 'Sun', 'Dinner', '2'],\n",
              " ['21.58', '3.92', 'No', 'Sun', 'Dinner', '2'],\n",
              " ['10.33', '1.67', 'No', 'Sun', 'Dinner', '3'],\n",
              " ['16.29', '3.71', 'No', 'Sun', 'Dinner', '3'],\n",
              " ['16.97', '3.5', 'No', 'Sun', 'Dinner', '3'],\n",
              " ['20.65', '3.35', 'No', 'Sat', 'Dinner', '3'],\n",
              " ['17.92', '4.08', 'No', 'Sat', 'Dinner', '2'],\n",
              " ['20.29', '2.75', 'No', 'Sat', 'Dinner', '2'],\n",
              " ['15.77', '2.23', 'No', 'Sat', 'Dinner', '2'],\n",
              " ['39.42', '7.58', 'No', 'Sat', 'Dinner', '4'],\n",
              " ['19.82', '3.18', 'No', 'Sat', 'Dinner', '2'],\n",
              " ['17.81', '2.34', 'No', 'Sat', 'Dinner', '4'],\n",
              " ['13.37', '2.0', 'No', 'Sat', 'Dinner', '2'],\n",
              " ['12.69', '2.0', 'No', 'Sat', 'Dinner', '2'],\n",
              " ['21.7', '4.3', 'No', 'Sat', 'Dinner', '2'],\n",
              " ['19.65', '3.0', 'No', 'Sat', 'Dinner', '2'],\n",
              " ['9.55', '1.45', 'No', 'Sat', 'Dinner', '2'],\n",
              " ['18.35', '2.5', 'No', 'Sat', 'Dinner', '4'],\n",
              " ['15.06', '3.0', 'No', 'Sat', 'Dinner', '2'],\n",
              " ['20.69', '2.45', 'No', 'Sat', 'Dinner', '4'],\n",
              " ['17.78', '3.27', 'No', 'Sat', 'Dinner', '2'],\n",
              " ['24.06', '3.6', 'No', 'Sat', 'Dinner', '3'],\n",
              " ['16.31', '2.0', 'No', 'Sat', 'Dinner', '3'],\n",
              " ['16.93', '3.07', 'No', 'Sat', 'Dinner', '3'],\n",
              " ['18.69', '2.31', 'No', 'Sat', 'Dinner', '3'],\n",
              " ['31.27', '5.0', 'No', 'Sat', 'Dinner', '3'],\n",
              " ['16.04', '2.24', 'No', 'Sat', 'Dinner', '3'],\n",
              " ['17.46', '2.54', 'No', 'Sun', 'Dinner', '2'],\n",
              " ['13.94', '3.06', 'No', 'Sun', 'Dinner', '2'],\n",
              " ['9.68', '1.32', 'No', 'Sun', 'Dinner', '2'],\n",
              " ['30.4', '5.6', 'No', 'Sun', 'Dinner', '4'],\n",
              " ['18.29', '3.0', 'No', 'Sun', 'Dinner', '2'],\n",
              " ['22.23', '5.0', 'No', 'Sun', 'Dinner', '2'],\n",
              " ['32.4', '6.0', 'No', 'Sun', 'Dinner', '4'],\n",
              " ['28.55', '2.05', 'No', 'Sun', 'Dinner', '3'],\n",
              " ['18.04', '3.0', 'No', 'Sun', 'Dinner', '2'],\n",
              " ['12.54', '2.5', 'No', 'Sun', 'Dinner', '2'],\n",
              " ['10.29', '2.6', 'No', 'Sun', 'Dinner', '2'],\n",
              " ['34.81', '5.2', 'No', 'Sun', 'Dinner', '4'],\n",
              " ['9.94', '1.56', 'No', 'Sun', 'Dinner', '2'],\n",
              " ['25.56', '4.34', 'No', 'Sun', 'Dinner', '4'],\n",
              " ['19.49', '3.51', 'No', 'Sun', 'Dinner', '2'],\n",
              " ['38.01', '3.0', 'Yes', 'Sat', 'Dinner', '4'],\n",
              " ['26.41', '1.5', 'No', 'Sat', 'Dinner', '2'],\n",
              " ['11.24', '1.76', 'Yes', 'Sat', 'Dinner', '2'],\n",
              " ['48.27', '6.73', 'No', 'Sat', 'Dinner', '4'],\n",
              " ['20.29', '3.21', 'Yes', 'Sat', 'Dinner', '2'],\n",
              " ['13.81', '2.0', 'Yes', 'Sat', 'Dinner', '2'],\n",
              " ['11.02', '1.98', 'Yes', 'Sat', 'Dinner', '2'],\n",
              " ['18.29', '3.76', 'Yes', 'Sat', 'Dinner', '4'],\n",
              " ['17.59', '2.64', 'No', 'Sat', 'Dinner', '3'],\n",
              " ['20.08', '3.15', 'No', 'Sat', 'Dinner', '3'],\n",
              " ['16.45', '2.47', 'No', 'Sat', 'Dinner', '2'],\n",
              " ['3.07', '1.0', 'Yes', 'Sat', 'Dinner', '1'],\n",
              " ['20.23', '2.01', 'No', 'Sat', 'Dinner', '2'],\n",
              " ['15.01', '2.09', 'Yes', 'Sat', 'Dinner', '2'],\n",
              " ['12.02', '1.97', 'No', 'Sat', 'Dinner', '2'],\n",
              " ['17.07', '3.0', 'No', 'Sat', 'Dinner', '3'],\n",
              " ['26.86', '3.14', 'Yes', 'Sat', 'Dinner', '2'],\n",
              " ['25.28', '5.0', 'Yes', 'Sat', 'Dinner', '2'],\n",
              " ['14.73', '2.2', 'No', 'Sat', 'Dinner', '2'],\n",
              " ['10.51', '1.25', 'No', 'Sat', 'Dinner', '2'],\n",
              " ['17.92', '3.08', 'Yes', 'Sat', 'Dinner', '2'],\n",
              " ['27.2', '4.0', 'No', 'Thur', 'Lunch', '4'],\n",
              " ['22.76', '3.0', 'No', 'Thur', 'Lunch', '2'],\n",
              " ['17.29', '2.71', 'No', 'Thur', 'Lunch', '2'],\n",
              " ['19.44', '3.0', 'Yes', 'Thur', 'Lunch', '2'],\n",
              " ['16.66', '3.4', 'No', 'Thur', 'Lunch', '2'],\n",
              " ['10.07', '1.83', 'No', 'Thur', 'Lunch', '1'],\n",
              " ['32.68', '5.0', 'Yes', 'Thur', 'Lunch', '2'],\n",
              " ['15.98', '2.03', 'No', 'Thur', 'Lunch', '2'],\n",
              " ['34.83', '5.17', 'No', 'Thur', 'Lunch', '4'],\n",
              " ['13.03', '2.0', 'No', 'Thur', 'Lunch', '2'],\n",
              " ['18.28', '4.0', 'No', 'Thur', 'Lunch', '2'],\n",
              " ['24.71', '5.85', 'No', 'Thur', 'Lunch', '2'],\n",
              " ['21.16', '3.0', 'No', 'Thur', 'Lunch', '2'],\n",
              " ['28.97', '3.0', 'Yes', 'Fri', 'Dinner', '2'],\n",
              " ['22.49', '3.5', 'No', 'Fri', 'Dinner', '2'],\n",
              " ['5.75', '1.0', 'Yes', 'Fri', 'Dinner', '2'],\n",
              " ['16.32', '4.3', 'Yes', 'Fri', 'Dinner', '2'],\n",
              " ['22.75', '3.25', 'No', 'Fri', 'Dinner', '2'],\n",
              " ['40.17', '4.73', 'Yes', 'Fri', 'Dinner', '4'],\n",
              " ['27.28', '4.0', 'Yes', 'Fri', 'Dinner', '2'],\n",
              " ['12.03', '1.5', 'Yes', 'Fri', 'Dinner', '2'],\n",
              " ['21.01', '3.0', 'Yes', 'Fri', 'Dinner', '2'],\n",
              " ['12.46', '1.5', 'No', 'Fri', 'Dinner', '2'],\n",
              " ['11.35', '2.5', 'Yes', 'Fri', 'Dinner', '2'],\n",
              " ['15.38', '3.0', 'Yes', 'Fri', 'Dinner', '2'],\n",
              " ['44.3', '2.5', 'Yes', 'Sat', 'Dinner', '3'],\n",
              " ['22.42', '3.48', 'Yes', 'Sat', 'Dinner', '2'],\n",
              " ['20.92', '4.08', 'No', 'Sat', 'Dinner', '2'],\n",
              " ['15.36', '1.64', 'Yes', 'Sat', 'Dinner', '2'],\n",
              " ['20.49', '4.06', 'Yes', 'Sat', 'Dinner', '2'],\n",
              " ['25.21', '4.29', 'Yes', 'Sat', 'Dinner', '2'],\n",
              " ['18.24', '3.76', 'No', 'Sat', 'Dinner', '2'],\n",
              " ['14.31', '4.0', 'Yes', 'Sat', 'Dinner', '2'],\n",
              " ['14.0', '3.0', 'No', 'Sat', 'Dinner', '2'],\n",
              " ['7.25', '1.0', 'No', 'Sat', 'Dinner', '1'],\n",
              " ['38.07', '4.0', 'No', 'Sun', 'Dinner', '3'],\n",
              " ['23.95', '2.55', 'No', 'Sun', 'Dinner', '2'],\n",
              " ['25.71', '4.0', 'No', 'Sun', 'Dinner', '3'],\n",
              " ['17.31', '3.5', 'No', 'Sun', 'Dinner', '2'],\n",
              " ['29.93', '5.07', 'No', 'Sun', 'Dinner', '4'],\n",
              " ['10.65', '1.5', 'No', 'Thur', 'Lunch', '2'],\n",
              " ['12.43', '1.8', 'No', 'Thur', 'Lunch', '2'],\n",
              " ['24.08', '2.92', 'No', 'Thur', 'Lunch', '4'],\n",
              " ['11.69', '2.31', 'No', 'Thur', 'Lunch', '2'],\n",
              " ['13.42', '1.68', 'No', 'Thur', 'Lunch', '2'],\n",
              " ['14.26', '2.5', 'No', 'Thur', 'Lunch', '2'],\n",
              " ['15.95', '2.0', 'No', 'Thur', 'Lunch', '2'],\n",
              " ['12.48', '2.52', 'No', 'Thur', 'Lunch', '2'],\n",
              " ['29.8', '4.2', 'No', 'Thur', 'Lunch', '6'],\n",
              " ['8.52', '1.48', 'No', 'Thur', 'Lunch', '2'],\n",
              " ['14.52', '2.0', 'No', 'Thur', 'Lunch', '2'],\n",
              " ['11.38', '2.0', 'No', 'Thur', 'Lunch', '2'],\n",
              " ['22.82', '2.18', 'No', 'Thur', 'Lunch', '3'],\n",
              " ['19.08', '1.5', 'No', 'Thur', 'Lunch', '2'],\n",
              " ['20.27', '2.83', 'No', 'Thur', 'Lunch', '2'],\n",
              " ['11.17', '1.5', 'No', 'Thur', 'Lunch', '2'],\n",
              " ['12.26', '2.0', 'No', 'Thur', 'Lunch', '2'],\n",
              " ['18.26', '3.25', 'No', 'Thur', 'Lunch', '2'],\n",
              " ['8.51', '1.25', 'No', 'Thur', 'Lunch', '2'],\n",
              " ['10.33', '2.0', 'No', 'Thur', 'Lunch', '2'],\n",
              " ['14.15', '2.0', 'No', 'Thur', 'Lunch', '2'],\n",
              " ['16.0', '2.0', 'Yes', 'Thur', 'Lunch', '2'],\n",
              " ['13.16', '2.75', 'No', 'Thur', 'Lunch', '2'],\n",
              " ['17.47', '3.5', 'No', 'Thur', 'Lunch', '2'],\n",
              " ['34.3', '6.7', 'No', 'Thur', 'Lunch', '6'],\n",
              " ['41.19', '5.0', 'No', 'Thur', 'Lunch', '5'],\n",
              " ['27.05', '5.0', 'No', 'Thur', 'Lunch', '6'],\n",
              " ['16.43', '2.3', 'No', 'Thur', 'Lunch', '2'],\n",
              " ['8.35', '1.5', 'No', 'Thur', 'Lunch', '2'],\n",
              " ['18.64', '1.36', 'No', 'Thur', 'Lunch', '3'],\n",
              " ['11.87', '1.63', 'No', 'Thur', 'Lunch', '2'],\n",
              " ['9.78', '1.73', 'No', 'Thur', 'Lunch', '2'],\n",
              " ['7.51', '2.0', 'No', 'Thur', 'Lunch', '2'],\n",
              " ['14.07', '2.5', 'No', 'Sun', 'Dinner', '2'],\n",
              " ['13.13', '2.0', 'No', 'Sun', 'Dinner', '2'],\n",
              " ['17.26', '2.74', 'No', 'Sun', 'Dinner', '3'],\n",
              " ['24.55', '2.0', 'No', 'Sun', 'Dinner', '4'],\n",
              " ['19.77', '2.0', 'No', 'Sun', 'Dinner', '4'],\n",
              " ['29.85', '5.14', 'No', 'Sun', 'Dinner', '5'],\n",
              " ['48.17', '5.0', 'No', 'Sun', 'Dinner', '6'],\n",
              " ['25.0', '3.75', 'No', 'Sun', 'Dinner', '4'],\n",
              " ['13.39', '2.61', 'No', 'Sun', 'Dinner', '2'],\n",
              " ['16.49', '2.0', 'No', 'Sun', 'Dinner', '4'],\n",
              " ['21.5', '3.5', 'No', 'Sun', 'Dinner', '4'],\n",
              " ['12.66', '2.5', 'No', 'Sun', 'Dinner', '2'],\n",
              " ['16.21', '2.0', 'No', 'Sun', 'Dinner', '3'],\n",
              " ['13.81', '2.0', 'No', 'Sun', 'Dinner', '2'],\n",
              " ['17.51', '3.0', 'Yes', 'Sun', 'Dinner', '2'],\n",
              " ['24.52', '3.48', 'No', 'Sun', 'Dinner', '3'],\n",
              " ['20.76', '2.24', 'No', 'Sun', 'Dinner', '2'],\n",
              " ['31.71', '4.5', 'No', 'Sun', 'Dinner', '4'],\n",
              " ['10.59', '1.61', 'Yes', 'Sat', 'Dinner', '2'],\n",
              " ['10.63', '2.0', 'Yes', 'Sat', 'Dinner', '2'],\n",
              " ['50.81', '10.0', 'Yes', 'Sat', 'Dinner', '3'],\n",
              " ['15.81', '3.16', 'Yes', 'Sat', 'Dinner', '2'],\n",
              " ['7.25', '5.15', 'Yes', 'Sun', 'Dinner', '2'],\n",
              " ['31.85', '3.18', 'Yes', 'Sun', 'Dinner', '2'],\n",
              " ['16.82', '4.0', 'Yes', 'Sun', 'Dinner', '2'],\n",
              " ['32.9', '3.11', 'Yes', 'Sun', 'Dinner', '2'],\n",
              " ['17.89', '2.0', 'Yes', 'Sun', 'Dinner', '2'],\n",
              " ['14.48', '2.0', 'Yes', 'Sun', 'Dinner', '2'],\n",
              " ['9.6', '4.0', 'Yes', 'Sun', 'Dinner', '2'],\n",
              " ['34.63', '3.55', 'Yes', 'Sun', 'Dinner', '2'],\n",
              " ['34.65', '3.68', 'Yes', 'Sun', 'Dinner', '4'],\n",
              " ['23.33', '5.65', 'Yes', 'Sun', 'Dinner', '2'],\n",
              " ['45.35', '3.5', 'Yes', 'Sun', 'Dinner', '3'],\n",
              " ['23.17', '6.5', 'Yes', 'Sun', 'Dinner', '4'],\n",
              " ['40.55', '3.0', 'Yes', 'Sun', 'Dinner', '2'],\n",
              " ['20.69', '5.0', 'No', 'Sun', 'Dinner', '5'],\n",
              " ['20.9', '3.5', 'Yes', 'Sun', 'Dinner', '3'],\n",
              " ['30.46', '2.0', 'Yes', 'Sun', 'Dinner', '5'],\n",
              " ['18.15', '3.5', 'Yes', 'Sun', 'Dinner', '3'],\n",
              " ['23.1', '4.0', 'Yes', 'Sun', 'Dinner', '3'],\n",
              " ['15.69', '1.5', 'Yes', 'Sun', 'Dinner', '2'],\n",
              " ['19.81', '4.19', 'Yes', 'Thur', 'Lunch', '2'],\n",
              " ['28.44', '2.56', 'Yes', 'Thur', 'Lunch', '2'],\n",
              " ['15.48', '2.02', 'Yes', 'Thur', 'Lunch', '2'],\n",
              " ['16.58', '4.0', 'Yes', 'Thur', 'Lunch', '2'],\n",
              " ['7.56', '1.44', 'No', 'Thur', 'Lunch', '2'],\n",
              " ['10.34', '2.0', 'Yes', 'Thur', 'Lunch', '2'],\n",
              " ['43.11', '5.0', 'Yes', 'Thur', 'Lunch', '4'],\n",
              " ['13.0', '2.0', 'Yes', 'Thur', 'Lunch', '2'],\n",
              " ['13.51', '2.0', 'Yes', 'Thur', 'Lunch', '2'],\n",
              " ['18.71', '4.0', 'Yes', 'Thur', 'Lunch', '3'],\n",
              " ['12.74', '2.01', 'Yes', 'Thur', 'Lunch', '2'],\n",
              " ['13.0', '2.0', 'Yes', 'Thur', 'Lunch', '2'],\n",
              " ['16.4', '2.5', 'Yes', 'Thur', 'Lunch', '2'],\n",
              " ['20.53', '4.0', 'Yes', 'Thur', 'Lunch', '4'],\n",
              " ['16.47', '3.23', 'Yes', 'Thur', 'Lunch', '3'],\n",
              " ['26.59', '3.41', 'Yes', 'Sat', 'Dinner', '3'],\n",
              " ['38.73', '3.0', 'Yes', 'Sat', 'Dinner', '4'],\n",
              " ['24.27', '2.03', 'Yes', 'Sat', 'Dinner', '2'],\n",
              " ['12.76', '2.23', 'Yes', 'Sat', 'Dinner', '2'],\n",
              " ['30.06', '2.0', 'Yes', 'Sat', 'Dinner', '3'],\n",
              " ['25.89', '5.16', 'Yes', 'Sat', 'Dinner', '4'],\n",
              " ['48.33', '9.0', 'No', 'Sat', 'Dinner', '4'],\n",
              " ['13.27', '2.5', 'Yes', 'Sat', 'Dinner', '2'],\n",
              " ['28.17', '6.5', 'Yes', 'Sat', 'Dinner', '3'],\n",
              " ['12.9', '1.1', 'Yes', 'Sat', 'Dinner', '2'],\n",
              " ['28.15', '3.0', 'Yes', 'Sat', 'Dinner', '5'],\n",
              " ['11.59', '1.5', 'Yes', 'Sat', 'Dinner', '2'],\n",
              " ['7.74', '1.44', 'Yes', 'Sat', 'Dinner', '2'],\n",
              " ['30.14', '3.09', 'Yes', 'Sat', 'Dinner', '4'],\n",
              " ['12.16', '2.2', 'Yes', 'Fri', 'Lunch', '2'],\n",
              " ['13.42', '3.48', 'Yes', 'Fri', 'Lunch', '2'],\n",
              " ['8.58', '1.92', 'Yes', 'Fri', 'Lunch', '1'],\n",
              " ['15.98', '3.0', 'No', 'Fri', 'Lunch', '3'],\n",
              " ['13.42', '1.58', 'Yes', 'Fri', 'Lunch', '2'],\n",
              " ['16.27', '2.5', 'Yes', 'Fri', 'Lunch', '2'],\n",
              " ['10.09', '2.0', 'Yes', 'Fri', 'Lunch', '2'],\n",
              " ['20.45', '3.0', 'No', 'Sat', 'Dinner', '4'],\n",
              " ['13.28', '2.72', 'No', 'Sat', 'Dinner', '2'],\n",
              " ['22.12', '2.88', 'Yes', 'Sat', 'Dinner', '2'],\n",
              " ['24.01', '2.0', 'Yes', 'Sat', 'Dinner', '4'],\n",
              " ['15.69', '3.0', 'Yes', 'Sat', 'Dinner', '3'],\n",
              " ['11.61', '3.39', 'No', 'Sat', 'Dinner', '2'],\n",
              " ['10.77', '1.47', 'No', 'Sat', 'Dinner', '2'],\n",
              " ['15.53', '3.0', 'Yes', 'Sat', 'Dinner', '2'],\n",
              " ['10.07', '1.25', 'No', 'Sat', 'Dinner', '2'],\n",
              " ['12.6', '1.0', 'Yes', 'Sat', 'Dinner', '2'],\n",
              " ['32.83', '1.17', 'Yes', 'Sat', 'Dinner', '2'],\n",
              " ['35.83', '4.67', 'No', 'Sat', 'Dinner', '3'],\n",
              " ['29.03', '5.92', 'No', 'Sat', 'Dinner', '3'],\n",
              " ['27.18', '2.0', 'Yes', 'Sat', 'Dinner', '2'],\n",
              " ['22.67', '2.0', 'Yes', 'Sat', 'Dinner', '2'],\n",
              " ['17.82', '1.75', 'No', 'Sat', 'Dinner', '2'],\n",
              " ['18.78', '3.0', 'No', 'Thur', 'Dinner', '2']]"
            ]
          },
          "metadata": {},
          "execution_count": 99
        }
      ]
    },
    {
      "cell_type": "code",
      "source": [
        "list_smoker = []\n",
        "\n",
        "\n",
        "for i in info:\n",
        "  if i[0] == title[0]:\n",
        "    continue\n",
        "  list_smoker.append(i[2])"
      ],
      "metadata": {
        "id": "Tebxm4T1jpVv"
      },
      "execution_count": 107,
      "outputs": []
    },
    {
      "cell_type": "code",
      "source": [
        "set(list_smoker)"
      ],
      "metadata": {
        "colab": {
          "base_uri": "https://localhost:8080/"
        },
        "id": "YcQf4n4ck75L",
        "outputId": "71a23568-e924-4780-9160-bf9e4c7693db"
      },
      "execution_count": 110,
      "outputs": [
        {
          "output_type": "execute_result",
          "data": {
            "text/plain": [
              "{'No', 'Yes'}"
            ]
          },
          "metadata": {},
          "execution_count": 110
        }
      ]
    },
    {
      "cell_type": "code",
      "source": [
        "with open(fileName,'r')as fr:\n",
        "  title=fr.readline().strip().split(',')\n",
        "  lines=fr.readlines()\n",
        "\n",
        "\n",
        "rows=[line.strip().split(',') for line in lines]\n",
        "cols=list(zip(*rows)) # *이 가장 밖에 있는 대괄호를 없애준다.\n",
        "\n",
        "print(\"smoker : \",set(cols[2]))\n",
        "print(\"day : \",set(cols[3]))\n",
        "print(\"time : \",set(cols[4]))\n",
        "\n",
        "for name,col in zip(title,cols):\n",
        "  try:\n",
        "    float(col[0])\n",
        "  except ValueError:\n",
        "    print(\"{0} : {1}\".format(name,set(col)))"
      ],
      "metadata": {
        "colab": {
          "base_uri": "https://localhost:8080/"
        },
        "id": "zfM_xveFmFn0",
        "outputId": "1cd985f5-6202-413a-a701-aafcee185fd7"
      },
      "execution_count": 153,
      "outputs": [
        {
          "output_type": "stream",
          "name": "stdout",
          "text": [
            "smoker :  {'Yes', 'No'}\n",
            "day :  {'Thur', 'Fri', 'Sun', 'Sat'}\n",
            "time :  {'Dinner', 'Lunch'}\n",
            "smoker : {'Yes', 'No'}\n",
            "day : {'Thur', 'Fri', 'Sun', 'Sat'}\n",
            "time : {'Dinner', 'Lunch'}\n"
          ]
        }
      ]
    },
    {
      "cell_type": "code",
      "source": [],
      "metadata": {
        "id": "_050Q3o_pB0N"
      },
      "execution_count": 175,
      "outputs": []
    },
    {
      "cell_type": "code",
      "source": [
        "def check_type(s):\n",
        "  try:\n",
        "    int(s)\n",
        "    return 'integer'\n",
        "  except ValueError:\n",
        "    try:\n",
        "      float(s)\n",
        "      return 'float'\n",
        "    except ValueError:\n",
        "      return 'string'\n",
        "if __name__ == '__main__':\n",
        "  print(check_type('12'))\n",
        "  print(check_type('1.23'))\n",
        "  print(check_type('ab'))"
      ],
      "metadata": {
        "colab": {
          "base_uri": "https://localhost:8080/"
        },
        "id": "gMWqsP14pcl1",
        "outputId": "6e2ad59a-d1bb-4448-f5d4-c94c94bbf805"
      },
      "execution_count": 178,
      "outputs": [
        {
          "output_type": "stream",
          "name": "stdout",
          "text": [
            "integer\n",
            "float\n",
            "string\n"
          ]
        }
      ]
    },
    {
      "cell_type": "code",
      "source": [
        "\n"
      ],
      "metadata": {
        "id": "lsJJIsJLqO2N"
      },
      "execution_count": 202,
      "outputs": []
    },
    {
      "cell_type": "code",
      "source": [],
      "metadata": {
        "colab": {
          "base_uri": "https://localhost:8080/",
          "height": 266
        },
        "id": "k3wYSzETqRZV",
        "outputId": "8b47825e-27fe-4f8b-a7dc-60b828799efa"
      },
      "execution_count": 204,
      "outputs": [
        {
          "output_type": "error",
          "ename": "ValueError",
          "evalue": "ignored",
          "traceback": [
            "\u001b[0;31m---------------------------------------------------------------------------\u001b[0m",
            "\u001b[0;31mValueError\u001b[0m                                Traceback (most recent call last)",
            "\u001b[0;32m<ipython-input-204-58ba4e6479cf>\u001b[0m in \u001b[0;36m<cell line: 1>\u001b[0;34m()\u001b[0m\n\u001b[0;32m----> 1\u001b[0;31m \u001b[0mprint\u001b[0m\u001b[0;34m(\u001b[0m\u001b[0mcheck_type\u001b[0m\u001b[0;34m(\u001b[0m\u001b[0;34m'12.3'\u001b[0m\u001b[0;34m)\u001b[0m\u001b[0;34m)\u001b[0m\u001b[0;34m\u001b[0m\u001b[0;34m\u001b[0m\u001b[0m\n\u001b[0m",
            "\u001b[0;32m<ipython-input-202-4188a99ff5b3>\u001b[0m in \u001b[0;36mcheck_type\u001b[0;34m(s)\u001b[0m\n\u001b[1;32m      1\u001b[0m \u001b[0;32mdef\u001b[0m \u001b[0mcheck_type\u001b[0m\u001b[0;34m(\u001b[0m\u001b[0ms\u001b[0m\u001b[0;34m)\u001b[0m\u001b[0;34m:\u001b[0m\u001b[0;34m\u001b[0m\u001b[0;34m\u001b[0m\u001b[0m\n\u001b[0;32m----> 2\u001b[0;31m   \u001b[0;32mif\u001b[0m \u001b[0mtype\u001b[0m\u001b[0;34m(\u001b[0m\u001b[0mint\u001b[0m\u001b[0;34m(\u001b[0m\u001b[0ms\u001b[0m\u001b[0;34m)\u001b[0m\u001b[0;34m)\u001b[0m \u001b[0;32mis\u001b[0m \u001b[0mint\u001b[0m\u001b[0;34m:\u001b[0m\u001b[0;34m\u001b[0m\u001b[0;34m\u001b[0m\u001b[0m\n\u001b[0m\u001b[1;32m      3\u001b[0m     \u001b[0mprint\u001b[0m\u001b[0;34m(\u001b[0m\u001b[0mtype\u001b[0m\u001b[0;34m(\u001b[0m\u001b[0mint\u001b[0m\u001b[0;34m(\u001b[0m\u001b[0ms\u001b[0m\u001b[0;34m)\u001b[0m\u001b[0;34m)\u001b[0m\u001b[0;34m)\u001b[0m\u001b[0;34m\u001b[0m\u001b[0;34m\u001b[0m\u001b[0m\n",
            "\u001b[0;31mValueError\u001b[0m: invalid literal for int() with base 10: '12.3'"
          ]
        }
      ]
    },
    {
      "cell_type": "code",
      "source": [],
      "metadata": {
        "colab": {
          "base_uri": "https://localhost:8080/"
        },
        "id": "yOBcqCSouXJm",
        "outputId": "a38a33aa-8f35-4b68-d5fa-3f907e3f4741"
      },
      "execution_count": 197,
      "outputs": [
        {
          "output_type": "execute_result",
          "data": {
            "text/plain": [
              "12"
            ]
          },
          "metadata": {},
          "execution_count": 197
        }
      ]
    },
    {
      "cell_type": "code",
      "source": [],
      "metadata": {
        "id": "aALN57eN6fLQ"
      },
      "execution_count": null,
      "outputs": []
    }
  ]
}
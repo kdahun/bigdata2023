{
  "nbformat": 4,
  "nbformat_minor": 0,
  "metadata": {
    "colab": {
      "provenance": [],
      "include_colab_link": true
    },
    "kernelspec": {
      "name": "python3",
      "display_name": "Python 3"
    },
    "language_info": {
      "name": "python"
    }
  },
  "cells": [
    {
      "cell_type": "markdown",
      "metadata": {
        "id": "view-in-github",
        "colab_type": "text"
      },
      "source": [
        "<a href=\"https://colab.research.google.com/github/kdahun/bigdata2023/blob/main/python1day.ipynb\" target=\"_parent\"><img src=\"https://colab.research.google.com/assets/colab-badge.svg\" alt=\"Open In Colab\"/></a>"
      ]
    },
    {
      "cell_type": "markdown",
      "source": [
        "# 파이썬 기본 문법"
      ],
      "metadata": {
        "id": "ptlyEmqcG9_1"
      }
    },
    {
      "cell_type": "code",
      "source": [
        "from google.colab import drive\n",
        "drive.mount('/content/drive')"
      ],
      "metadata": {
        "colab": {
          "base_uri": "https://localhost:8080/"
        },
        "id": "ka_eKVgF09zI",
        "outputId": "8c3363cc-4405-4eec-ce2a-6fb8921838f3"
      },
      "execution_count": 1,
      "outputs": [
        {
          "output_type": "stream",
          "name": "stdout",
          "text": [
            "Mounted at /content/drive\n"
          ]
        }
      ]
    },
    {
      "cell_type": "code",
      "source": [],
      "metadata": {
        "id": "c_DUf-Rz097v"
      },
      "execution_count": null,
      "outputs": []
    },
    {
      "cell_type": "code",
      "source": [],
      "metadata": {
        "id": "hxP7mS5109_P"
      },
      "execution_count": null,
      "outputs": []
    },
    {
      "cell_type": "code",
      "source": [],
      "metadata": {
        "id": "SaBTRCK30-B_"
      },
      "execution_count": null,
      "outputs": []
    },
    {
      "cell_type": "markdown",
      "source": [
        "## 자료형"
      ],
      "metadata": {
        "id": "dDWMzlcHHSE6"
      }
    },
    {
      "cell_type": "markdown",
      "source": [
        "### 변수, 수치형"
      ],
      "metadata": {
        "id": "bad_Hg5hHUol"
      }
    },
    {
      "cell_type": "code",
      "execution_count": null,
      "metadata": {
        "colab": {
          "base_uri": "https://localhost:8080/"
        },
        "id": "oeBNq6TPGOUX",
        "outputId": "4ba9845c-efd6-4d7a-fc40-395a32a16a14"
      },
      "outputs": [
        {
          "output_type": "execute_result",
          "data": {
            "text/plain": [
              "4"
            ]
          },
          "metadata": {},
          "execution_count": 1
        }
      ],
      "source": [
        "# #은 주석임=>실행안됨\n",
        "2+2"
      ]
    },
    {
      "cell_type": "code",
      "source": [
        "#모듈불러와서 환경 살펴보기\n",
        "import sys\n",
        "sys.platform"
      ],
      "metadata": {
        "colab": {
          "base_uri": "https://localhost:8080/",
          "height": 35
        },
        "id": "2y6wH3JbICA1",
        "outputId": "e11efac1-09da-4d22-efb7-648595622d68"
      },
      "execution_count": null,
      "outputs": [
        {
          "output_type": "execute_result",
          "data": {
            "text/plain": [
              "'linux'"
            ],
            "application/vnd.google.colaboratory.intrinsic+json": {
              "type": "string"
            }
          },
          "metadata": {},
          "execution_count": 3
        }
      ]
    },
    {
      "cell_type": "code",
      "source": [
        "#변수선언: =\n",
        "a=7\n",
        "type(a) #어떤 객체?\n"
      ],
      "metadata": {
        "colab": {
          "base_uri": "https://localhost:8080/"
        },
        "id": "XWGaEoFoI_f8",
        "outputId": "8b96835b-4ba3-4dbf-de30-40229bcab9e7"
      },
      "execution_count": null,
      "outputs": [
        {
          "output_type": "execute_result",
          "data": {
            "text/plain": [
              "int"
            ]
          },
          "metadata": {},
          "execution_count": 4
        }
      ]
    },
    {
      "cell_type": "code",
      "source": [
        "a=7.5\n",
        "type(a)"
      ],
      "metadata": {
        "colab": {
          "base_uri": "https://localhost:8080/"
        },
        "id": "G9rMQj3vLId9",
        "outputId": "0458a915-4d55-401f-827c-609e8c3e8aa9"
      },
      "execution_count": null,
      "outputs": [
        {
          "output_type": "execute_result",
          "data": {
            "text/plain": [
              "float"
            ]
          },
          "metadata": {},
          "execution_count": 5
        }
      ]
    },
    {
      "cell_type": "code",
      "source": [
        "a=7 #int\n",
        "b=7.0 #float\n",
        "print(a==b) #boolean\n",
        "print(a is b)"
      ],
      "metadata": {
        "colab": {
          "base_uri": "https://localhost:8080/"
        },
        "id": "voiRfseRLVxN",
        "outputId": "2e2e403b-ff89-4c2d-9855-5790d1615ba1"
      },
      "execution_count": null,
      "outputs": [
        {
          "output_type": "stream",
          "name": "stdout",
          "text": [
            "True\n",
            "False\n"
          ]
        }
      ]
    },
    {
      "cell_type": "code",
      "source": [
        "f=\"word\"\n",
        "print(f, type(f))"
      ],
      "metadata": {
        "colab": {
          "base_uri": "https://localhost:8080/"
        },
        "id": "qV3nzJyoL0iN",
        "outputId": "7a6a8a25-d63f-40ce-87aa-6d7d80f562ba"
      },
      "execution_count": null,
      "outputs": [
        {
          "output_type": "stream",
          "name": "stdout",
          "text": [
            "word <class 'str'>\n"
          ]
        }
      ]
    },
    {
      "cell_type": "code",
      "source": [
        "f=[1,2,3]\n",
        "print(f, type(f))"
      ],
      "metadata": {
        "colab": {
          "base_uri": "https://localhost:8080/"
        },
        "id": "n-tT_XaOMJ91",
        "outputId": "67d67ca9-1761-48ce-bc09-0fc01073d810"
      },
      "execution_count": null,
      "outputs": [
        {
          "output_type": "stream",
          "name": "stdout",
          "text": [
            "[1, 2, 3] <class 'list'>\n"
          ]
        }
      ]
    },
    {
      "cell_type": "code",
      "source": [
        "#연산실습\n",
        "import math\n",
        "print(2*3)\n",
        "print(2**3)\n",
        "print(5/2)\n",
        "print(5//2)\n",
        "print(5%2)\n",
        "print(math.sqrt(2)) #제곱근"
      ],
      "metadata": {
        "colab": {
          "base_uri": "https://localhost:8080/"
        },
        "id": "XwIRQSYUQtZl",
        "outputId": "fd284301-815b-4489-8cab-a30bae1df704"
      },
      "execution_count": null,
      "outputs": [
        {
          "output_type": "stream",
          "name": "stdout",
          "text": [
            "6\n",
            "8\n",
            "2.5\n",
            "2\n",
            "1\n",
            "1.4142135623730951\n"
          ]
        }
      ]
    },
    {
      "cell_type": "code",
      "source": [
        "import math\n",
        "#a=2; b=1; c=-3 인 이차방정식의 두 근을  구하시오\n",
        "a=2; b=1; c=-3\n",
        "x1=(-b+math.sqrt(b**2-4*a*c))/(2*a)\n",
        "x2=(-b-math.sqrt(b**2-4*a*c))/(2*a)\n",
        "print(x1, x2)"
      ],
      "metadata": {
        "colab": {
          "base_uri": "https://localhost:8080/"
        },
        "id": "5Oy4F_IZROE1",
        "outputId": "3d4ae539-f8e1-47ad-8cae-cdf10fc85ad2"
      },
      "execution_count": null,
      "outputs": [
        {
          "output_type": "stream",
          "name": "stdout",
          "text": [
            "1.0 -1.5\n"
          ]
        }
      ]
    },
    {
      "cell_type": "markdown",
      "source": [
        "### 구문:제어문(if, elif, else)"
      ],
      "metadata": {
        "id": "xJDPfbAOTWXl"
      }
    },
    {
      "cell_type": "code",
      "source": [
        "score= 87\n",
        "if score>=90:\n",
        "  print(\"Your grade: \", \"A\")\n",
        "elif score>=80:\n",
        "  print(\"Your grade: \", \"b\")\n",
        "else:\n",
        "  print(\"Fail\")\n",
        "\n",
        "\n"
      ],
      "metadata": {
        "id": "ewDm-7zwTVw2",
        "colab": {
          "base_uri": "https://localhost:8080/"
        },
        "outputId": "d579384d-7110-4343-9ab8-008420ade711"
      },
      "execution_count": null,
      "outputs": [
        {
          "output_type": "stream",
          "name": "stdout",
          "text": [
            "Your grade:  b\n"
          ]
        }
      ]
    },
    {
      "cell_type": "code",
      "source": [
        "temp=input()"
      ],
      "metadata": {
        "colab": {
          "base_uri": "https://localhost:8080/"
        },
        "id": "--DgdF9TVMje",
        "outputId": "03b42dfc-92b9-4604-827e-046168d4f08a"
      },
      "execution_count": null,
      "outputs": [
        {
          "name": "stdout",
          "output_type": "stream",
          "text": [
            "13\n"
          ]
        }
      ]
    },
    {
      "cell_type": "code",
      "source": [
        "print(temp)\n",
        "print(type(temp))\n",
        "type(int(temp))"
      ],
      "metadata": {
        "colab": {
          "base_uri": "https://localhost:8080/"
        },
        "id": "7wxu4A_vVW6d",
        "outputId": "9187a9ac-64d4-4044-9ee5-626b7da98e8a"
      },
      "execution_count": null,
      "outputs": [
        {
          "output_type": "stream",
          "name": "stdout",
          "text": [
            "13\n",
            "<class 'str'>\n"
          ]
        },
        {
          "output_type": "execute_result",
          "data": {
            "text/plain": [
              "int"
            ]
          },
          "metadata": {},
          "execution_count": 32
        }
      ]
    },
    {
      "cell_type": "code",
      "source": [
        "temp=input(\"Enter temp!:\")\n",
        "# temp = 35, 20, 5, -20\n",
        "# 30도 이상이면 \"너무 더워요\"\n",
        "# 10이상-30미만:\"GOOD\"\n",
        "# 0이상 10미만이면: \"외투를 챙기세요\"\n",
        "# 0도 미만: \"추워요\"\n",
        "temp=int(temp)\n",
        "if temp>=30:\n",
        "  print(\"너무 더워요\")\n",
        "elif temp>=10 and temp<30:\n",
        "  print(\"GOOD\")\n",
        "elif temp>=0 and temp<10:\n",
        "  print(\"외투\")\n",
        "else:\n",
        "  print(\"추워요\")"
      ],
      "metadata": {
        "colab": {
          "base_uri": "https://localhost:8080/"
        },
        "id": "WTTvmKi7V9b1",
        "outputId": "c91ef214-69e6-4d73-fa11-e78608001f06"
      },
      "execution_count": null,
      "outputs": [
        {
          "output_type": "stream",
          "name": "stdout",
          "text": [
            "Enter temp!:-10\n",
            "추워요\n"
          ]
        }
      ]
    },
    {
      "cell_type": "markdown",
      "source": [
        "### 반복문(while)\n",
        "\n",
        "while 조건:\n",
        "\n",
        " 반복할 문장"
      ],
      "metadata": {
        "id": "xhA__7ZNYvMt"
      }
    },
    {
      "cell_type": "code",
      "source": [
        "i=0\n",
        "while i<10:\n",
        "  i+=1\n",
        "  print(i)"
      ],
      "metadata": {
        "id": "vAkzAqFWYnw1"
      },
      "execution_count": null,
      "outputs": []
    },
    {
      "cell_type": "code",
      "source": [
        "i=0\n",
        "while i<10:\n",
        "  i+=1\n",
        "  if i%2==1:\n",
        "    continue #continue:이번 룹 건너뛰기\n",
        "  print(i)"
      ],
      "metadata": {
        "colab": {
          "base_uri": "https://localhost:8080/"
        },
        "id": "0tK0xCd0ZrSN",
        "outputId": "9cd91320-1bc5-47b3-fe38-362960525d46"
      },
      "execution_count": null,
      "outputs": [
        {
          "output_type": "stream",
          "name": "stdout",
          "text": [
            "2\n",
            "4\n",
            "6\n",
            "8\n",
            "10\n"
          ]
        }
      ]
    },
    {
      "cell_type": "code",
      "source": [
        "i=0\n",
        "while True:\n",
        "  i+=1\n",
        "  if i>10:\n",
        "    break #break:룹 탈출\n",
        "  print(i)"
      ],
      "metadata": {
        "colab": {
          "base_uri": "https://localhost:8080/"
        },
        "id": "ozs_we7raXoF",
        "outputId": "6a238b6d-a52d-4837-b007-3f7bb0c8ce85"
      },
      "execution_count": null,
      "outputs": [
        {
          "output_type": "stream",
          "name": "stdout",
          "text": [
            "1\n",
            "2\n",
            "3\n",
            "4\n",
            "5\n",
            "6\n",
            "7\n",
            "8\n",
            "9\n",
            "10\n"
          ]
        }
      ]
    },
    {
      "cell_type": "markdown",
      "source": [
        "### 반복문(for문)\n",
        "\n",
        "for 변수 in 반복대상(배열):\n",
        "\n",
        "  반복할 문장"
      ],
      "metadata": {
        "id": "J0JN29gWdbzW"
      }
    },
    {
      "cell_type": "code",
      "source": [
        "fruits=[\"apple\", \"watermelon\",\"banana\", \"pear\"]\n",
        "for i, fruit in enumerate(fruits):\n",
        "  print(\"나의 \", i+1,\"번째로 좋아하는 과일은: \",  fruit)"
      ],
      "metadata": {
        "colab": {
          "base_uri": "https://localhost:8080/"
        },
        "id": "-FE2_fz-dbH2",
        "outputId": "22033f02-086f-450a-c0bc-5b155440ad27"
      },
      "execution_count": null,
      "outputs": [
        {
          "output_type": "stream",
          "name": "stdout",
          "text": [
            "나의  1 번째로 좋아하는 과일은:  apple\n",
            "나의  2 번째로 좋아하는 과일은:  watermelon\n",
            "나의  3 번째로 좋아하는 과일은:  banana\n",
            "나의  4 번째로 좋아하는 과일은:  pear\n"
          ]
        }
      ]
    },
    {
      "cell_type": "code",
      "source": [
        "#range(시작,끝,스텝)\n",
        "for i in range(1,10):\n",
        "  print(2,\"*\",i,\"=\",2*i)\n",
        "#구구단\n",
        "for i in range(2,10):\n",
        "  for j in range(1,10):\n",
        "   print(i,\"*\",j,\"=\",i*j, end=\" \")\n",
        "  print()"
      ],
      "metadata": {
        "colab": {
          "base_uri": "https://localhost:8080/"
        },
        "id": "QyS2h4Iff0L9",
        "outputId": "67d45b44-b556-410d-ed79-0cde46ced1fd"
      },
      "execution_count": null,
      "outputs": [
        {
          "output_type": "stream",
          "name": "stdout",
          "text": [
            "2 * 1 = 2\n",
            "2 * 2 = 4\n",
            "2 * 3 = 6\n",
            "2 * 4 = 8\n",
            "2 * 5 = 10\n",
            "2 * 6 = 12\n",
            "2 * 7 = 14\n",
            "2 * 8 = 16\n",
            "2 * 9 = 18\n",
            "2 * 1 = 2 2 * 2 = 4 2 * 3 = 6 2 * 4 = 8 2 * 5 = 10 2 * 6 = 12 2 * 7 = 14 2 * 8 = 16 2 * 9 = 18 \n",
            "3 * 1 = 3 3 * 2 = 6 3 * 3 = 9 3 * 4 = 12 3 * 5 = 15 3 * 6 = 18 3 * 7 = 21 3 * 8 = 24 3 * 9 = 27 \n",
            "4 * 1 = 4 4 * 2 = 8 4 * 3 = 12 4 * 4 = 16 4 * 5 = 20 4 * 6 = 24 4 * 7 = 28 4 * 8 = 32 4 * 9 = 36 \n",
            "5 * 1 = 5 5 * 2 = 10 5 * 3 = 15 5 * 4 = 20 5 * 5 = 25 5 * 6 = 30 5 * 7 = 35 5 * 8 = 40 5 * 9 = 45 \n",
            "6 * 1 = 6 6 * 2 = 12 6 * 3 = 18 6 * 4 = 24 6 * 5 = 30 6 * 6 = 36 6 * 7 = 42 6 * 8 = 48 6 * 9 = 54 \n",
            "7 * 1 = 7 7 * 2 = 14 7 * 3 = 21 7 * 4 = 28 7 * 5 = 35 7 * 6 = 42 7 * 7 = 49 7 * 8 = 56 7 * 9 = 63 \n",
            "8 * 1 = 8 8 * 2 = 16 8 * 3 = 24 8 * 4 = 32 8 * 5 = 40 8 * 6 = 48 8 * 7 = 56 8 * 8 = 64 8 * 9 = 72 \n",
            "9 * 1 = 9 9 * 2 = 18 9 * 3 = 27 9 * 4 = 36 9 * 5 = 45 9 * 6 = 54 9 * 7 = 63 9 * 8 = 72 9 * 9 = 81 \n"
          ]
        }
      ]
    },
    {
      "cell_type": "code",
      "source": [
        "print(\"{i}번 학생은 합격입니다\")"
      ],
      "metadata": {
        "colab": {
          "base_uri": "https://localhost:8080/"
        },
        "id": "0b0eEwS_jAcG",
        "outputId": "eb365ca5-d65d-459a-ac95-0889d73ef17c"
      },
      "execution_count": null,
      "outputs": [
        {
          "output_type": "stream",
          "name": "stdout",
          "text": [
            "{i}번 학생은 합격입니다\n"
          ]
        }
      ]
    },
    {
      "cell_type": "code",
      "source": [
        "marks=[90, 25, 67, 45, 80]\n",
        "standard=60\n",
        "#print(\"{}번 학생은 (불)합격입니다\")\n",
        "for i, score in enumerate(marks):\n",
        "  if score >= 60:\n",
        "    print(f\"{i+1}번 학생은 합격입니다\")\n",
        "  else:\n",
        "    print(f\"{i+1}번 학생은 불합격입니다\")"
      ],
      "metadata": {
        "colab": {
          "base_uri": "https://localhost:8080/"
        },
        "id": "sr_wWgkDhoO-",
        "outputId": "7820a715-510b-4bee-be74-e12b378c1fad"
      },
      "execution_count": null,
      "outputs": [
        {
          "output_type": "stream",
          "name": "stdout",
          "text": [
            "1번 학생은 합격입니다\n",
            "2번 학생은 불합격입니다\n",
            "3번 학생은 합격입니다\n",
            "4번 학생은 불합격입니다\n",
            "5번 학생은 합격입니다\n"
          ]
        }
      ]
    },
    {
      "cell_type": "code",
      "source": [
        "#그리디 알고리즘 응용문제(거스름돈 동전 세기)\n",
        "n=3600\n",
        "#10,100,500,50\n",
        "count=0\n",
        "coins=sorted([100,500, 50,10], reverse=True)\n",
        "for coin in coins:\n",
        "  count=count+(n//coin)\n",
        "  n=n%coin\n",
        "  #print(n)\n",
        "print(count)\n"
      ],
      "metadata": {
        "colab": {
          "base_uri": "https://localhost:8080/"
        },
        "id": "C51EPn2Xi_3O",
        "outputId": "742febe4-a84f-4336-9f49-532f49a9cfd3"
      },
      "execution_count": null,
      "outputs": [
        {
          "output_type": "stream",
          "name": "stdout",
          "text": [
            "8\n"
          ]
        }
      ]
    },
    {
      "cell_type": "code",
      "source": [
        "#다른 진법수를 10진법으로 바꾸기\n",
        "1110=>"
      ],
      "metadata": {
        "id": "FEdWhjgpqNk_"
      },
      "execution_count": null,
      "outputs": []
    }
  ]
}
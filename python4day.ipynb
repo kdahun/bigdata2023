{
  "nbformat": 4,
  "nbformat_minor": 0,
  "metadata": {
    "colab": {
      "provenance": [],
      "authorship_tag": "ABX9TyM67o1wkjCMZWdokt0GsY/3",
      "include_colab_link": true
    },
    "kernelspec": {
      "name": "python3",
      "display_name": "Python 3"
    },
    "language_info": {
      "name": "python"
    }
  },
  "cells": [
    {
      "cell_type": "markdown",
      "metadata": {
        "id": "view-in-github",
        "colab_type": "text"
      },
      "source": [
        "<a href=\"https://colab.research.google.com/github/kdahun/bigdata2023/blob/main/python4day.ipynb\" target=\"_parent\"><img src=\"https://colab.research.google.com/assets/colab-badge.svg\" alt=\"Open In Colab\"/></a>"
      ]
    },
    {
      "cell_type": "code",
      "execution_count": 4,
      "metadata": {
        "id": "QVOLS-Sxuowo"
      },
      "outputs": [],
      "source": [
        "for i in range(1,51):\n",
        "  with open(\"{0}주차\".format(i),'w',encoding='utf8') as fw:\n",
        "    fw.write(\"-{0}주차 주간 보고-\\n부서 : \\n이름 : \\n업무 요약 : \".format(i))"
      ]
    },
    {
      "cell_type": "code",
      "source": [
        "for i in range(1,51):\n",
        "  with open(\"{0}주차\".format(i),'r',encoding='utf8') as fr:\n",
        "    print(fr.readlines())"
      ],
      "metadata": {
        "colab": {
          "base_uri": "https://localhost:8080/"
        },
        "id": "v-18xc0Yvwnb",
        "outputId": "51da0e99-1755-4993-f9ce-c9068fceeddf"
      },
      "execution_count": 5,
      "outputs": [
        {
          "output_type": "stream",
          "name": "stdout",
          "text": [
            "['-1주차 주간 보고-\\n', '부서 : \\n', '이름 : \\n', '업무 요약 : ']\n",
            "['-2주차 주간 보고-\\n', '부서 : \\n', '이름 : \\n', '업무 요약 : ']\n",
            "['-3주차 주간 보고-\\n', '부서 : \\n', '이름 : \\n', '업무 요약 : ']\n",
            "['-4주차 주간 보고-\\n', '부서 : \\n', '이름 : \\n', '업무 요약 : ']\n",
            "['-5주차 주간 보고-\\n', '부서 : \\n', '이름 : \\n', '업무 요약 : ']\n",
            "['-6주차 주간 보고-\\n', '부서 : \\n', '이름 : \\n', '업무 요약 : ']\n",
            "['-7주차 주간 보고-\\n', '부서 : \\n', '이름 : \\n', '업무 요약 : ']\n",
            "['-8주차 주간 보고-\\n', '부서 : \\n', '이름 : \\n', '업무 요약 : ']\n",
            "['-9주차 주간 보고-\\n', '부서 : \\n', '이름 : \\n', '업무 요약 : ']\n",
            "['-10주차 주간 보고-\\n', '부서 : \\n', '이름 : \\n', '업무 요약 : ']\n",
            "['-11주차 주간 보고-\\n', '부서 : \\n', '이름 : \\n', '업무 요약 : ']\n",
            "['-12주차 주간 보고-\\n', '부서 : \\n', '이름 : \\n', '업무 요약 : ']\n",
            "['-13주차 주간 보고-\\n', '부서 : \\n', '이름 : \\n', '업무 요약 : ']\n",
            "['-14주차 주간 보고-\\n', '부서 : \\n', '이름 : \\n', '업무 요약 : ']\n",
            "['-15주차 주간 보고-\\n', '부서 : \\n', '이름 : \\n', '업무 요약 : ']\n",
            "['-16주차 주간 보고-\\n', '부서 : \\n', '이름 : \\n', '업무 요약 : ']\n",
            "['-17주차 주간 보고-\\n', '부서 : \\n', '이름 : \\n', '업무 요약 : ']\n",
            "['-18주차 주간 보고-\\n', '부서 : \\n', '이름 : \\n', '업무 요약 : ']\n",
            "['-19주차 주간 보고-\\n', '부서 : \\n', '이름 : \\n', '업무 요약 : ']\n",
            "['-20주차 주간 보고-\\n', '부서 : \\n', '이름 : \\n', '업무 요약 : ']\n",
            "['-21주차 주간 보고-\\n', '부서 : \\n', '이름 : \\n', '업무 요약 : ']\n",
            "['-22주차 주간 보고-\\n', '부서 : \\n', '이름 : \\n', '업무 요약 : ']\n",
            "['-23주차 주간 보고-\\n', '부서 : \\n', '이름 : \\n', '업무 요약 : ']\n",
            "['-24주차 주간 보고-\\n', '부서 : \\n', '이름 : \\n', '업무 요약 : ']\n",
            "['-25주차 주간 보고-\\n', '부서 : \\n', '이름 : \\n', '업무 요약 : ']\n",
            "['-26주차 주간 보고-\\n', '부서 : \\n', '이름 : \\n', '업무 요약 : ']\n",
            "['-27주차 주간 보고-\\n', '부서 : \\n', '이름 : \\n', '업무 요약 : ']\n",
            "['-28주차 주간 보고-\\n', '부서 : \\n', '이름 : \\n', '업무 요약 : ']\n",
            "['-29주차 주간 보고-\\n', '부서 : \\n', '이름 : \\n', '업무 요약 : ']\n",
            "['-30주차 주간 보고-\\n', '부서 : \\n', '이름 : \\n', '업무 요약 : ']\n",
            "['-31주차 주간 보고-\\n', '부서 : \\n', '이름 : \\n', '업무 요약 : ']\n",
            "['-32주차 주간 보고-\\n', '부서 : \\n', '이름 : \\n', '업무 요약 : ']\n",
            "['-33주차 주간 보고-\\n', '부서 : \\n', '이름 : \\n', '업무 요약 : ']\n",
            "['-34주차 주간 보고-\\n', '부서 : \\n', '이름 : \\n', '업무 요약 : ']\n",
            "['-35주차 주간 보고-\\n', '부서 : \\n', '이름 : \\n', '업무 요약 : ']\n",
            "['-36주차 주간 보고-\\n', '부서 : \\n', '이름 : \\n', '업무 요약 : ']\n",
            "['-37주차 주간 보고-\\n', '부서 : \\n', '이름 : \\n', '업무 요약 : ']\n",
            "['-38주차 주간 보고-\\n', '부서 : \\n', '이름 : \\n', '업무 요약 : ']\n",
            "['-39주차 주간 보고-\\n', '부서 : \\n', '이름 : \\n', '업무 요약 : ']\n",
            "['-40주차 주간 보고-\\n', '부서 : \\n', '이름 : \\n', '업무 요약 : ']\n",
            "['-41주차 주간 보고-\\n', '부서 : \\n', '이름 : \\n', '업무 요약 : ']\n",
            "['-42주차 주간 보고-\\n', '부서 : \\n', '이름 : \\n', '업무 요약 : ']\n",
            "['-43주차 주간 보고-\\n', '부서 : \\n', '이름 : \\n', '업무 요약 : ']\n",
            "['-44주차 주간 보고-\\n', '부서 : \\n', '이름 : \\n', '업무 요약 : ']\n",
            "['-45주차 주간 보고-\\n', '부서 : \\n', '이름 : \\n', '업무 요약 : ']\n",
            "['-46주차 주간 보고-\\n', '부서 : \\n', '이름 : \\n', '업무 요약 : ']\n",
            "['-47주차 주간 보고-\\n', '부서 : \\n', '이름 : \\n', '업무 요약 : ']\n",
            "['-48주차 주간 보고-\\n', '부서 : \\n', '이름 : \\n', '업무 요약 : ']\n",
            "['-49주차 주간 보고-\\n', '부서 : \\n', '이름 : \\n', '업무 요약 : ']\n",
            "['-50주차 주간 보고-\\n', '부서 : \\n', '이름 : \\n', '업무 요약 : ']\n"
          ]
        }
      ]
    },
    {
      "cell_type": "code",
      "source": [
        "with open(\"byme2.py\",'w',encoding='utf8') as fw:\n",
        "  fw.write(\"\"\"def sign():\\n\\tprint(\"이 프로그램은 김다훈에 의해 만들어 졌습니다.\")\\n\\tprint(\"유투브 : https://youtube.com\")\n",
        "  \\n\\tprint(\"이메일 : dahun5223@naver.com\")\n",
        "  \"\"\")"
      ],
      "metadata": {
        "id": "ocgP68l9u6FC"
      },
      "execution_count": 83,
      "outputs": []
    },
    {
      "cell_type": "code",
      "source": [
        "ls"
      ],
      "metadata": {
        "colab": {
          "base_uri": "https://localhost:8080/"
        },
        "id": "aeRvJNRt0RRq",
        "outputId": "426474f2-3ce0-402d-c5dc-e08d57a9e211"
      },
      "execution_count": 84,
      "outputs": [
        {
          "output_type": "stream",
          "name": "stdout",
          "text": [
            "1주차   15주차  20주차  26주차  31주차  37주차  42주차  48주차  8주차\n",
            "10주차  16주차  21주차  27주차  32주차  38주차  43주차  49주차  9주차\n",
            "11주차  17주차  22주차  28주차  33주차  39주차  44주차  5주차   byme1.py\n",
            "12주차  18주차  23주차  29주차  34주차  4주차   45주차  50주차  byme2.py\n",
            "13주차  19주차  24주차  3주차   35주차  40주차  46주차  6주차   \u001b[0m\u001b[01;34m__pycache__\u001b[0m/\n",
            "14주차  2주차   25주차  30주차  36주차  41주차  47주차  7주차   \u001b[01;34msample_data\u001b[0m/\n"
          ]
        }
      ]
    },
    {
      "cell_type": "code",
      "source": [
        "import byme2\n",
        "\n",
        "byme2.sign()"
      ],
      "metadata": {
        "colab": {
          "base_uri": "https://localhost:8080/"
        },
        "id": "S_MKxvI3xMl7",
        "outputId": "8e568084-371f-4e12-8036-7c98ae59d6db"
      },
      "execution_count": 85,
      "outputs": [
        {
          "output_type": "stream",
          "name": "stdout",
          "text": [
            "이 프로그램은 김다훈에 의해 만들어 졌습니다.\n",
            "유투브 : https://youtube.com\n",
            "이메일 : dahun5223@naver.com\n"
          ]
        }
      ]
    },
    {
      "cell_type": "code",
      "source": [
        "l = [0,2,4,6,8,10,12,14,16]\n",
        "\n",
        "def search(lst,target,start,end):\n",
        "  for i in range(start,end):\n",
        "    if target==lst[i]:\n",
        "      return i\n",
        "  return None\n",
        "\n",
        "\n",
        "if search(l,16,0,len(l))==None:\n",
        "  print(\"None\")\n",
        "else:\n",
        "  print(search(l,16,0,len(l)))"
      ],
      "metadata": {
        "colab": {
          "base_uri": "https://localhost:8080/"
        },
        "id": "9XuFaH2-yLEK",
        "outputId": "2a6a7dd2-0175-4693-a5e5-e2c01a2eb343"
      },
      "execution_count": 62,
      "outputs": [
        {
          "output_type": "stream",
          "name": "stdout",
          "text": [
            "8\n"
          ]
        }
      ]
    },
    {
      "cell_type": "code",
      "source": [
        "def binary_search(lst, target, start, end):\n",
        "  while start<=end:\n",
        "    mid=(start+end)//2\n",
        "    if lst[mid]==target:\n",
        "      return mid\n",
        "    elif lst[mid]>target:\n",
        "      end=mid-1\n",
        "    else:\n",
        "      start=mid+1\n",
        "  return None\n",
        "\n",
        "a=binary_search(l, 8, 0, len(l)-1)\n",
        "print(a)"
      ],
      "metadata": {
        "colab": {
          "base_uri": "https://localhost:8080/",
          "height": 137
        },
        "id": "UH7gloeo1baj",
        "outputId": "0496bf09-ed2f-4664-914f-4a1265b21700"
      },
      "execution_count": 99,
      "outputs": [
        {
          "output_type": "error",
          "ename": "SyntaxError",
          "evalue": "ignored",
          "traceback": [
            "\u001b[0;36m  File \u001b[0;32m\"<ipython-input-99-37ced9023958>\"\u001b[0;36m, line \u001b[0;32m5\u001b[0m\n\u001b[0;31m    return mid:\u001b[0m\n\u001b[0m              ^\u001b[0m\n\u001b[0;31mSyntaxError\u001b[0m\u001b[0;31m:\u001b[0m invalid syntax\n"
          ]
        }
      ]
    },
    {
      "cell_type": "code",
      "source": [
        "def binary_search_self(lst, target, start, end):\n",
        "  if start>end:\n",
        "    return None\n",
        "  mid=(start+end)//2\n",
        "  if lst[mid]==target:\n",
        "    return mid\n",
        "\n",
        "  elif lst[mid]>target:\n",
        "    return binary_search_self(lst, target, start, mid-1)\n",
        "\n",
        "  else:\n",
        "    return binary_search_self(lst, target, mid+1, end)\n",
        "binary_search_self(l, 6, 0, len(l)-1)\n"
      ],
      "metadata": {
        "id": "ar67nlLGA2Hn"
      },
      "execution_count": 130,
      "outputs": []
    },
    {
      "cell_type": "code",
      "source": [
        "print(binary_search2(l,8,1,len(l)))"
      ],
      "metadata": {
        "colab": {
          "base_uri": "https://localhost:8080/"
        },
        "id": "3CPWx3cc_cvo",
        "outputId": "8d89e8c3-65a8-40f3-ed44-9eb80ce3298c"
      },
      "execution_count": 132,
      "outputs": [
        {
          "output_type": "stream",
          "name": "stdout",
          "text": [
            "5\n",
            "3\n",
            "4\n",
            "4\n"
          ]
        }
      ]
    },
    {
      "cell_type": "markdown",
      "source": [
        "# 정렬 알고리즘\n",
        "버블 정렬"
      ],
      "metadata": {
        "id": "hwhAgQxvwqXy"
      }
    },
    {
      "cell_type": "code",
      "source": [
        "def bubble_sort(list):\n",
        "  for i in range(0,len(list)):\n",
        "    for j in range(0,len(list)-1):\n",
        "      if list[i]<list[j]:\n",
        "        temp= list[i]\n",
        "        list[i]=list[j]\n",
        "        list[j]=temp\n",
        "  return list\n",
        "\n",
        "list=[7,4,5,1,3]\n",
        "bubble_sort(list)"
      ],
      "metadata": {
        "colab": {
          "base_uri": "https://localhost:8080/"
        },
        "id": "9e39-Owz_g-H",
        "outputId": "10e77d1a-ead2-4be3-ecff-c3b35d006974"
      },
      "execution_count": 1,
      "outputs": [
        {
          "output_type": "execute_result",
          "data": {
            "text/plain": [
              "[1, 3, 4, 5, 7]"
            ]
          },
          "metadata": {},
          "execution_count": 1
        }
      ]
    },
    {
      "cell_type": "code",
      "source": [
        "l=[7,4,5,1,3]\n",
        "def bubble_sort(lst):\n",
        "  num=len(lst)-1\n",
        "  for j in range(num,0,-1):\n",
        "    for i in range(j):\n",
        "      if lst[i] > lst[i+1]:\n",
        "        lst[i],  lst[i+1] = lst[i+1], lst[i]\n",
        "  return lst\n",
        "bubble_sort(l)\n",
        "bubble_sort([10,8,7,5,2])"
      ],
      "metadata": {
        "colab": {
          "base_uri": "https://localhost:8080/"
        },
        "id": "dwdN5PCXFyFd",
        "outputId": "8ef45753-3d05-4ae1-a1a4-2d8d14bd3197"
      },
      "execution_count": 2,
      "outputs": [
        {
          "output_type": "execute_result",
          "data": {
            "text/plain": [
              "[2, 5, 7, 8, 10]"
            ]
          },
          "metadata": {},
          "execution_count": 2
        }
      ]
    },
    {
      "cell_type": "markdown",
      "source": [
        "### 피보나치 수열"
      ],
      "metadata": {
        "id": "xqo9v5w1xCVw"
      }
    },
    {
      "cell_type": "code",
      "source": [
        "def fib_seq(n):\n",
        "  if n<2:\n",
        "    return n\n",
        "  a,b=0,1\n",
        "  for i in range(n):\n",
        "    a,b=b, a+b\n",
        "  return a\n",
        "fib_seq(7)"
      ],
      "metadata": {
        "colab": {
          "base_uri": "https://localhost:8080/"
        },
        "id": "66TA8mTYwyLv",
        "outputId": "3e4cd0f2-0ada-493d-837d-961c390fcc9c"
      },
      "execution_count": 10,
      "outputs": [
        {
          "output_type": "execute_result",
          "data": {
            "text/plain": [
              "13"
            ]
          },
          "metadata": {},
          "execution_count": 10
        }
      ]
    },
    {
      "cell_type": "code",
      "source": [
        "def fib_seq_self(n):\n",
        "  if n<2:\n",
        "    return n\n",
        "  return fib_seq_self(n-1)+fib_seq_self(n-2)\n",
        "fib_seq(7)"
      ],
      "metadata": {
        "colab": {
          "base_uri": "https://localhost:8080/"
        },
        "id": "o1NKTrFoxJqg",
        "outputId": "298cf1ef-e8c7-4258-8fbe-a651da0975a4"
      },
      "execution_count": 12,
      "outputs": [
        {
          "output_type": "execute_result",
          "data": {
            "text/plain": [
              "13"
            ]
          },
          "metadata": {},
          "execution_count": 12
        }
      ]
    },
    {
      "cell_type": "code",
      "source": [
        "def fibona(n):\n",
        "  if n==1:\n",
        "    return 1\n",
        "  if n==0:\n",
        "    return 0\n",
        "  return fibona(n-1)+fibona(n-2)\n",
        "\n",
        "fibona(7)"
      ],
      "metadata": {
        "colab": {
          "base_uri": "https://localhost:8080/"
        },
        "id": "lhyE6hqexLdQ",
        "outputId": "4b71f88d-3dda-4cb6-dada-88bebecb03c8"
      },
      "execution_count": 22,
      "outputs": [
        {
          "output_type": "execute_result",
          "data": {
            "text/plain": [
              "13"
            ]
          },
          "metadata": {},
          "execution_count": 22
        }
      ]
    },
    {
      "cell_type": "markdown",
      "source": [
        "# 객체"
      ],
      "metadata": {
        "id": "QQ4pID5pxNcA"
      }
    },
    {
      "cell_type": "code",
      "source": [
        "class Car:\n",
        "  def __init__(self, color):\n",
        "    self.color=color\n",
        "    self.speed=0\n",
        "    self.direction=0\n",
        "\n",
        "  def turn_left(self):\n",
        "    self.direction-=1\n",
        "  def turn_right(self):\n",
        "    self.direction+=1\n",
        "  def accelerate(self):\n",
        "    self.speed +=1\n",
        "  def decelerate(self):\n",
        "    self.speed -=1"
      ],
      "metadata": {
        "id": "9iu9azYVxM34"
      },
      "execution_count": 6,
      "outputs": []
    },
    {
      "cell_type": "code",
      "source": [
        "my_car=Car(\"green\")\n",
        "print(my_car.speed)\n",
        "print(my_car.color)\n",
        "print(my_car.direction)"
      ],
      "metadata": {
        "colab": {
          "base_uri": "https://localhost:8080/"
        },
        "id": "8Px-QFWDxQqB",
        "outputId": "36bc3ae0-2a19-4d2d-8460-873332840203"
      },
      "execution_count": 7,
      "outputs": [
        {
          "output_type": "stream",
          "name": "stdout",
          "text": [
            "0\n",
            "green\n",
            "0\n"
          ]
        }
      ]
    },
    {
      "cell_type": "code",
      "source": [
        "my_car.turn_left()\n",
        "print(my_car.direction)"
      ],
      "metadata": {
        "colab": {
          "base_uri": "https://localhost:8080/"
        },
        "id": "BMeXZAPmxRt4",
        "outputId": "33531801-393b-4024-b95c-2207cae166a2"
      },
      "execution_count": 8,
      "outputs": [
        {
          "output_type": "stream",
          "name": "stdout",
          "text": [
            "-1\n"
          ]
        }
      ]
    },
    {
      "cell_type": "code",
      "source": [
        "my_car.accelerate()\n",
        "my_car.accelerate()\n",
        "print(my_car.speed)"
      ],
      "metadata": {
        "colab": {
          "base_uri": "https://localhost:8080/"
        },
        "id": "YJepcJ7wxT3Y",
        "outputId": "b1d66563-c099-4442-aefc-f9f2e5c54c97"
      },
      "execution_count": 9,
      "outputs": [
        {
          "output_type": "stream",
          "name": "stdout",
          "text": [
            "2\n"
          ]
        }
      ]
    },
    {
      "cell_type": "code",
      "source": [
        "class Mstack:\n",
        "  def __init__(self):\n",
        "    self.stack = []\n",
        "    print(\"Hi Mstack\")\n",
        "\n",
        "  def push(self, int1):\n",
        "    self.stack.append(int1)\n",
        "    print(self.stack , type(int1) , int1)\n",
        "\n",
        "  def pop(self):\n",
        "    return self.stack.pop()\n",
        "\n",
        "  def length(self):\n",
        "    return len(self.stack)\n",
        "\n",
        "  def __del__(self):\n",
        "    print(\"bye Mstack\")\n",
        "\n",
        "if __name__ == '__main__':\n",
        "  a1=Mstack()\n",
        "  for x in range(1,6):\n",
        "    a1.push(x)\n",
        "  a1.pop()\n",
        "  print('lenght : ',a1.length())\n",
        "  del a1"
      ],
      "metadata": {
        "colab": {
          "base_uri": "https://localhost:8080/"
        },
        "id": "ieePPnR9xVTB",
        "outputId": "f02f6880-3bf3-4104-8c77-e662ae999521"
      },
      "execution_count": 18,
      "outputs": [
        {
          "output_type": "stream",
          "name": "stdout",
          "text": [
            "Hi Mstack\n",
            "[1] <class 'int'> 1\n",
            "[1, 2] <class 'int'> 2\n",
            "[1, 2, 3] <class 'int'> 3\n",
            "[1, 2, 3, 4] <class 'int'> 4\n",
            "[1, 2, 3, 4, 5] <class 'int'> 5\n",
            "lenght :  4\n",
            "bye Mstack\n"
          ]
        }
      ]
    },
    {
      "cell_type": "code",
      "source": [
        "class Mqueue:\n",
        "  def __init__(self):\n",
        "    self.queue = []\n",
        "    print(\"Hi Msqueue\")\n",
        "\n",
        "  def push(self, int1):\n",
        "    self.queue.insert(0,int1)\n",
        "    print(self.queue , type(int1) , int1)\n",
        "\n",
        "  def pop(self):\n",
        "    return self.queue.pop()\n",
        "\n",
        "  def length(self):\n",
        "    return len(self.queue)\n",
        "\n",
        "  def __del__(self):\n",
        "    print(\"bye Mstack\")\n",
        "\n",
        "if __name__ == '__main__':\n",
        "  a1=Mqueue()\n",
        "  for x in range(1,6):\n",
        "    a1.push(x)\n",
        "  a1.pop()\n",
        "  a1.push(100)\n",
        "  print('lenght : ',a1.length())\n",
        "  del a1"
      ],
      "metadata": {
        "colab": {
          "base_uri": "https://localhost:8080/"
        },
        "id": "-MabPW6pzbQp",
        "outputId": "baac7d0c-80d0-47bc-f6b7-ffeae139cb38"
      },
      "execution_count": 40,
      "outputs": [
        {
          "output_type": "stream",
          "name": "stdout",
          "text": [
            "Hi Msqueue\n",
            "[1] <class 'int'> 1\n",
            "[2, 1] <class 'int'> 2\n",
            "[3, 2, 1] <class 'int'> 3\n",
            "[4, 3, 2, 1] <class 'int'> 4\n",
            "[5, 4, 3, 2, 1] <class 'int'> 5\n",
            "[5, 4, 3] 1 2\n",
            "[100, 5, 4] <class 'int'> 100\n",
            "lenght :  3\n",
            "bye Mstack\n"
          ]
        }
      ]
    },
    {
      "cell_type": "code",
      "source": [
        "def balance_par_str_with(str):\n",
        "  mystack=Mstack()\n",
        "  for s in str:\n",
        "    mystack.push(s)\n",
        "\n",
        "\n",
        "  right=0\n",
        "  left=0\n",
        "  for stack in mystack.stack:\n",
        "    if mystack.pop()==\"(\":\n",
        "      right+=1\n",
        "    elif mystack.pop()==\")\":\n",
        "      left+=1\n",
        "\n",
        "  if right==left:\n",
        "    return True\n",
        "  else:\n",
        "    return False\n",
        "\n",
        "\n",
        "a = input()\n",
        "balance_par_str_with(a)"
      ],
      "metadata": {
        "colab": {
          "base_uri": "https://localhost:8080/"
        },
        "id": "TYvYJVpc4ODa",
        "outputId": "4ad97cbe-dd71-4ba8-818e-15c3c700c2e8"
      },
      "execution_count": 48,
      "outputs": [
        {
          "output_type": "stream",
          "name": "stdout",
          "text": [
            "())(\n",
            "Hi Mstack\n",
            "['('] <class 'str'> (\n",
            "['(', ')'] <class 'str'> )\n",
            "['(', ')', ')'] <class 'str'> )\n",
            "['(', ')', ')', '('] <class 'str'> (\n",
            "bye Mstack\n"
          ]
        },
        {
          "output_type": "execute_result",
          "data": {
            "text/plain": [
              "True"
            ]
          },
          "metadata": {},
          "execution_count": 48
        }
      ]
    },
    {
      "cell_type": "code",
      "source": [
        "def balance_par_str_with_stack(par_str):\n",
        "  mystack=Mstack()\n",
        "  balanced=True\n",
        "  index=0\n",
        "  while index<len(par_str) and balanced:\n",
        "    symbol=par_str[index]\n",
        "    if symbol==\"(\":\n",
        "      mystack.push(symbol)\n",
        "    else:\n",
        "      if mystack.length()==0:\n",
        "        balanced=False\n",
        "      else:\n",
        "        mystack.pop()\n",
        "    index +=1\n",
        "  if len(mystack.stack)==0 and balanced==True:\n",
        "    return True\n",
        "  else:\n",
        "    return False\n",
        "\n",
        "balance_par_str_with_stack(\"((())))\")"
      ],
      "metadata": {
        "id": "awWlmGwI6lyL"
      },
      "execution_count": 36,
      "outputs": []
    },
    {
      "cell_type": "code",
      "source": [
        "import requests\n",
        "res = requests.get(\"https://www.google.com/\")\n",
        "print(res.status_code) # 200이면 정상"
      ],
      "metadata": {
        "colab": {
          "base_uri": "https://localhost:8080/"
        },
        "id": "WBLAOXD5DHwk",
        "outputId": "ff77466e-7a77-46cc-ab35-7c0f3cce532b"
      },
      "execution_count": 49,
      "outputs": [
        {
          "output_type": "stream",
          "name": "stdout",
          "text": [
            "200\n"
          ]
        }
      ]
    },
    {
      "cell_type": "code",
      "source": [
        "if res.status_code == 200:\n",
        "  print(\"OK\")\n",
        "else:\n",
        "  print(\"wrong\")"
      ],
      "metadata": {
        "colab": {
          "base_uri": "https://localhost:8080/"
        },
        "id": "344ktrE6Hk6c",
        "outputId": "d199ba8e-6612-435a-d218-c68d8d9f4b49"
      },
      "execution_count": 50,
      "outputs": [
        {
          "output_type": "stream",
          "name": "stdout",
          "text": [
            "정상\n"
          ]
        }
      ]
    },
    {
      "cell_type": "code",
      "source": [
        "res.text"
      ],
      "metadata": {
        "colab": {
          "base_uri": "https://localhost:8080/",
          "height": 237
        },
        "id": "QVCejbp_Ht26",
        "outputId": "fde21653-379c-4cc8-f589-14234613b02e"
      },
      "execution_count": 51,
      "outputs": [
        {
          "output_type": "execute_result",
          "data": {
            "text/plain": [
              "'<!doctype html><html itemscope=\"\" itemtype=\"http://schema.org/WebPage\" lang=\"en\"><head><meta content=\"Search the world\\'s information, including webpages, images, videos and more. Google has many special features to help you find exactly what you\\'re looking for.\" name=\"description\"><meta content=\"noodp\" name=\"robots\"><meta content=\"text/html; charset=UTF-8\" http-equiv=\"Content-Type\"><meta content=\"/images/branding/googleg/1x/googleg_standard_color_128dp.png\" itemprop=\"image\"><title>Google</title><script nonce=\"tosgzFELjZzffKHqACN6Uw\">(function(){var _g={kEI:\\'PW6mZLeQI6mxqtsP1JOB4Ac\\',kEXPI:\\'0,1359409,6059,206,4804,2316,383,246,5,1129120,1197782,380708,16115,28684,22431,1361,12317,17582,4998,17075,39331,1985,2891,3926,213,7615,606,67087,8927,781,1244,1,16916,2652,4,1528,2304,29062,13065,13658,2980,1457,22613,6624,7596,1,42154,2,16395,342,3534,19490,5679,1020,31122,4568,6259,23418,1252,5835,19300,7484,445,2,2,1,26632,8155,7381,2,3,15965,872,9626,10008,7,1922,9779,22887,19572,20199,20136,14,82,2932,13582,3692,109,2412,5856,3785,20578,2265,765,5629,482,9705,1804,7734,2738,2884,450,12026,1260,6005,2172,5252,3534,1330,1697,1634,5799,2,2148,891,5001,18,1128,780,1689,5,3431,2370,355,666,4,2412,7915,4951,5711,2077,3,3,9,4129,1271,2041,372,1775,178,5202424,7172,8,2,8,5993508,2804424,3311,141,795,19735,304,44,6945,23943540,4044106,1007,15666,2893,6250,19352,537,3917,2953,1169,1402868,681642,23077628,3601,255,2465,1842,2236,1378,1022,833,1548,475,731,3940,2800,97,863,1298,99,198,1231,1,1202,447,612,61,532,45,495,632,78,1,575,744,81,595,629,519,1187,303,14,242,968,86,168,2,267,225,250,2157,791,170,455,2,854,1378,1822,238,149,150,170,354,3,3,1994,717,7,42,786,514,5,124,261,356,139,36,286,207,11,365,610,37,736,7,1,30,390,1834,836,685,9,1733,101,196,399,207,1,673,65,357,40,1,1027,143,142,1,4,1117,758\\',kBL:\\'kY7o\\',kOPI:89978449};(function(){var a;(null==(a=window.google)?0:a.stvsc)?google.kEI=_g.kEI:window.google=_g;}).call(this);})();(function(){google.sn=\\'webhp\\';google.kHL=\\'en\\';})();(function(){\\nvar h=this||self;function l(){return void 0!==window.google&&void 0!==window.google.kOPI&&0!==window.google.kOPI?window.google.kOPI:null};var m,n=[];function p(a){for(var b;a&&(!a.getAttribute||!(b=a.getAttribute(\"eid\")));)a=a.parentNode;return b||m}function q(a){for(var b=null;a&&(!a.getAttribute||!(b=a.getAttribute(\"leid\")));)a=a.parentNode;return b}function r(a){/^http:/i.test(a)&&\"https:\"===window.location.protocol&&(google.ml&&google.ml(Error(\"a\"),!1,{src:a,glmm:1}),a=\"\");return a}\\nfunction t(a,b,c,d,k){var e=\"\";-1===b.search(\"&ei=\")&&(e=\"&ei=\"+p(d),-1===b.search(\"&lei=\")&&(d=q(d))&&(e+=\"&lei=\"+d));d=\"\";var g=-1===b.search(\"&cshid=\")&&\"slh\"!==a,f=[];f.push([\"zx\",Date.now().toString()]);h._cshid&&g&&f.push([\"cshid\",h._cshid]);c=c();null!=c&&f.push([\"opi\",c.toString()]);for(c=0;c<f.length;c++){if(0===c||0<c)d+=\"&\";d+=f[c][0]+\"=\"+f[c][1]}return\"/\"+(k||\"gen_204\")+\"?atyp=i&ct=\"+String(a)+\"&cad=\"+(b+e+d)};m=google.kEI;google.getEI=p;google.getLEI=q;google.ml=function(){return null};google.log=function(a,b,c,d,k,e){e=void 0===e?l:e;c||(c=t(a,b,e,d,k));if(c=r(c)){a=new Image;var g=n.length;n[g]=a;a.onerror=a.onload=a.onabort=function(){delete n[g]};a.src=c}};google.logUrl=function(a,b){b=void 0===b?l:b;return t(\"\",a,b)};}).call(this);(function(){google.y={};google.sy=[];google.x=function(a,b){if(a)var c=a.id;else{do c=Math.random();while(google.y[c])}google.y[c]=[a,b];return!1};google.sx=function(a){google.sy.push(a)};google.lm=[];google.plm=function(a){google.lm.push.apply(google.lm,a)};google.lq=[];google.load=function(a,b,c){google.lq.push([[a],b,c])};google.loadAll=function(a,b){google.lq.push([a,b])};google.bx=!1;google.lx=function(){};}).call(this);google.f={};(function(){\\ndocument.documentElement.addEventListener(\"submit\",function(b){var a;if(a=b.target){var c=a.getAttribute(\"data-submitfalse\");a=\"1\"===c||\"q\"===c&&!a.elements.q.value?!0:!1}else a=!1;a&&(b.preventDefault(),b.stopPropagation())},!0);document.documentElement.addEventListener(\"click\",function(b){var a;a:{for(a=b.target;a&&a!==document.documentElement;a=a.parentElement)if(\"A\"===a.tagName){a=\"1\"===a.getAttribute(\"data-nohref\");break a}a=!1}a&&b.preventDefault()},!0);}).call(this);</script><style>#gbar,#guser{font-size:13px;padding-top:1px !important;}#gbar{height:22px}#guser{padding-bottom:7px !important;text-align:right}.gbh,.gbd{border-top:1px solid #c9d7f1;font-size:1px}.gbh{height:0;position:absolute;top:24px;width:100%}@media all{.gb1{height:22px;margin-right:.5em;vertical-align:top}#gbar{float:left}}a.gb1,a.gb4{text-decoration:underline !important}a.gb1,a.gb4{color:#00c !important}.gbi .gb4{color:#dd8e27 !important}.gbf .gb4{color:#900 !important}\\n</style><style>body,td,a,p,.h{font-family:arial,sans-serif}body{margin:0;overflow-y:scroll}#gog{padding:3px 8px 0}td{line-height:.8em}.gac_m td{line-height:17px}form{margin-bottom:20px}.h{color:#1967d2}em{font-weight:bold;font-style:normal}.lst{height:25px;width:496px}.gsfi,.lst{font:18px arial,sans-serif}.gsfs{font:17px arial,sans-serif}.ds{display:inline-box;display:inline-block;margin:3px 0 4px;margin-left:4px}input{font-family:inherit}body{background:#fff;color:#000}a{color:#681da8;text-decoration:none}a:hover,a:active{text-decoration:underline}.fl a{color:#1967d2}a:visited{color:#681da8}.sblc{padding-top:5px}.sblc a{display:block;margin:2px 0;margin-left:13px;font-size:11px}.lsbb{background:#f8f9fa;border:solid 1px;border-color:#dadce0 #70757a #70757a #dadce0;height:30px}.lsbb{display:block}#WqQANb a{display:inline-block;margin:0 12px}.lsb{background:url(/images/nav_logo229.png) 0 -261px repeat-x;color:#000;border:none;cursor:pointer;height:30px;margin:0;outline:0;font:15px arial,sans-serif;vertical-align:top}.lsb:active{background:#dadce0}.lst:focus{outline:none}</style><script nonce=\"tosgzFELjZzffKHqACN6Uw\">(function(){window.google.erd={jsr:1,bv:1824,de:true};\\nvar l=this||self;var m,n=null!=(m=l.mei)?m:1,p,q=null!=(p=l.sdo)?p:!0,r=0,t,u=google.erd,v=u.jsr;google.ml=function(a,b,d,h,e){e=void 0===e?2:e;b&&(t=a&&a.message);if(google.dl)return google.dl(a,e,d),null;if(0>v){window.console&&console.error(a,d);if(-2===v)throw a;b=!1}else b=!a||!a.message||\"Error loading script\"===a.message||r>=n&&!h?!1:!0;if(!b)return null;r++;d=d||{};b=encodeURIComponent;var c=\"/gen_204?atyp=i&ei=\"+b(google.kEI);google.kEXPI&&(c+=\"&jexpid=\"+b(google.kEXPI));c+=\"&srcpg=\"+b(google.sn)+\"&jsr=\"+b(u.jsr)+\"&bver=\"+b(u.bv);var f=a.lineNumber;void 0!==f&&(c+=\"&line=\"+f);var g=\\na.fileName;g&&(0<g.indexOf(\"-extension:/\")&&(e=3),c+=\"&script=\"+b(g),f&&g===window.location.href&&(f=document.documentElement.outerHTML.split(\"\\\\n\")[f],c+=\"&cad=\"+b(f?f.substring(0,300):\"No script found.\")));c+=\"&jsel=\"+e;for(var k in d)c+=\"&\",c+=b(k),c+=\"=\",c+=b(d[k]);c=c+\"&emsg=\"+b(a.name+\": \"+a.message);c=c+\"&jsst=\"+b(a.stack||\"N/A\");12288<=c.length&&(c=c.substr(0,12288));a=c;h||google.log(0,\"\",a);return a};window.onerror=function(a,b,d,h,e){if(t!==a){a=e instanceof Error?e:Error(a);void 0===d||\"lineNumber\"in a||(a.lineNumber=d);void 0===b||\"fileName\"in a||(a.fileName=b);b=void 0;if(a.stack&&(-1!==a.stack.indexOf(\"?xjs=s0\")||-1!==a.stack.indexOf(\"&xjs=s0\"))){b=document.querySelectorAll(\"script[src*=\\\\\\\\/xjs\\\\\\\\/_\\\\\\\\/js\\\\\\\\/]\");for(h=d=0;h<b.length;h++)d+=b[h].async?1:0;var c=e=h=-1,f=-1,g=-1;if(performance&&google.xjsu){h=0;e=google.timers.load.t.xjsee?1:0;f=c=0;g=performance.getEntriesByType(\"resource\");for(var k=\\n0;k<g.length;k++)g[k].name===google.xjsu&&(h=1),-1!==g[k].name.indexOf(\"/xjs/_/js/\")&&(c+=1,f+=\"script\"===g[k].initiatorType?1:0);g=c-f}b={cad:\"pl_\"+h+\".pe_\"+e+\".asc_\"+d+\".tsc_\"+b.length+\".fasc_\"+(b.length-d)+\".lxc_\"+c+\".lsx_\"+f+\".lnsx_\"+g}}google.ml(a,!1,b,!1,\"SyntaxError\"===a.name||\"SyntaxError\"===a.message.substring(0,11)||-1!==a.message.indexOf(\"Script error\")?3:0)}t=null;q&&r>=n&&(window.onerror=null)};})();</script></head><body bgcolor=\"#fff\"><script nonce=\"tosgzFELjZzffKHqACN6Uw\">(function(){var src=\\'/images/nav_logo229.png\\';var iesg=false;document.body.onload = function(){window.n && window.n();if (document.images){new Image().src=src;}\\nif (!iesg){document.f&&document.f.q.focus();document.gbqf&&document.gbqf.q.focus();}\\n}\\n})();</script><div id=\"mngb\"><div id=gbar><nobr><b class=gb1>Search</b> <a class=gb1 href=\"https://www.google.com/imghp?hl=en&tab=wi\">Images</a> <a class=gb1 href=\"https://maps.google.com/maps?hl=en&tab=wl\">Maps</a> <a class=gb1 href=\"https://play.google.com/?hl=en&tab=w8\">Play</a> <a class=gb1 href=\"https://www.youtube.com/?tab=w1\">YouTube</a> <a class=gb1 href=\"https://news.google.com/?tab=wn\">News</a> <a class=gb1 href=\"https://mail.google.com/mail/?tab=wm\">Gmail</a> <a class=gb1 href=\"https://drive.google.com/?tab=wo\">Drive</a> <a class=gb1 style=\"text-decoration:none\" href=\"https://www.google.com/intl/en/about/products?tab=wh\"><u>More</u> &raquo;</a></nobr></div><div id=guser width=100%><nobr><span id=gbn class=gbi></span><span id=gbf class=gbf></span><span id=gbe></span><a href=\"http://www.google.com/history/optout?hl=en\" class=gb4>Web History</a> | <a  href=\"/preferences?hl=en\" class=gb4>Settings</a> | <a target=_top id=gb_70 href=\"https://accounts.google.com/ServiceLogin?hl=en&passive=true&continue=https://www.google.com/&ec=GAZAAQ\" class=gb4>Sign in</a></nobr></div><div class=gbh style=left:0></div><div class=gbh style=right:0></div></div><center><br clear=\"all\" id=\"lgpd\"><div id=\"lga\"><img alt=\"Google\" height=\"92\" src=\"/images/branding/googlelogo/1x/googlelogo_white_background_color_272x92dp.png\" style=\"padding:28px 0 14px\" width=\"272\" id=\"hplogo\"><br><br></div><form action=\"/search\" name=\"f\"><table cellpadding=\"0\" cellspacing=\"0\"><tr valign=\"top\"><td width=\"25%\">&nbsp;</td><td align=\"center\" nowrap=\"\"><input name=\"ie\" value=\"ISO-8859-1\" type=\"hidden\"><input value=\"en\" name=\"hl\" type=\"hidden\"><input name=\"source\" type=\"hidden\" value=\"hp\"><input name=\"biw\" type=\"hidden\"><input name=\"bih\" type=\"hidden\"><div class=\"ds\" style=\"height:32px;margin:4px 0\"><input class=\"lst\" style=\"margin:0;padding:5px 8px 0 6px;vertical-align:top;color:#000\" autocomplete=\"off\" value=\"\" title=\"Google Search\" maxlength=\"2048\" name=\"q\" size=\"57\"></div><br style=\"line-height:0\"><span class=\"ds\"><span class=\"lsbb\"><input class=\"lsb\" value=\"Google Search\" name=\"btnG\" type=\"submit\"></span></span><span class=\"ds\"><span class=\"lsbb\"><input class=\"lsb\" id=\"tsuid_1\" value=\"I\\'m Feeling Lucky\" name=\"btnI\" type=\"submit\"><script nonce=\"tosgzFELjZzffKHqACN6Uw\">(function(){var id=\\'tsuid_1\\';document.getElementById(id).onclick = function(){if (this.form.q.value){this.checked = 1;if (this.form.iflsig)this.form.iflsig.disabled = false;}\\nelse top.location=\\'/doodles/\\';};})();</script><input value=\"AD69kcEAAAAAZKZ8TTn-EbsndI_bCeAByyQnHASjCGIk\" name=\"iflsig\" type=\"hidden\"></span></span></td><td class=\"fl sblc\" align=\"left\" nowrap=\"\" width=\"25%\"><a href=\"/advanced_search?hl=en&amp;authuser=0\">Advanced search</a></td></tr></table><input id=\"gbv\" name=\"gbv\" type=\"hidden\" value=\"1\"><script nonce=\"tosgzFELjZzffKHqACN6Uw\">(function(){var a,b=\"1\";if(document&&document.getElementById)if(\"undefined\"!=typeof XMLHttpRequest)b=\"2\";else if(\"undefined\"!=typeof ActiveXObject){var c,d,e=[\"MSXML2.XMLHTTP.6.0\",\"MSXML2.XMLHTTP.3.0\",\"MSXML2.XMLHTTP\",\"Microsoft.XMLHTTP\"];for(c=0;d=e[c++];)try{new ActiveXObject(d),b=\"2\"}catch(h){}}a=b;if(\"2\"==a&&-1==location.search.indexOf(\"&gbv=2\")){var f=google.gbvu,g=document.getElementById(\"gbv\");g&&(g.value=a);f&&window.setTimeout(function(){location.href=f},0)};}).call(this);</script></form><div id=\"gac_scont\"></div><div style=\"font-size:83%;min-height:3.5em\"><br></div><span id=\"footer\"><div style=\"font-size:10pt\"><div style=\"margin:19px auto;text-align:center\" id=\"WqQANb\"><a href=\"/intl/en/ads/\">Advertising</a><a href=\"/services/\">Business Solutions</a><a href=\"/intl/en/about.html\">About Google</a></div></div><p style=\"font-size:8pt;color:#70757a\">&copy; 2023 - <a href=\"/intl/en/policies/privacy/\">Privacy</a> - <a href=\"/intl/en/policies/terms/\">Terms</a></p></span></center><script nonce=\"tosgzFELjZzffKHqACN6Uw\">(function(){window.google.cdo={height:757,width:1440};(function(){var a=window.innerWidth,b=window.innerHeight;if(!a||!b){var c=window.document,d=\"CSS1Compat\"==c.compatMode?c.documentElement:c.body;a=d.clientWidth;b=d.clientHeight}\\nif(a&&b&&(a!=google.cdo.width||b!=google.cdo.height)){var e=google,f=e.log,g=\"/client_204?&atyp=i&biw=\"+a+\"&bih=\"+b+\"&ei=\"+google.kEI,h=\"\",k=[],l=void 0!==window.google&&void 0!==window.google.kOPI&&0!==window.google.kOPI?window.google.kOPI:null;null!=l&&k.push([\"opi\",l.toString()]);for(var m=0;m<k.length;m++){if(0===m||0<m)h+=\"&\";h+=k[m][0]+\"=\"+k[m][1]}f.call(e,\"\",\"\",g+h)};}).call(this);})();</script> <script nonce=\"tosgzFELjZzffKHqACN6Uw\">(function(){google.xjs={ck:\\'xjs.hp.SFHoOxOdRJQ.L.X.O\\',cs:\\'ACT90oEw6HKTDrmWYmJ8qJ25VVnGFFeRUw\\',csss:\\'ACT90oHkMNZEPSqr97xYR13wXbXMImaP5Q\\',excm:[],sepcss:false};})();</script>    <script nonce=\"tosgzFELjZzffKHqACN6Uw\">(function(){var u=\\'/xjs/_/js/k\\\\x3dxjs.hp.en.2yb9DC1muAI.O/am\\\\x3dAAAAAAAAAACAAAAAAAAAAAAgAKATAKAAgAU/d\\\\x3d1/ed\\\\x3d1/rs\\\\x3dACT90oGU6QuWJE2lgHHmTTfMHVwrOVMEdw/m\\\\x3dsb_he,d,cEt90b,SNUn3,qddgKe,sTsDMc,dtl0hd,eHDfl\\';var amd=0;\\nvar e=this||self,f=function(c){return c};var g;var k=function(c){this.g=c};k.prototype.toString=function(){return this.g+\"\"};var m={};\\nfunction q(){var c=u,n=function(){};google.lx=google.stvsc?n:function(){google.timers&&google.timers.load&&google.tick&&google.tick(\"load\",\"xjsls\");var a=document;var b=\"SCRIPT\";\"application/xhtml+xml\"===a.contentType&&(b=b.toLowerCase());b=a.createElement(b);a=null===c?\"null\":void 0===c?\"undefined\":c;if(void 0===g){var d=null;var l=e.trustedTypes;if(l&&l.createPolicy){try{d=l.createPolicy(\"goog#html\",{createHTML:f,createScript:f,createScriptURL:f})}catch(r){e.console&&e.console.error(r.message)}g=\\nd}else g=d}a=(d=g)?d.createScriptURL(a):a;a=new k(a,m);b.src=a instanceof k&&a.constructor===k?a.g:\"type_error:TrustedResourceUrl\";var h,p;(h=(a=null==(p=(h=(b.ownerDocument&&b.ownerDocument.defaultView||window).document).querySelector)?void 0:p.call(h,\"script[nonce]\"))?a.nonce||a.getAttribute(\"nonce\")||\"\":\"\")&&b.setAttribute(\"nonce\",h);document.body.appendChild(b);google.psa=!0;google.lx=n};google.bx||google.lx()};google.xjsu=u;e._F_jsUrl=u;setTimeout(function(){0<amd?google.caft(function(){return q()},amd):q()},0);})();window._ = window._ || {};window._DumpException = _._DumpException = function(e){throw e;};window._s = window._s || {};_s._DumpException = _._DumpException;window._qs = window._qs || {};_qs._DumpException = _._DumpException;function _F_installCss(c){}\\n(function(){google.jl={blt:\\'none\\',chnk:0,dw:false,dwu:true,emtn:0,end:0,ico:false,ikb:0,ine:false,injs:\\'none\\',injt:0,injth:0,injv2:false,lls:\\'default\\',pdt:0,rep:0,snet:true,strt:0,ubm:false,uwp:true};})();(function(){var pmc=\\'{\\\\x22d\\\\x22:{},\\\\x22sb_he\\\\x22:{\\\\x22agen\\\\x22:true,\\\\x22cgen\\\\x22:true,\\\\x22client\\\\x22:\\\\x22heirloom-hp\\\\x22,\\\\x22dh\\\\x22:true,\\\\x22ds\\\\x22:\\\\x22\\\\x22,\\\\x22fl\\\\x22:true,\\\\x22host\\\\x22:\\\\x22google.com\\\\x22,\\\\x22jsonp\\\\x22:true,\\\\x22msgs\\\\x22:{\\\\x22cibl\\\\x22:\\\\x22Clear Search\\\\x22,\\\\x22dym\\\\x22:\\\\x22Did you mean:\\\\x22,\\\\x22lcky\\\\x22:\\\\x22I\\\\\\\\u0026#39;m Feeling Lucky\\\\x22,\\\\x22lml\\\\x22:\\\\x22Learn more\\\\x22,\\\\x22psrc\\\\x22:\\\\x22This search was removed from your \\\\\\\\u003Ca href\\\\x3d\\\\\\\\\\\\x22/history\\\\\\\\\\\\x22\\\\\\\\u003EWeb History\\\\\\\\u003C/a\\\\\\\\u003E\\\\x22,\\\\x22psrl\\\\x22:\\\\x22Remove\\\\x22,\\\\x22sbit\\\\x22:\\\\x22Search by image\\\\x22,\\\\x22srch\\\\x22:\\\\x22Google Search\\\\x22},\\\\x22ovr\\\\x22:{},\\\\x22pq\\\\x22:\\\\x22\\\\x22,\\\\x22rfs\\\\x22:[],\\\\x22sbas\\\\x22:\\\\x220 3px 8px 0 rgba(0,0,0,0.2),0 0 0 1px rgba(0,0,0,0.08)\\\\x22,\\\\x22stok\\\\x22:\\\\x22Fn0hb3cenp_s_6IKFYmJCmGCg8g\\\\x22}}\\';google.pmc=JSON.parse(pmc);})();(function(){\\nvar b=function(a){var c=0;return function(){return c<a.length?{done:!1,value:a[c++]}:{done:!0}}},e=this||self;var g,h;a:{for(var k=[\"CLOSURE_FLAGS\"],l=e,n=0;n<k.length;n++)if(l=l[k[n]],null==l){h=null;break a}h=l}var p=h&&h[610401301];g=null!=p?p:!1;var q,r=e.navigator;q=r?r.userAgentData||null:null;function t(a){return g?q?q.brands.some(function(c){return(c=c.brand)&&-1!=c.indexOf(a)}):!1:!1}function u(a){var c;a:{if(c=e.navigator)if(c=c.userAgent)break a;c=\"\"}return-1!=c.indexOf(a)};function v(){return g?!!q&&0<q.brands.length:!1}function w(){return u(\"Safari\")&&!(x()||(v()?0:u(\"Coast\"))||(v()?0:u(\"Opera\"))||(v()?0:u(\"Edge\"))||(v()?t(\"Microsoft Edge\"):u(\"Edg/\"))||(v()?t(\"Opera\"):u(\"OPR\"))||u(\"Firefox\")||u(\"FxiOS\")||u(\"Silk\")||u(\"Android\"))}function x(){return v()?t(\"Chromium\"):(u(\"Chrome\")||u(\"CriOS\"))&&!(v()?0:u(\"Edge\"))||u(\"Silk\")}function y(){return u(\"Android\")&&!(x()||u(\"Firefox\")||u(\"FxiOS\")||(v()?0:u(\"Opera\"))||u(\"Silk\"))};var z=v()?!1:u(\"Trident\")||u(\"MSIE\");y();x();w();var A=!z&&!w(),D=function(a){if(/-[a-z]/.test(\"ved\"))return null;if(A&&a.dataset){if(y()&&!(\"ved\"in a.dataset))return null;a=a.dataset.ved;return void 0===a?null:a}return a.getAttribute(\"data-\"+\"ved\".replace(/([A-Z])/g,\"-$1\").toLowerCase())};var E=[],F=null;function G(a){a=a.target;var c=performance.now(),f=[],H=f.concat,d=E;if(!(d instanceof Array)){var m=\"undefined\"!=typeof Symbol&&Symbol.iterator&&d[Symbol.iterator];if(m)d=m.call(d);else if(\"number\"==typeof d.length)d={next:b(d)};else throw Error(\"a`\"+String(d));for(var B=[];!(m=d.next()).done;)B.push(m.value);d=B}E=H.call(f,d,[c]);if(a&&a instanceof HTMLElement)if(a===F){if(c=4<=E.length)c=5>(E[E.length-1]-E[E.length-4])/1E3;if(c){c=google.getEI(a);a.hasAttribute(\"data-ved\")?f=a?D(a)||\"\":\"\":f=(f=\\na.closest(\"[data-ved]\"))?D(f)||\"\":\"\";f=f||\"\";if(a.hasAttribute(\"jsname\"))a=a.getAttribute(\"jsname\");else{var C;a=null==(C=a.closest(\"[jsname]\"))?void 0:C.getAttribute(\"jsname\")}google.log(\"rcm\",\"&ei=\"+c+\"&ved=\"+f+\"&jsname=\"+(a||\"\"))}}else F=a,E=[c]}window.document.addEventListener(\"DOMContentLoaded\",function(){document.body.addEventListener(\"click\",G)});}).call(this);</script></body></html>'"
            ],
            "application/vnd.google.colaboratory.intrinsic+json": {
              "type": "string"
            }
          },
          "metadata": {},
          "execution_count": 51
        }
      ]
    },
    {
      "cell_type": "code",
      "source": [
        "with open(\"mygoogle.html\",\"w\",encoding=\"utf8\") as f:\n",
        "  f.write(res.text)"
      ],
      "metadata": {
        "id": "tkdgYa7mHyqK"
      },
      "execution_count": 52,
      "outputs": []
    },
    {
      "cell_type": "code",
      "source": [],
      "metadata": {
        "id": "zNwcYmW_ISWi"
      },
      "execution_count": null,
      "outputs": []
    }
  ]
}
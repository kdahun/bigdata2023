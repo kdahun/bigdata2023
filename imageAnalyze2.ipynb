{
 "cells": [
  {
   "cell_type": "code",
   "execution_count": 1,
   "id": "f08bf7c5",
   "metadata": {},
   "outputs": [
    {
     "name": "stderr",
     "output_type": "stream",
     "text": [
      "Using TensorFlow backend.\n"
     ]
    },
    {
     "name": "stdout",
     "output_type": "stream",
     "text": [
      "(60000, 784) (60000, 10)\n",
      "(10000, 784) (10000, 10)\n"
     ]
    }
   ],
   "source": [
    "from keras.datasets import mnist\n",
    "from keras.utils import to_categorical\n",
    "(x_train,y_train),(x_test,y_test)=mnist.load_data()\n",
    "\n",
    "x_train = x_train.reshape(x_train.shape[0],-1)/255.\n",
    "x_test = x_test.reshape(x_test.shape[0],-1)/255.\n",
    "\n",
    "y_train = to_categorical(y_train)\n",
    "y_test=to_categorical(y_test)\n",
    "\n",
    "print(x_train.shape,y_train.shape)\n",
    "print(x_test.shape,y_test.shape)"
   ]
  },
  {
   "cell_type": "code",
   "execution_count": 6,
   "id": "d64a05d4",
   "metadata": {},
   "outputs": [
    {
     "name": "stdout",
     "output_type": "stream",
     "text": [
      "Epoch 1/5\n",
      "1875/1875 [==============================] - 1s 471us/step - loss: 1.0996 - accuracy: 0.7099\n",
      "Epoch 2/5\n",
      "1875/1875 [==============================] - 1s 465us/step - loss: 0.3617 - accuracy: 0.9002\n",
      "Epoch 3/5\n",
      "1875/1875 [==============================] - 1s 468us/step - loss: 0.3061 - accuracy: 0.9121\n",
      "Epoch 4/5\n",
      "1875/1875 [==============================] - 1s 464us/step - loss: 0.2701 - accuracy: 0.9240\n",
      "Epoch 5/5\n",
      "1875/1875 [==============================] - 1s 466us/step - loss: 0.2424 - accuracy: 0.9304\n",
      "79/79 [==============================] - 0s 462us/step - loss: 0.2283 - accuracy: 0.9336\n"
     ]
    }
   ],
   "source": [
    "from keras.models import Sequential\n",
    "from keras.layers import Dense\n",
    "\n",
    "model = Sequential()\n",
    "\n",
    "\n",
    "model.add(Dense(units=64,activation='relu',input_dim=784))\n",
    "model.add(Dense(units=10,activation='softmax'))\n",
    "model.compile(loss='categorical_crossentropy',optimizer='sgd',metrics=['accuracy'])\n",
    "\n",
    "model.fit(x_train,y_train,epochs=5,batch_size=32)\n",
    "\n",
    "loss_and_metrics = model.evaluate(x_test,y_test,batch_size=128)\n",
    "\n",
    "classes=model.predict(x_test,batch_size=128)\n",
    "\n"
   ]
  },
  {
   "cell_type": "code",
   "execution_count": 7,
   "id": "9b4658f5",
   "metadata": {},
   "outputs": [],
   "source": [
    "import numpy as np\n",
    "import matplotlib.pyplot as plt"
   ]
  },
  {
   "cell_type": "code",
   "execution_count": 8,
   "id": "5925f912",
   "metadata": {
    "scrolled": true
   },
   "outputs": [
    {
     "data": {
      "image/png": "[encoded data removed]",
      "text/plain": [
       "<Figure size 640x480 with 1 Axes>"
      ]
     },
     "metadata": {},
     "output_type": "display_data"
    }
   ],
   "source": [
    "plt.imshow(x_train[0].reshape(28,28),cmap='gray')\n",
    "plt.show()"
   ]
  },
  {
   "cell_type": "code",
   "execution_count": 10,
   "id": "5376cf99",
   "metadata": {},
   "outputs": [],
   "source": [
    "# 케라스 활용  신경망을 이용한 수치 예측(회귀)"
   ]
  },
  {
   "cell_type": "markdown",
   "id": "4afee52d",
   "metadata": {},
   "source": [
    "# 데이터 준비\n",
    "y = w1x1 + w2x2 + b # 이런 수식에서 y를 예측하는 회귀 문제\n",
    "\n",
    "# 인위적인 노이즈를 추가\n",
    "* import numpy as np\n",
    "* np.linspace"
   ]
  },
  {
   "cell_type": "code",
   "execution_count": 100,
   "id": "59229f93",
   "metadata": {},
   "outputs": [],
   "source": [
    "import numpy as np\n",
    "from numpy.random import normal"
   ]
  },
  {
   "cell_type": "code",
   "execution_count": 147,
   "id": "c5686718",
   "metadata": {},
   "outputs": [
    {
     "data": {
      "text/plain": [
       "(array([-0.80070926, -0.80050924, -0.80030922, ...,  1.1988907 ,\n",
       "         1.19909072,  1.19929074]),\n",
       " array([-0.0964772 , -0.09627718, -0.09607716, ...,  1.90312276,\n",
       "         1.90332278,  1.9035228 ]))"
      ]
     },
     "execution_count": 147,
     "metadata": {},
     "output_type": "execute_result"
    }
   ],
   "source": [
    "# linspace는 1,2 번째 인자 수사이를 균등하게 3번째 인자 수만 큼 나눠준것\n",
    "# normal 무작위 표본 추출\n",
    "m=10000\n",
    "x1 = np.linspace(-1,1,m) + normal(loc=0.2,scale = 0.01)\n",
    "x2 = np.linspace(0,2,m)+ normal(loc=-0.1,scale = 0.01)\n",
    "x1,x2"
   ]
  },
  {
   "cell_type": "code",
   "execution_count": 148,
   "id": "90e5ea93",
   "metadata": {},
   "outputs": [],
   "source": [
    "w1 = 1.0\n",
    "w2 = -2.0\n",
    "b = -3.5\n",
    "y = w1*x1+w2*x2+b"
   ]
  },
  {
   "cell_type": "code",
   "execution_count": 149,
   "id": "ea32880a",
   "metadata": {},
   "outputs": [
    {
     "data": {
      "text/plain": [
       "array([-4.10775485, -4.10795487, -4.10815489, ..., -6.10735481,\n",
       "       -6.10755483, -6.10775485])"
      ]
     },
     "execution_count": 149,
     "metadata": {},
     "output_type": "execute_result"
    }
   ],
   "source": [
    "y"
   ]
  },
  {
   "cell_type": "code",
   "execution_count": 150,
   "id": "f5eda122",
   "metadata": {
    "scrolled": false
   },
   "outputs": [
    {
     "data": {
      "text/plain": [
       "<matplotlib.collections.PathCollection at 0x226d48b5f70>"
      ]
     },
     "execution_count": 150,
     "metadata": {},
     "output_type": "execute_result"
    },
    {
     "data": {
      "image/png": "[encoded data removed]",
      "text/plain": [
       "<Figure size 640x480 with 1 Axes>"
      ]
     },
     "metadata": {},
     "output_type": "display_data"
    }
   ],
   "source": [
    "# 맷플롯립을 활용하여 시각화\n",
    "# 케라스로 y를 예측하는 회귀무델 설계\n",
    "import matplotlib.pyplot as plt\n",
    "plt.scatter(x1,w1*x1,label='x1')\n",
    "plt.scatter(x2,w2*x2,label='x2')\n",
    "plt.scatter(range(m),y,label='y')"
   ]
  },
  {
   "cell_type": "code",
   "execution_count": 151,
   "id": "7e95a8df",
   "metadata": {},
   "outputs": [
    {
     "data": {
      "text/plain": [
       "((10000,), (10000,), (10000,))"
      ]
     },
     "execution_count": 151,
     "metadata": {},
     "output_type": "execute_result"
    }
   ],
   "source": [
    "x1.shape,x2.shape,y.shape"
   ]
  },
  {
   "cell_type": "code",
   "execution_count": 152,
   "id": "d03168ef",
   "metadata": {},
   "outputs": [
    {
     "name": "stdout",
     "output_type": "stream",
     "text": [
      "(10000, 2) (10000,)\n"
     ]
    }
   ],
   "source": [
    "# expand_dims 는 차원 확장\n",
    "x1= np.expand_dims(x1,axis=1)\n",
    "x2= np.expand_dims(x2,axis=1)\n",
    "x = np.concatenate([x1,x2],axis=1)\n",
    "y_train = y\n",
    "print(x.shape,y_train.shape)"
   ]
  },
  {
   "cell_type": "code",
   "execution_count": 153,
   "id": "2879362b",
   "metadata": {},
   "outputs": [
    {
     "data": {
      "text/plain": [
       "((1000, 2), (9000, 2), (1000,), (9000,))"
      ]
     },
     "execution_count": 153,
     "metadata": {},
     "output_type": "execute_result"
    }
   ],
   "source": [
    "# test와 train 나누기\n",
    "\n",
    "ho_ratio = 0.1\n",
    "indices = np.random.permutation(m)\n",
    "test_index = indices[:int(ho_ratio*m)]\n",
    "train_index = indices[int(ho_ratio*m):]\n",
    "x_train = x[train_index]\n",
    "x_test = x[test_index]\n",
    "\n",
    "y_test = y[test_index]\n",
    "y_train = y[train_index]\n",
    "\n",
    "x_test.shape,x_train.shape,y_test.shape,y_train.shape"
   ]
  },
  {
   "cell_type": "code",
   "execution_count": 155,
   "id": "9d208e25",
   "metadata": {},
   "outputs": [
    {
     "name": "stdout",
     "output_type": "stream",
     "text": [
      "Epoch 1/5\n",
      "282/282 [==============================] - 0s 379us/step - loss: 6.5078 - mae: 1.6968 - accuracy: 0.0000e+00\n",
      "Epoch 2/5\n",
      "282/282 [==============================] - 0s 367us/step - loss: 0.0038 - mae: 0.0482 - accuracy: 0.0000e+00\n",
      "Epoch 3/5\n",
      "282/282 [==============================] - 0s 370us/step - loss: 4.5981e-05 - mae: 0.0053 - accuracy: 0.0000e+00\n",
      "Epoch 4/5\n",
      "282/282 [==============================] - 0s 367us/step - loss: 5.7110e-07 - mae: 5.9101e-04 - accuracy: 0.0000e+00\n",
      "Epoch 5/5\n",
      "282/282 [==============================] - 0s 381us/step - loss: 6.7075e-09 - mae: 6.4577e-05 - accuracy: 0.0000e+00\n",
      "71/71 [==============================] - 0s 343us/step - loss: 1.7716e-10 - mae: 1.1220e-05 - accuracy: 0.0000e+00\n"
     ]
    }
   ],
   "source": [
    "model = Sequential()\n",
    "\n",
    "\n",
    "model.add(Dense(units=1,activation='linear',input_dim=2))\n",
    "#model.add(Dense(units=1,activation='linear'))\n",
    "model.compile(loss='mse',optimizer='sgd',metrics=[['mae','accuracy']])\n",
    "\n",
    "model.fit(x_train,y_train,epochs=5,batch_size=32) # 테스트에 대한 \n",
    "loss_and_metrics = model.evaluate(x_train,y_train,batch_size=128) # 평가지표?\n",
    "\n",
    "classes=model.predict(x_train,batch_size=128) # 예측한 결과 y_hat이다.\n"
   ]
  },
  {
   "cell_type": "code",
   "execution_count": 156,
   "id": "141de5dc",
   "metadata": {},
   "outputs": [
    {
     "data": {
      "text/plain": [
       "array([[-4.558983 ],\n",
       "       [-5.0410414],\n",
       "       [-5.0344405],\n",
       "       ...,\n",
       "       [-4.914826 ],\n",
       "       [-5.8551397],\n",
       "       [-5.418087 ]], dtype=float32)"
      ]
     },
     "execution_count": 156,
     "metadata": {},
     "output_type": "execute_result"
    }
   ],
   "source": [
    "classes"
   ]
  },
  {
   "cell_type": "code",
   "execution_count": 157,
   "id": "b2f61b8d",
   "metadata": {},
   "outputs": [
    {
     "data": {
      "text/plain": [
       "array([-4.55899998, -5.04104818, -5.03444752, ..., -4.91483556,\n",
       "       -5.85512959, -5.41808589])"
      ]
     },
     "execution_count": 157,
     "metadata": {},
     "output_type": "execute_result"
    }
   ],
   "source": [
    "y_train"
   ]
  },
  {
   "cell_type": "code",
   "execution_count": 158,
   "id": "30044c57",
   "metadata": {},
   "outputs": [
    {
     "name": "stdout",
     "output_type": "stream",
     "text": [
      "Model: \"sequential_22\"\n",
      "_________________________________________________________________\n",
      "Layer (type)                 Output Shape              Param #   \n",
      "=================================================================\n",
      "dense_41 (Dense)             (None, 1)                 3         \n",
      "=================================================================\n",
      "Total params: 3\n",
      "Trainable params: 3\n",
      "Non-trainable params: 0\n",
      "_________________________________________________________________\n"
     ]
    }
   ],
   "source": [
    "model.summary()"
   ]
  },
  {
   "cell_type": "code",
   "execution_count": 159,
   "id": "8729e1f6",
   "metadata": {},
   "outputs": [
    {
     "data": {
      "text/plain": [
       "[array([[ 0.9696317],\n",
       "        [-1.9696527]], dtype=float32),\n",
       " array([-3.5213618], dtype=float32)]"
      ]
     },
     "execution_count": 159,
     "metadata": {},
     "output_type": "execute_result"
    }
   ],
   "source": [
    "model.get_weights() # 처음에 넣었던 w1 ,w2 d 값이 비슷하게 나온걸 알수 있다"
   ]
  },
  {
   "cell_type": "code",
   "execution_count": 160,
   "id": "ed215df6",
   "metadata": {},
   "outputs": [
    {
     "data": {
      "text/plain": [
       "[1.7715706679410914e-10, 1.122024332289584e-05, 0.0]"
      ]
     },
     "execution_count": 160,
     "metadata": {},
     "output_type": "execute_result"
    }
   ],
   "source": [
    "loss_and_metrics"
   ]
  },
  {
   "cell_type": "markdown",
   "id": "3ae6a7c2",
   "metadata": {},
   "source": [
    "# 보스턴 주택가격 예측"
   ]
  },
  {
   "cell_type": "code",
   "execution_count": 197,
   "id": "fb96f19d",
   "metadata": {},
   "outputs": [],
   "source": [
    "from keras.datasets import boston_housing"
   ]
  },
  {
   "cell_type": "code",
   "execution_count": 198,
   "id": "f2c06b2c",
   "metadata": {},
   "outputs": [
    {
     "name": "stdout",
     "output_type": "stream",
     "text": [
      "(404, 13) (404,) (102, 13) (102,)\n"
     ]
    }
   ],
   "source": [
    "(x_train,y_train),(x_test,y_test) = boston_housing.load_data(path=\"boston_housing.npz\",test_split=0.2,seed=113)\n",
    "print(x_train.shape,y_train.shape,x_test.shape,y_test.shape)"
   ]
  },
  {
   "cell_type": "code",
   "execution_count": 205,
   "id": "7b4d0593",
   "metadata": {},
   "outputs": [],
   "source": [
    "# 값의 범위가 정규화가 안되어 있어서 loss가 크다\n",
    "# 발산하거나 시간이 오래걸린다.\n",
    "# 최소 최대 정규화, z 점수 표준화\n",
    "# 아래 코드는 z점수 표준화\n",
    "import numpy as np\n",
    "def zscore_standize(x):\n",
    "    return (x-x.mean(0))/x.std(0)\n",
    "\n",
    "# 최소 최대 정규화\n",
    "def minmax_normalize(x):\n",
    "    return (x-x.min(0))/(x.max(0)-x.min(0))\n",
    "\n",
    "x_train = np.apply_along_axis(zscore_standize,0,x_train)\n",
    "x_test = np.apply_along_axis(zscore_standize,0,x_test)\n",
    "\n",
    "#x_train = np.apply_along_axis(minmax_normalize,0,x_train)\n",
    "#x_test = np.apply_along_axis(minmax_normalize,0,x_test)\n"
   ]
  },
  {
   "cell_type": "code",
   "execution_count": 209,
   "id": "3d319967",
   "metadata": {},
   "outputs": [
    {
     "name": "stdout",
     "output_type": "stream",
     "text": [
      "Epoch 1/5\n",
      "13/13 [==============================] - 0s 500us/step - loss: 525.8648 - mae: 21.2750\n",
      "Epoch 2/5\n",
      "13/13 [==============================] - 0s 417us/step - loss: 297.6178 - mae: 16.0550\n",
      "Epoch 3/5\n",
      "13/13 [==============================] - 0s 417us/step - loss: 196.5710 - mae: 12.6871\n",
      "Epoch 4/5\n",
      "13/13 [==============================] - 0s 417us/step - loss: 118.8417 - mae: 9.4869\n",
      "Epoch 5/5\n",
      "13/13 [==============================] - 0s 417us/step - loss: 78.4478 - mae: 7.2771\n",
      "404/404 [==============================] - 0s 295us/step - loss: 62.9814 - mae: 6.1243\n"
     ]
    }
   ],
   "source": [
    "model = Sequential()\n",
    "# 모델이 갱신되는거는 batch size로 된다 = > batch size가 짧으면 로스가 더 준다\n",
    "# ep\n",
    "\n",
    "model.add(Dense(units=1,activation='linear',input_dim=13))\n",
    "model.compile(loss='mse',optimizer='sgd',metrics=['mae'])\n",
    "# sgd\n",
    "\n",
    "\n",
    "model.fit(x_train,y_train,epochs=5,batch_size=32) # 테스트에 대한 \n",
    "loss_and_metrics = model.evaluate(x_train,y_train,batch_size=1) # 평가지표?\n",
    "\n",
    "classes=model.predict(x_train,batch_size=128) # 예측한 결과 y_hat이다."
   ]
  },
  {
   "cell_type": "code",
   "execution_count": 192,
   "id": "63df5f74",
   "metadata": {},
   "outputs": [
    {
     "data": {
      "text/plain": [
       "array([ 8.26684693e-01, -4.83615471e-01,  6.50768503e+00, -2.56832748e-01,\n",
       "       -4.21971391e+00, -2.69846469e+00,  8.92270377e+01,  2.13231260e+00,\n",
       "        2.91332398e+00,  3.04557308e+02,  1.25928687e+01,  3.93125494e+02,\n",
       "        1.69615693e+01])"
      ]
     },
     "execution_count": 192,
     "metadata": {},
     "output_type": "execute_result"
    }
   ],
   "source": [
    "x_train[0]"
   ]
  },
  {
   "cell_type": "code",
   "execution_count": 193,
   "id": "223390d3",
   "metadata": {},
   "outputs": [
    {
     "data": {
      "text/plain": [
       "array([-3.84015307e-01,  8.20163845e+01,  3.97685027e-01, -2.56832748e-01,\n",
       "       -4.34271391e+00, -1.23046469e+00,  1.32270377e+01,  4.42541260e+00,\n",
       "        9.13323982e-01,  3.45557308e+02,  6.29286866e+00,  3.91605494e+02,\n",
       "        1.35156927e+00])"
      ]
     },
     "execution_count": 193,
     "metadata": {},
     "output_type": "execute_result"
    }
   ],
   "source": [
    "x_train[1]"
   ]
  },
  {
   "cell_type": "code",
   "execution_count": 194,
   "id": "3b7cb743",
   "metadata": {},
   "outputs": [
    {
     "data": {
      "text/plain": [
       "array([ 4.49243469e+00, -4.83615471e-01,  1.64676850e+01, -2.56832748e-01,\n",
       "       -4.12671391e+00, -3.87046469e+00,  9.75270377e+01, -5.12087400e-01,\n",
       "        2.29133240e+01,  6.63557308e+02,  1.17928687e+01,  3.71745494e+02,\n",
       "        1.50156927e+00])"
      ]
     },
     "execution_count": 194,
     "metadata": {},
     "output_type": "execute_result"
    }
   ],
   "source": [
    "x_train[2]"
   ]
  },
  {
   "cell_type": "code",
   "execution_count": 196,
   "id": "3a0eba8b",
   "metadata": {
    "scrolled": true
   },
   "outputs": [
    {
     "data": {
      "text/plain": [
       "array([[nan],\n",
       "       [nan],\n",
       "       [nan],\n",
       "       [nan],\n",
       "       [nan],\n",
       "       [nan],\n",
       "       [nan],\n",
       "       [nan],\n",
       "       [nan],\n",
       "       [nan],\n",
       "       [nan],\n",
       "       [nan],\n",
       "       [nan],\n",
       "       [nan],\n",
       "       [nan],\n",
       "       [nan],\n",
       "       [nan],\n",
       "       [nan],\n",
       "       [nan],\n",
       "       [nan],\n",
       "       [nan],\n",
       "       [nan],\n",
       "       [nan],\n",
       "       [nan],\n",
       "       [nan],\n",
       "       [nan],\n",
       "       [nan],\n",
       "       [nan],\n",
       "       [nan],\n",
       "       [nan],\n",
       "       [nan],\n",
       "       [nan],\n",
       "       [nan],\n",
       "       [nan],\n",
       "       [nan],\n",
       "       [nan],\n",
       "       [nan],\n",
       "       [nan],\n",
       "       [nan],\n",
       "       [nan],\n",
       "       [nan],\n",
       "       [nan],\n",
       "       [nan],\n",
       "       [nan],\n",
       "       [nan],\n",
       "       [nan],\n",
       "       [nan],\n",
       "       [nan],\n",
       "       [nan],\n",
       "       [nan],\n",
       "       [nan],\n",
       "       [nan],\n",
       "       [nan],\n",
       "       [nan],\n",
       "       [nan],\n",
       "       [nan],\n",
       "       [nan],\n",
       "       [nan],\n",
       "       [nan],\n",
       "       [nan],\n",
       "       [nan],\n",
       "       [nan],\n",
       "       [nan],\n",
       "       [nan],\n",
       "       [nan],\n",
       "       [nan],\n",
       "       [nan],\n",
       "       [nan],\n",
       "       [nan],\n",
       "       [nan],\n",
       "       [nan],\n",
       "       [nan],\n",
       "       [nan],\n",
       "       [nan],\n",
       "       [nan],\n",
       "       [nan],\n",
       "       [nan],\n",
       "       [nan],\n",
       "       [nan],\n",
       "       [nan],\n",
       "       [nan],\n",
       "       [nan],\n",
       "       [nan],\n",
       "       [nan],\n",
       "       [nan],\n",
       "       [nan],\n",
       "       [nan],\n",
       "       [nan],\n",
       "       [nan],\n",
       "       [nan],\n",
       "       [nan],\n",
       "       [nan],\n",
       "       [nan],\n",
       "       [nan],\n",
       "       [nan],\n",
       "       [nan],\n",
       "       [nan],\n",
       "       [nan],\n",
       "       [nan],\n",
       "       [nan],\n",
       "       [nan],\n",
       "       [nan],\n",
       "       [nan],\n",
       "       [nan],\n",
       "       [nan],\n",
       "       [nan],\n",
       "       [nan],\n",
       "       [nan],\n",
       "       [nan],\n",
       "       [nan],\n",
       "       [nan],\n",
       "       [nan],\n",
       "       [nan],\n",
       "       [nan],\n",
       "       [nan],\n",
       "       [nan],\n",
       "       [nan],\n",
       "       [nan],\n",
       "       [nan],\n",
       "       [nan],\n",
       "       [nan],\n",
       "       [nan],\n",
       "       [nan],\n",
       "       [nan],\n",
       "       [nan],\n",
       "       [nan],\n",
       "       [nan],\n",
       "       [nan],\n",
       "       [nan],\n",
       "       [nan],\n",
       "       [nan],\n",
       "       [nan],\n",
       "       [nan],\n",
       "       [nan],\n",
       "       [nan],\n",
       "       [nan],\n",
       "       [nan],\n",
       "       [nan],\n",
       "       [nan],\n",
       "       [nan],\n",
       "       [nan],\n",
       "       [nan],\n",
       "       [nan],\n",
       "       [nan],\n",
       "       [nan],\n",
       "       [nan],\n",
       "       [nan],\n",
       "       [nan],\n",
       "       [nan],\n",
       "       [nan],\n",
       "       [nan],\n",
       "       [nan],\n",
       "       [nan],\n",
       "       [nan],\n",
       "       [nan],\n",
       "       [nan],\n",
       "       [nan],\n",
       "       [nan],\n",
       "       [nan],\n",
       "       [nan],\n",
       "       [nan],\n",
       "       [nan],\n",
       "       [nan],\n",
       "       [nan],\n",
       "       [nan],\n",
       "       [nan],\n",
       "       [nan],\n",
       "       [nan],\n",
       "       [nan],\n",
       "       [nan],\n",
       "       [nan],\n",
       "       [nan],\n",
       "       [nan],\n",
       "       [nan],\n",
       "       [nan],\n",
       "       [nan],\n",
       "       [nan],\n",
       "       [nan],\n",
       "       [nan],\n",
       "       [nan],\n",
       "       [nan],\n",
       "       [nan],\n",
       "       [nan],\n",
       "       [nan],\n",
       "       [nan],\n",
       "       [nan],\n",
       "       [nan],\n",
       "       [nan],\n",
       "       [nan],\n",
       "       [nan],\n",
       "       [nan],\n",
       "       [nan],\n",
       "       [nan],\n",
       "       [nan],\n",
       "       [nan],\n",
       "       [nan],\n",
       "       [nan],\n",
       "       [nan],\n",
       "       [nan],\n",
       "       [nan],\n",
       "       [nan],\n",
       "       [nan],\n",
       "       [nan],\n",
       "       [nan],\n",
       "       [nan],\n",
       "       [nan],\n",
       "       [nan],\n",
       "       [nan],\n",
       "       [nan],\n",
       "       [nan],\n",
       "       [nan],\n",
       "       [nan],\n",
       "       [nan],\n",
       "       [nan],\n",
       "       [nan],\n",
       "       [nan],\n",
       "       [nan],\n",
       "       [nan],\n",
       "       [nan],\n",
       "       [nan],\n",
       "       [nan],\n",
       "       [nan],\n",
       "       [nan],\n",
       "       [nan],\n",
       "       [nan],\n",
       "       [nan],\n",
       "       [nan],\n",
       "       [nan],\n",
       "       [nan],\n",
       "       [nan],\n",
       "       [nan],\n",
       "       [nan],\n",
       "       [nan],\n",
       "       [nan],\n",
       "       [nan],\n",
       "       [nan],\n",
       "       [nan],\n",
       "       [nan],\n",
       "       [nan],\n",
       "       [nan],\n",
       "       [nan],\n",
       "       [nan],\n",
       "       [nan],\n",
       "       [nan],\n",
       "       [nan],\n",
       "       [nan],\n",
       "       [nan],\n",
       "       [nan],\n",
       "       [nan],\n",
       "       [nan],\n",
       "       [nan],\n",
       "       [nan],\n",
       "       [nan],\n",
       "       [nan],\n",
       "       [nan],\n",
       "       [nan],\n",
       "       [nan],\n",
       "       [nan],\n",
       "       [nan],\n",
       "       [nan],\n",
       "       [nan],\n",
       "       [nan],\n",
       "       [nan],\n",
       "       [nan],\n",
       "       [nan],\n",
       "       [nan],\n",
       "       [nan],\n",
       "       [nan],\n",
       "       [nan],\n",
       "       [nan],\n",
       "       [nan],\n",
       "       [nan],\n",
       "       [nan],\n",
       "       [nan],\n",
       "       [nan],\n",
       "       [nan],\n",
       "       [nan],\n",
       "       [nan],\n",
       "       [nan],\n",
       "       [nan],\n",
       "       [nan],\n",
       "       [nan],\n",
       "       [nan],\n",
       "       [nan],\n",
       "       [nan],\n",
       "       [nan],\n",
       "       [nan],\n",
       "       [nan],\n",
       "       [nan],\n",
       "       [nan],\n",
       "       [nan],\n",
       "       [nan],\n",
       "       [nan],\n",
       "       [nan],\n",
       "       [nan],\n",
       "       [nan],\n",
       "       [nan],\n",
       "       [nan],\n",
       "       [nan],\n",
       "       [nan],\n",
       "       [nan],\n",
       "       [nan],\n",
       "       [nan],\n",
       "       [nan],\n",
       "       [nan],\n",
       "       [nan],\n",
       "       [nan],\n",
       "       [nan],\n",
       "       [nan],\n",
       "       [nan],\n",
       "       [nan],\n",
       "       [nan],\n",
       "       [nan],\n",
       "       [nan],\n",
       "       [nan],\n",
       "       [nan],\n",
       "       [nan],\n",
       "       [nan],\n",
       "       [nan],\n",
       "       [nan],\n",
       "       [nan],\n",
       "       [nan],\n",
       "       [nan],\n",
       "       [nan],\n",
       "       [nan],\n",
       "       [nan],\n",
       "       [nan],\n",
       "       [nan],\n",
       "       [nan],\n",
       "       [nan],\n",
       "       [nan],\n",
       "       [nan],\n",
       "       [nan],\n",
       "       [nan],\n",
       "       [nan],\n",
       "       [nan],\n",
       "       [nan],\n",
       "       [nan],\n",
       "       [nan],\n",
       "       [nan],\n",
       "       [nan],\n",
       "       [nan],\n",
       "       [nan],\n",
       "       [nan],\n",
       "       [nan],\n",
       "       [nan],\n",
       "       [nan],\n",
       "       [nan],\n",
       "       [nan],\n",
       "       [nan],\n",
       "       [nan],\n",
       "       [nan],\n",
       "       [nan],\n",
       "       [nan],\n",
       "       [nan],\n",
       "       [nan],\n",
       "       [nan],\n",
       "       [nan],\n",
       "       [nan],\n",
       "       [nan],\n",
       "       [nan],\n",
       "       [nan],\n",
       "       [nan],\n",
       "       [nan],\n",
       "       [nan],\n",
       "       [nan],\n",
       "       [nan],\n",
       "       [nan],\n",
       "       [nan],\n",
       "       [nan],\n",
       "       [nan],\n",
       "       [nan],\n",
       "       [nan],\n",
       "       [nan],\n",
       "       [nan],\n",
       "       [nan],\n",
       "       [nan],\n",
       "       [nan],\n",
       "       [nan],\n",
       "       [nan],\n",
       "       [nan],\n",
       "       [nan],\n",
       "       [nan],\n",
       "       [nan],\n",
       "       [nan],\n",
       "       [nan],\n",
       "       [nan],\n",
       "       [nan],\n",
       "       [nan],\n",
       "       [nan],\n",
       "       [nan],\n",
       "       [nan],\n",
       "       [nan],\n",
       "       [nan],\n",
       "       [nan],\n",
       "       [nan],\n",
       "       [nan],\n",
       "       [nan],\n",
       "       [nan],\n",
       "       [nan],\n",
       "       [nan],\n",
       "       [nan],\n",
       "       [nan],\n",
       "       [nan]], dtype=float32)"
      ]
     },
     "execution_count": 196,
     "metadata": {},
     "output_type": "execute_result"
    }
   ],
   "source": [
    "classes\n"
   ]
  },
  {
   "cell_type": "code",
   "execution_count": 212,
   "id": "dc43678b",
   "metadata": {},
   "outputs": [],
   "source": [
    "from keras import layers\n",
    "layers.*?"
   ]
  },
  {
   "cell_type": "code",
   "execution_count": 213,
   "id": "db9ba1d3",
   "metadata": {},
   "outputs": [],
   "source": [
    "from keras.layers import Dense, Flatten, Input,Dropout"
   ]
  },
  {
   "cell_type": "code",
   "execution_count": 214,
   "id": "d568b2ce",
   "metadata": {},
   "outputs": [],
   "source": [
    "layers.Dense?"
   ]
  },
  {
   "cell_type": "code",
   "execution_count": 215,
   "id": "42af68c3",
   "metadata": {},
   "outputs": [
    {
     "name": "stdout",
     "output_type": "stream",
     "text": [
      "Requirement already satisfied: scikit_learn in c:\\users\\dahun\\appdata\\roaming\\python\\python38\\site-packages (1.3.0)\n",
      "Requirement already satisfied: numpy>=1.17.3 in e:\\anaconda3\\envs\\tf24\\lib\\site-packages (from scikit_learn) (1.19.5)\n",
      "Requirement already satisfied: scipy>=1.5.0 in e:\\anaconda3\\envs\\tf24\\lib\\site-packages (from scikit_learn) (1.10.1)\n",
      "Requirement already satisfied: joblib>=1.1.1 in c:\\users\\dahun\\appdata\\roaming\\python\\python38\\site-packages (from scikit_learn) (1.3.1)\n",
      "Requirement already satisfied: threadpoolctl>=2.0.0 in e:\\anaconda3\\envs\\tf24\\lib\\site-packages (from scikit_learn) (3.2.0)\n"
     ]
    }
   ],
   "source": [
    "!pip install scikit_learn"
   ]
  },
  {
   "cell_type": "code",
   "execution_count": 262,
   "id": "6975f4ce",
   "metadata": {},
   "outputs": [
    {
     "name": "stdout",
     "output_type": "stream",
     "text": [
      "(20640, 8) (20640,)\n"
     ]
    },
    {
     "data": {
      "text/plain": [
       "((16512, 8), (16512,), (4128, 8), (4128,))"
      ]
     },
     "execution_count": 262,
     "metadata": {},
     "output_type": "execute_result"
    }
   ],
   "source": [
    "# 캘리포니아 주택 가격 예측\n",
    "from sklearn.datasets import fetch_california_housing\n",
    "housing = fetch_california_housing()\n",
    "x = housing['data']\n",
    "y = housing['target']\n",
    "\n",
    "print(x.shape,y.shape)\n",
    "\n",
    "from sklearn.model_selection import train_test_split\n",
    "x_train,x_test,y_train,y_test = train_test_split(x,y,test_size=0.2)\n",
    "\n",
    "x_train.shape,y_train.shape,x_test.shape,y_test.shape"
   ]
  },
  {
   "cell_type": "code",
   "execution_count": 263,
   "id": "a5d8e9c5",
   "metadata": {},
   "outputs": [],
   "source": [
    "# z점수표준화\n",
    "import numpy as np\n",
    "def zscore_standize(x):\n",
    "    return (x-x.mean(0))/x.std(0)\n",
    "\n",
    "x_train = np.apply_along_axis(zscore_standize,0,x_train)\n",
    "x_test = np.apply_along_axis(zscore_standize,0,x_test)\n",
    "y_train = np.apply_along_axis(zscore_standize,0,y_train)\n",
    "y_test = np.apply_along_axis(zscore_standize,0,y_test)"
   ]
  },
  {
   "cell_type": "code",
   "execution_count": 264,
   "id": "9567a67c",
   "metadata": {},
   "outputs": [
    {
     "data": {
      "text/plain": [
       "(16512, 8)"
      ]
     },
     "execution_count": 264,
     "metadata": {},
     "output_type": "execute_result"
    }
   ],
   "source": [
    "x_train.shape"
   ]
  },
  {
   "cell_type": "code",
   "execution_count": 268,
   "id": "ffbababa",
   "metadata": {
    "scrolled": true
   },
   "outputs": [
    {
     "name": "stdout",
     "output_type": "stream",
     "text": [
      "Epoch 1/100\n",
      "516/516 [==============================] - 1s 983us/step - loss: 1.2364 - mae: 0.8060 - val_loss: 0.7119 - val_mae: 0.5855\n",
      "Epoch 2/100\n",
      "516/516 [==============================] - 0s 454us/step - loss: 0.6320 - mae: 0.5684 - val_loss: 0.5128 - val_mae: 0.5035\n",
      "Epoch 3/100\n",
      "516/516 [==============================] - 0s 454us/step - loss: 0.4725 - mae: 0.4948 - val_loss: 0.4476 - val_mae: 0.4743\n",
      "Epoch 4/100\n",
      "516/516 [==============================] - 0s 458us/step - loss: 0.4323 - mae: 0.4708 - val_loss: 0.4254 - val_mae: 0.4649\n",
      "Epoch 5/100\n",
      "516/516 [==============================] - 0s 464us/step - loss: 0.4053 - mae: 0.4613 - val_loss: 0.4156 - val_mae: 0.4660\n",
      "Epoch 6/100\n",
      "516/516 [==============================] - 0s 458us/step - loss: 0.3885 - mae: 0.4510 - val_loss: 0.4104 - val_mae: 0.4662\n",
      "Epoch 7/100\n",
      "516/516 [==============================] - 0s 458us/step - loss: 0.3931 - mae: 0.4578 - val_loss: 0.4088 - val_mae: 0.4636\n",
      "Epoch 8/100\n",
      "516/516 [==============================] - 0s 454us/step - loss: 0.3895 - mae: 0.4536 - val_loss: 0.4050 - val_mae: 0.4640\n",
      "Epoch 9/100\n",
      "516/516 [==============================] - 0s 456us/step - loss: 0.4037 - mae: 0.4622 - val_loss: 0.4044 - val_mae: 0.4609\n",
      "Epoch 10/100\n",
      "516/516 [==============================] - 0s 464us/step - loss: 0.3943 - mae: 0.4544 - val_loss: 0.4045 - val_mae: 0.4635\n",
      "166/166 [==============================] - 0s 509us/step - loss: 0.3954 - mae: 0.4581\n"
     ]
    }
   ],
   "source": [
    "from keras.callbacks import EarlyStopping\n",
    "model = Sequential()\n",
    "\n",
    "\n",
    "\n",
    "model.add(Dense(units=1,activation='linear',input_dim=8))\n",
    "\n",
    "early_stopping = EarlyStopping()\n",
    "\n",
    "model.compile(loss='mse',optimizer='adam',metrics=['mae'])\n",
    "# sgd\n",
    "\n",
    "\n",
    "\n",
    "model.fit(x_train,y_train,epochs=100,batch_size=32, validation_data=(x_test, y_test),callbacks=[early_stopping]) # 테스트에 대한 \n",
    "loss_and_metrics = model.evaluate(x_train,y_train,batch_size=100) # 평가지표?\n",
    "\n",
    "classes=model.predict(x_train,batch_size=128) # 예측한 결과 y_hat이다."
   ]
  },
  {
   "cell_type": "code",
   "execution_count": null,
   "id": "a5544da0",
   "metadata": {},
   "outputs": [],
   "source": []
  },
  {
   "cell_type": "code",
   "execution_count": 284,
   "id": "c4045627",
   "metadata": {},
   "outputs": [
    {
     "name": "stdout",
     "output_type": "stream",
     "text": [
      "[0 1 2]\n",
      "(178, 13) (178,)\n",
      "[[1.286e+01 1.350e+00 2.320e+00 ... 7.600e-01 1.290e+00 6.300e+02]\n",
      " [1.350e+01 3.120e+00 2.620e+00 ... 5.900e-01 1.300e+00 5.000e+02]\n",
      " [1.364e+01 3.100e+00 2.560e+00 ... 9.600e-01 3.360e+00 8.450e+02]\n",
      " ...\n",
      " [1.377e+01 1.900e+00 2.680e+00 ... 1.130e+00 2.930e+00 1.375e+03]\n",
      " [1.371e+01 5.650e+00 2.450e+00 ... 6.400e-01 1.740e+00 7.400e+02]\n",
      " [1.237e+01 9.400e-01 1.360e+00 ... 1.050e+00 1.820e+00 5.200e+02]] [2 2 0 2 0 2 1 1 1 1 1 1 2 1 1 1 0 1 1 0 2 0 1 0 0 1 2 0 1 0 2 2 2 1 1 2 1\n",
      " 0 1 0 0 0 1 0 1 1 0 0 2 1 2 1 0 1 1 0 1 0 1 1 0 1 0 0 0 1 2 0 1 1 1 1 0 1\n",
      " 1 1 1 2 1 2 2 2 1 0 1 1 2 0 2 2 0 1 2 2 2 0 1 0 1 0 0 0 1 1 1 2 1 1 1 2 1\n",
      " 0 2 1 1 0 0 0 1 2 1 1 2 1 0 0 0 0 1 0 2 0 0 2 2 2 2 0 0 0 2 1]\n",
      "[[1.323e+01 3.300e+00 2.280e+00 1.850e+01 9.800e+01 1.800e+00 8.300e-01\n",
      "  6.100e-01 1.870e+00 1.052e+01 5.600e-01 1.510e+00 6.750e+02]\n",
      " [1.253e+01 5.510e+00 2.640e+00 2.500e+01 9.600e+01 1.790e+00 6.000e-01\n",
      "  6.300e-01 1.100e+00 5.000e+00 8.200e-01 1.690e+00 5.150e+02]\n",
      " [1.324e+01 3.980e+00 2.290e+00 1.750e+01 1.030e+02 2.640e+00 2.630e+00\n",
      "  3.200e-01 1.660e+00 4.360e+00 8.200e-01 3.000e+00 6.800e+02]\n",
      " [1.420e+01 1.760e+00 2.450e+00 1.520e+01 1.120e+02 3.270e+00 3.390e+00\n",
      "  3.400e-01 1.970e+00 6.750e+00 1.050e+00 2.850e+00 1.450e+03]\n",
      " [1.225e+01 3.880e+00 2.200e+00 1.850e+01 1.120e+02 1.380e+00 7.800e-01\n",
      "  2.900e-01 1.140e+00 8.210e+00 6.500e-01 2.000e+00 8.550e+02]\n",
      " [1.234e+01 2.450e+00 2.460e+00 2.100e+01 9.800e+01 2.560e+00 2.110e+00\n",
      "  3.400e-01 1.310e+00 2.800e+00 8.000e-01 3.380e+00 4.380e+02]\n",
      " [1.293e+01 2.810e+00 2.700e+00 2.100e+01 9.600e+01 1.540e+00 5.000e-01\n",
      "  5.300e-01 7.500e-01 4.600e+00 7.700e-01 2.310e+00 6.000e+02]\n",
      " [1.221e+01 1.190e+00 1.750e+00 1.680e+01 1.510e+02 1.850e+00 1.280e+00\n",
      "  1.400e-01 2.500e+00 2.850e+00 1.280e+00 3.070e+00 7.180e+02]\n",
      " [1.383e+01 1.650e+00 2.600e+00 1.720e+01 9.400e+01 2.450e+00 2.990e+00\n",
      "  2.200e-01 2.290e+00 5.600e+00 1.240e+00 3.370e+00 1.265e+03]\n",
      " [1.388e+01 5.040e+00 2.230e+00 2.000e+01 8.000e+01 9.800e-01 3.400e-01\n",
      "  4.000e-01 6.800e-01 4.900e+00 5.800e-01 1.330e+00 4.150e+02]\n",
      " [1.285e+01 1.600e+00 2.520e+00 1.780e+01 9.500e+01 2.480e+00 2.370e+00\n",
      "  2.600e-01 1.460e+00 3.930e+00 1.090e+00 3.630e+00 1.015e+03]\n",
      " [1.222e+01 1.290e+00 1.940e+00 1.900e+01 9.200e+01 2.360e+00 2.040e+00\n",
      "  3.900e-01 2.080e+00 2.700e+00 8.600e-01 3.020e+00 3.120e+02]\n",
      " [1.390e+01 1.680e+00 2.120e+00 1.600e+01 1.010e+02 3.100e+00 3.390e+00\n",
      "  2.100e-01 2.140e+00 6.100e+00 9.100e-01 3.330e+00 9.850e+02]\n",
      " [1.308e+01 3.900e+00 2.360e+00 2.150e+01 1.130e+02 1.410e+00 1.390e+00\n",
      "  3.400e-01 1.140e+00 9.400e+00 5.700e-01 1.330e+00 5.500e+02]\n",
      " [1.330e+01 1.720e+00 2.140e+00 1.700e+01 9.400e+01 2.400e+00 2.190e+00\n",
      "  2.700e-01 1.350e+00 3.950e+00 1.020e+00 2.770e+00 1.285e+03]\n",
      " [1.184e+01 2.890e+00 2.230e+00 1.800e+01 1.120e+02 1.720e+00 1.320e+00\n",
      "  4.300e-01 9.500e-01 2.650e+00 9.600e-01 2.520e+00 5.000e+02]\n",
      " [1.384e+01 4.120e+00 2.380e+00 1.950e+01 8.900e+01 1.800e+00 8.300e-01\n",
      "  4.800e-01 1.560e+00 9.010e+00 5.700e-01 1.640e+00 4.800e+02]\n",
      " [1.182e+01 1.720e+00 1.880e+00 1.950e+01 8.600e+01 2.500e+00 1.640e+00\n",
      "  3.700e-01 1.420e+00 2.060e+00 9.400e-01 2.440e+00 4.150e+02]\n",
      " [1.367e+01 1.250e+00 1.920e+00 1.800e+01 9.400e+01 2.100e+00 1.790e+00\n",
      "  3.200e-01 7.300e-01 3.800e+00 1.230e+00 2.460e+00 6.300e+02]\n",
      " [1.329e+01 1.970e+00 2.680e+00 1.680e+01 1.020e+02 3.000e+00 3.230e+00\n",
      "  3.100e-01 1.660e+00 6.000e+00 1.070e+00 2.840e+00 1.270e+03]\n",
      " [1.368e+01 1.830e+00 2.360e+00 1.720e+01 1.040e+02 2.420e+00 2.690e+00\n",
      "  4.200e-01 1.970e+00 3.840e+00 1.230e+00 2.870e+00 9.900e+02]\n",
      " [1.260e+01 2.460e+00 2.200e+00 1.850e+01 9.400e+01 1.620e+00 6.600e-01\n",
      "  6.300e-01 9.400e-01 7.100e+00 7.300e-01 1.580e+00 6.950e+02]\n",
      " [1.382e+01 1.750e+00 2.420e+00 1.400e+01 1.110e+02 3.880e+00 3.740e+00\n",
      "  3.200e-01 1.870e+00 7.050e+00 1.010e+00 3.260e+00 1.190e+03]\n",
      " [1.296e+01 3.450e+00 2.350e+00 1.850e+01 1.060e+02 1.390e+00 7.000e-01\n",
      "  4.000e-01 9.400e-01 5.280e+00 6.800e-01 1.750e+00 6.750e+02]\n",
      " [1.200e+01 3.430e+00 2.000e+00 1.900e+01 8.700e+01 2.000e+00 1.640e+00\n",
      "  3.700e-01 1.870e+00 1.280e+00 9.300e-01 3.050e+00 5.640e+02]\n",
      " [1.208e+01 1.830e+00 2.320e+00 1.850e+01 8.100e+01 1.600e+00 1.500e+00\n",
      "  5.200e-01 1.640e+00 2.400e+00 1.080e+00 2.270e+00 4.800e+02]\n",
      " [1.434e+01 1.680e+00 2.700e+00 2.500e+01 9.800e+01 2.800e+00 1.310e+00\n",
      "  5.300e-01 2.700e+00 1.300e+01 5.700e-01 1.960e+00 6.600e+02]\n",
      " [1.279e+01 2.670e+00 2.480e+00 2.200e+01 1.120e+02 1.480e+00 1.360e+00\n",
      "  2.400e-01 1.260e+00 1.080e+01 4.800e-01 1.470e+00 4.800e+02]\n",
      " [1.324e+01 2.590e+00 2.870e+00 2.100e+01 1.180e+02 2.800e+00 2.690e+00\n",
      "  3.900e-01 1.820e+00 4.320e+00 1.040e+00 2.930e+00 7.350e+02]\n",
      " [1.299e+01 1.670e+00 2.600e+00 3.000e+01 1.390e+02 3.300e+00 2.890e+00\n",
      "  2.100e-01 1.960e+00 3.350e+00 1.310e+00 3.500e+00 9.850e+02]\n",
      " [1.200e+01 1.510e+00 2.420e+00 2.200e+01 8.600e+01 1.450e+00 1.250e+00\n",
      "  5.000e-01 1.630e+00 3.600e+00 1.050e+00 2.650e+00 4.500e+02]\n",
      " [1.233e+01 9.900e-01 1.950e+00 1.480e+01 1.360e+02 1.900e+00 1.850e+00\n",
      "  3.500e-01 2.760e+00 3.400e+00 1.060e+00 2.310e+00 7.500e+02]\n",
      " [1.281e+01 2.310e+00 2.400e+00 2.400e+01 9.800e+01 1.150e+00 1.090e+00\n",
      "  2.700e-01 8.300e-01 5.700e+00 6.600e-01 1.360e+00 5.600e+02]\n",
      " [1.305e+01 1.650e+00 2.550e+00 1.800e+01 9.800e+01 2.450e+00 2.430e+00\n",
      "  2.900e-01 1.440e+00 4.250e+00 1.120e+00 2.510e+00 1.105e+03]\n",
      " [1.317e+01 5.190e+00 2.320e+00 2.200e+01 9.300e+01 1.740e+00 6.300e-01\n",
      "  6.100e-01 1.550e+00 7.900e+00 6.000e-01 1.480e+00 7.250e+02]\n",
      " [1.307e+01 1.500e+00 2.100e+00 1.550e+01 9.800e+01 2.400e+00 2.640e+00\n",
      "  2.800e-01 1.370e+00 3.700e+00 1.180e+00 2.690e+00 1.020e+03]] [2 2 0 0 2 1 2 1 0 2 0 1 0 2 0 1 2 1 1 0 0 2 0 2 1 1 2 2 0 1 1 1 2 0 2 0]\n",
      "[[0. 0. 1.]\n",
      " [0. 0. 1.]\n",
      " [1. 0. 0.]\n",
      " [0. 0. 1.]\n",
      " [1. 0. 0.]\n",
      " [0. 0. 1.]\n",
      " [0. 1. 0.]\n",
      " [0. 1. 0.]\n",
      " [0. 1. 0.]\n",
      " [0. 1. 0.]\n",
      " [0. 1. 0.]\n",
      " [0. 1. 0.]\n",
      " [0. 0. 1.]\n",
      " [0. 1. 0.]\n",
      " [0. 1. 0.]\n",
      " [0. 1. 0.]\n",
      " [1. 0. 0.]\n",
      " [0. 1. 0.]\n",
      " [0. 1. 0.]\n",
      " [1. 0. 0.]\n",
      " [0. 0. 1.]\n",
      " [1. 0. 0.]\n",
      " [0. 1. 0.]\n",
      " [1. 0. 0.]\n",
      " [1. 0. 0.]\n",
      " [0. 1. 0.]\n",
      " [0. 0. 1.]\n",
      " [1. 0. 0.]\n",
      " [0. 1. 0.]\n",
      " [1. 0. 0.]\n",
      " [0. 0. 1.]\n",
      " [0. 0. 1.]\n",
      " [0. 0. 1.]\n",
      " [0. 1. 0.]\n",
      " [0. 1. 0.]\n",
      " [0. 0. 1.]\n",
      " [0. 1. 0.]\n",
      " [1. 0. 0.]\n",
      " [0. 1. 0.]\n",
      " [1. 0. 0.]\n",
      " [1. 0. 0.]\n",
      " [1. 0. 0.]\n",
      " [0. 1. 0.]\n",
      " [1. 0. 0.]\n",
      " [0. 1. 0.]\n",
      " [0. 1. 0.]\n",
      " [1. 0. 0.]\n",
      " [1. 0. 0.]\n",
      " [0. 0. 1.]\n",
      " [0. 1. 0.]\n",
      " [0. 0. 1.]\n",
      " [0. 1. 0.]\n",
      " [1. 0. 0.]\n",
      " [0. 1. 0.]\n",
      " [0. 1. 0.]\n",
      " [1. 0. 0.]\n",
      " [0. 1. 0.]\n",
      " [1. 0. 0.]\n",
      " [0. 1. 0.]\n",
      " [0. 1. 0.]\n",
      " [1. 0. 0.]\n",
      " [0. 1. 0.]\n",
      " [1. 0. 0.]\n",
      " [1. 0. 0.]\n",
      " [1. 0. 0.]\n",
      " [0. 1. 0.]\n",
      " [0. 0. 1.]\n",
      " [1. 0. 0.]\n",
      " [0. 1. 0.]\n",
      " [0. 1. 0.]\n",
      " [0. 1. 0.]\n",
      " [0. 1. 0.]\n",
      " [1. 0. 0.]\n",
      " [0. 1. 0.]\n",
      " [0. 1. 0.]\n",
      " [0. 1. 0.]\n",
      " [0. 1. 0.]\n",
      " [0. 0. 1.]\n",
      " [0. 1. 0.]\n",
      " [0. 0. 1.]\n",
      " [0. 0. 1.]\n",
      " [0. 0. 1.]\n",
      " [0. 1. 0.]\n",
      " [1. 0. 0.]\n",
      " [0. 1. 0.]\n",
      " [0. 1. 0.]\n",
      " [0. 0. 1.]\n",
      " [1. 0. 0.]\n",
      " [0. 0. 1.]\n",
      " [0. 0. 1.]\n",
      " [1. 0. 0.]\n",
      " [0. 1. 0.]\n",
      " [0. 0. 1.]\n",
      " [0. 0. 1.]\n",
      " [0. 0. 1.]\n",
      " [1. 0. 0.]\n",
      " [0. 1. 0.]\n",
      " [1. 0. 0.]\n",
      " [0. 1. 0.]\n",
      " [1. 0. 0.]\n",
      " [1. 0. 0.]\n",
      " [1. 0. 0.]\n",
      " [0. 1. 0.]\n",
      " [0. 1. 0.]\n",
      " [0. 1. 0.]\n",
      " [0. 0. 1.]\n",
      " [0. 1. 0.]\n",
      " [0. 1. 0.]\n",
      " [0. 1. 0.]\n",
      " [0. 0. 1.]\n",
      " [0. 1. 0.]\n",
      " [1. 0. 0.]\n",
      " [0. 0. 1.]\n",
      " [0. 1. 0.]\n",
      " [0. 1. 0.]\n",
      " [1. 0. 0.]\n",
      " [1. 0. 0.]\n",
      " [1. 0. 0.]\n",
      " [0. 1. 0.]\n",
      " [0. 0. 1.]\n",
      " [0. 1. 0.]\n",
      " [0. 1. 0.]\n",
      " [0. 0. 1.]\n",
      " [0. 1. 0.]\n",
      " [1. 0. 0.]\n",
      " [1. 0. 0.]\n",
      " [1. 0. 0.]\n",
      " [1. 0. 0.]\n",
      " [0. 1. 0.]\n",
      " [1. 0. 0.]\n",
      " [0. 0. 1.]\n",
      " [1. 0. 0.]\n",
      " [1. 0. 0.]\n",
      " [0. 0. 1.]\n",
      " [0. 0. 1.]\n",
      " [0. 0. 1.]\n",
      " [0. 0. 1.]\n",
      " [1. 0. 0.]\n",
      " [1. 0. 0.]\n",
      " [1. 0. 0.]\n",
      " [0. 0. 1.]\n",
      " [0. 1. 0.]] [[0. 0. 1.]\n",
      " [0. 0. 1.]\n",
      " [1. 0. 0.]\n",
      " [1. 0. 0.]\n",
      " [0. 0. 1.]\n",
      " [0. 1. 0.]\n",
      " [0. 0. 1.]\n",
      " [0. 1. 0.]\n",
      " [1. 0. 0.]\n",
      " [0. 0. 1.]\n",
      " [1. 0. 0.]\n",
      " [0. 1. 0.]\n",
      " [1. 0. 0.]\n",
      " [0. 0. 1.]\n",
      " [1. 0. 0.]\n",
      " [0. 1. 0.]\n",
      " [0. 0. 1.]\n",
      " [0. 1. 0.]\n",
      " [0. 1. 0.]\n",
      " [1. 0. 0.]\n",
      " [1. 0. 0.]\n",
      " [0. 0. 1.]\n",
      " [1. 0. 0.]\n",
      " [0. 0. 1.]\n",
      " [0. 1. 0.]\n",
      " [0. 1. 0.]\n",
      " [0. 0. 1.]\n",
      " [0. 0. 1.]\n",
      " [1. 0. 0.]\n",
      " [0. 1. 0.]\n",
      " [0. 1. 0.]\n",
      " [0. 1. 0.]\n",
      " [0. 0. 1.]\n",
      " [1. 0. 0.]\n",
      " [0. 0. 1.]\n",
      " [1. 0. 0.]]\n"
     ]
    }
   ],
   "source": [
    "# 와인 품질 예측\n",
    "from sklearn.datasets import load_wine\n",
    "import numpy as np\n",
    "wine = load_wine()\n",
    "x = wine['data']\n",
    "y = wine['target']\n",
    "print(np.unique(y))\n",
    "print(x.shape,y.shape)\n",
    "\n",
    "from sklearn.model_selection import train_test_split\n",
    "\n",
    "x_train,x_test,y_train,y_test = train_test_split(x,y,test_size=0.2)\n",
    "\n",
    "print(x_train,y_train)\n",
    "print(x_test,y_test)\n",
    "\n",
    "from keras.utils import to_categorical\n",
    "y_train = to_categorical(y_train)\n",
    "y_test = to_categorical(y_test)\n",
    "print(y_train,y_test)\n",
    "\n",
    "# z점수표준화\n",
    "import numpy as np\n",
    "def zscore_standize(x):\n",
    "    return (x-x.mean(0))/x.std(0)\n",
    "\n",
    "x_train = np.apply_along_axis(zscore_standize,0,x_train)\n",
    "x_test = np.apply_along_axis(zscore_standize,0,x_test)"
   ]
  },
  {
   "cell_type": "code",
   "execution_count": 287,
   "id": "70bb0194",
   "metadata": {},
   "outputs": [
    {
     "name": "stdout",
     "output_type": "stream",
     "text": [
      "Epoch 1/100\n",
      "5/5 [==============================] - 0s 29ms/step - loss: 1.0959 - accuracy: 0.4484 - val_loss: 0.9196 - val_accuracy: 0.6944\n",
      "Epoch 2/100\n",
      "5/5 [==============================] - 0s 8ms/step - loss: 0.8583 - accuracy: 0.6959 - val_loss: 0.7485 - val_accuracy: 0.9167\n",
      "Epoch 3/100\n",
      "5/5 [==============================] - 0s 8ms/step - loss: 0.6991 - accuracy: 0.8798 - val_loss: 0.6069 - val_accuracy: 0.9444\n",
      "Epoch 4/100\n",
      "5/5 [==============================] - 0s 8ms/step - loss: 0.5420 - accuracy: 0.9396 - val_loss: 0.4866 - val_accuracy: 0.9444\n",
      "Epoch 5/100\n",
      "5/5 [==============================] - 0s 8ms/step - loss: 0.4163 - accuracy: 0.9465 - val_loss: 0.3877 - val_accuracy: 0.9444\n",
      "Epoch 6/100\n",
      "5/5 [==============================] - 0s 8ms/step - loss: 0.3333 - accuracy: 0.9741 - val_loss: 0.3056 - val_accuracy: 0.9444\n",
      "Epoch 7/100\n",
      "5/5 [==============================] - 0s 8ms/step - loss: 0.2625 - accuracy: 0.9642 - val_loss: 0.2413 - val_accuracy: 0.9722\n",
      "Epoch 8/100\n",
      "5/5 [==============================] - 0s 8ms/step - loss: 0.2309 - accuracy: 0.9732 - val_loss: 0.1924 - val_accuracy: 0.9722\n",
      "Epoch 9/100\n",
      "5/5 [==============================] - 0s 8ms/step - loss: 0.1613 - accuracy: 0.9847 - val_loss: 0.1569 - val_accuracy: 1.0000\n",
      "Epoch 10/100\n",
      "5/5 [==============================] - 0s 8ms/step - loss: 0.1259 - accuracy: 0.9977 - val_loss: 0.1323 - val_accuracy: 1.0000\n",
      "Epoch 11/100\n",
      "5/5 [==============================] - 0s 8ms/step - loss: 0.1087 - accuracy: 0.9910 - val_loss: 0.1156 - val_accuracy: 1.0000\n",
      "Epoch 12/100\n",
      "5/5 [==============================] - 0s 8ms/step - loss: 0.1016 - accuracy: 0.9868 - val_loss: 0.1025 - val_accuracy: 1.0000\n",
      "Epoch 13/100\n",
      "5/5 [==============================] - 0s 8ms/step - loss: 0.0685 - accuracy: 1.0000 - val_loss: 0.0925 - val_accuracy: 1.0000\n",
      "Epoch 14/100\n",
      "5/5 [==============================] - 0s 8ms/step - loss: 0.0703 - accuracy: 0.9868 - val_loss: 0.0828 - val_accuracy: 1.0000\n",
      "Epoch 15/100\n",
      "5/5 [==============================] - 0s 8ms/step - loss: 0.0713 - accuracy: 0.9866 - val_loss: 0.0731 - val_accuracy: 1.0000\n",
      "Epoch 16/100\n",
      "5/5 [==============================] - 0s 8ms/step - loss: 0.0696 - accuracy: 0.9814 - val_loss: 0.0681 - val_accuracy: 0.9722\n",
      "Epoch 17/100\n",
      "5/5 [==============================] - 0s 8ms/step - loss: 0.0510 - accuracy: 0.9920 - val_loss: 0.0639 - val_accuracy: 0.9722\n",
      "Epoch 18/100\n",
      "5/5 [==============================] - 0s 8ms/step - loss: 0.0355 - accuracy: 0.9946 - val_loss: 0.0602 - val_accuracy: 0.9722\n",
      "Epoch 19/100\n",
      "5/5 [==============================] - 0s 8ms/step - loss: 0.0491 - accuracy: 0.9845 - val_loss: 0.0545 - val_accuracy: 0.9722\n",
      "Epoch 20/100\n",
      "5/5 [==============================] - 0s 8ms/step - loss: 0.0388 - accuracy: 1.0000 - val_loss: 0.0467 - val_accuracy: 1.0000\n",
      "Epoch 21/100\n",
      "5/5 [==============================] - 0s 8ms/step - loss: 0.0305 - accuracy: 1.0000 - val_loss: 0.0422 - val_accuracy: 1.0000\n",
      "Epoch 22/100\n",
      "5/5 [==============================] - 0s 8ms/step - loss: 0.0299 - accuracy: 0.9920 - val_loss: 0.0403 - val_accuracy: 1.0000\n",
      "Epoch 23/100\n",
      "5/5 [==============================] - 0s 8ms/step - loss: 0.0324 - accuracy: 0.9920 - val_loss: 0.0384 - val_accuracy: 1.0000\n",
      "Epoch 24/100\n",
      "5/5 [==============================] - 0s 8ms/step - loss: 0.0313 - accuracy: 1.0000 - val_loss: 0.0357 - val_accuracy: 1.0000\n",
      "Epoch 25/100\n",
      "5/5 [==============================] - 0s 8ms/step - loss: 0.0342 - accuracy: 0.9920 - val_loss: 0.0349 - val_accuracy: 1.0000\n",
      "Epoch 26/100\n",
      "5/5 [==============================] - 0s 8ms/step - loss: 0.0157 - accuracy: 1.0000 - val_loss: 0.0346 - val_accuracy: 1.0000\n",
      "Epoch 27/100\n",
      "5/5 [==============================] - 0s 8ms/step - loss: 0.0268 - accuracy: 1.0000 - val_loss: 0.0341 - val_accuracy: 1.0000\n",
      "Epoch 28/100\n",
      "5/5 [==============================] - 0s 8ms/step - loss: 0.0256 - accuracy: 0.9920 - val_loss: 0.0341 - val_accuracy: 1.0000\n",
      "2/2 [==============================] - 0s 1ms/step - loss: 0.0113 - accuracy: 1.0000\n",
      "WARNING:tensorflow:6 out of the last 11 calls to <function Model.make_predict_function.<locals>.predict_function at 0x00000226BE1420D0> triggered tf.function retracing. Tracing is expensive and the excessive number of tracings could be due to (1) creating @tf.function repeatedly in a loop, (2) passing tensors with different shapes, (3) passing Python objects instead of tensors. For (1), please define your @tf.function outside of the loop. For (2), @tf.function has experimental_relax_shapes=True option that relaxes argument shapes that can avoid unnecessary retracing. For (3), please refer to https://www.tensorflow.org/guide/function#controlling_retracing and https://www.tensorflow.org/api_docs/python/tf/function for  more details.\n"
     ]
    }
   ],
   "source": [
    "from keras.callbacks import EarlyStopping\n",
    "model = Sequential()\n",
    "\\\n",
    "model.add(Dense(units=64,activation='relu',input_dim=13))\n",
    "model.add(Dropout(0.2))\n",
    "model.add(Dense(units=128,activation='relu'))\n",
    "model.add(Dropout(0.2))\n",
    "model.add(Dense(units=3,activation='softmax'))\n",
    "\n",
    "\n",
    "early_stopping = EarlyStopping()\n",
    "\n",
    "model.compile(loss='categorical_crossentropy',optimizer='adam',metrics=['accuracy'])\n",
    "# sgd\n",
    "\n",
    "\n",
    "\n",
    "model.fit(x_train,y_train,epochs=100,batch_size=32, validation_data=(x_test, y_test),callbacks=[early_stopping]) # 테스트에 대한 \n",
    "loss_and_metrics = model.evaluate(x_train,y_train,batch_size=100) # 평가지표?\n",
    "\n",
    "classes=model.predict(x_train,batch_size=128) # 예측한 결과 y_hat이다."
   ]
  },
  {
   "cell_type": "code",
   "execution_count": null,
   "id": "38794d2d",
   "metadata": {},
   "outputs": [],
   "source": []
  }
 ],
 "metadata": {
  "kernelspec": {
   "display_name": "Python 3 (ipykernel)",
   "language": "python",
   "name": "python3"
  },
  "language_info": {
   "codemirror_mode": {
    "name": "ipython",
    "version": 3
   },
   "file_extension": ".py",
   "mimetype": "text/x-python",
   "name": "python",
   "nbconvert_exporter": "python",
   "pygments_lexer": "ipython3",
   "version": "3.8.0"
  }
 },
 "nbformat": 4,
 "nbformat_minor": 5
}

{
  "nbformat": 4,
  "nbformat_minor": 0,
  "metadata": {
    "colab": {
      "provenance": [],
      "authorship_tag": "ABX9TyPMcQLFhmga+jdF8DP5UUza",
      "include_colab_link": true
    },
    "kernelspec": {
      "name": "python3",
      "display_name": "Python 3"
    },
    "language_info": {
      "name": "python"
    }
  },
  "cells": [
    {
      "cell_type": "markdown",
      "metadata": {
        "id": "view-in-github",
        "colab_type": "text"
      },
      "source": [
        "<a href=\"https://colab.research.google.com/github/kdahun/bigdata2023/blob/main/%EC%98%81%EC%96%B4_%ED%86%A0%ED%81%B0%ED%99%94.ipynb\" target=\"_parent\"><img src=\"https://colab.research.google.com/assets/colab-badge.svg\" alt=\"Open In Colab\"/></a>"
      ]
    },
    {
      "cell_type": "code",
      "execution_count": 1,
      "metadata": {
        "colab": {
          "base_uri": "https://localhost:8080/"
        },
        "id": "j2wNmWFDscyi",
        "outputId": "ce033a89-08eb-4090-801d-9f9ed27f26bb"
      },
      "outputs": [
        {
          "output_type": "stream",
          "name": "stdout",
          "text": [
            "Requirement already satisfied: nltk in /usr/local/lib/python3.10/dist-packages (3.8.1)\n",
            "Requirement already satisfied: click in /usr/local/lib/python3.10/dist-packages (from nltk) (8.1.4)\n",
            "Requirement already satisfied: joblib in /usr/local/lib/python3.10/dist-packages (from nltk) (1.3.1)\n",
            "Requirement already satisfied: regex>=2021.8.3 in /usr/local/lib/python3.10/dist-packages (from nltk) (2022.10.31)\n",
            "Requirement already satisfied: tqdm in /usr/local/lib/python3.10/dist-packages (from nltk) (4.65.0)\n"
          ]
        }
      ],
      "source": [
        "!pip install nltk"
      ]
    },
    {
      "cell_type": "code",
      "source": [
        "import nltk\n",
        "from nltk.tokenize import sent_tokenize"
      ],
      "metadata": {
        "id": "37Imdf2ZsicA"
      },
      "execution_count": 7,
      "outputs": []
    },
    {
      "cell_type": "code",
      "source": [
        "nltk.download(\"punkt\")"
      ],
      "metadata": {
        "colab": {
          "base_uri": "https://localhost:8080/"
        },
        "id": "fQ-HUv7Psncf",
        "outputId": "05c8c85e-d985-429f-fc9d-59a4be5eaa14"
      },
      "execution_count": 8,
      "outputs": [
        {
          "output_type": "stream",
          "name": "stderr",
          "text": [
            "[nltk_data] Downloading package punkt to /root/nltk_data...\n",
            "[nltk_data]   Package punkt is already up-to-date!\n"
          ]
        },
        {
          "output_type": "execute_result",
          "data": {
            "text/plain": [
              "True"
            ]
          },
          "metadata": {},
          "execution_count": 8
        }
      ]
    },
    {
      "cell_type": "code",
      "source": [
        "text=\"\"\"His barber kept his word.\n",
        " But keeping such a huge secret to himself was driving him crazy.\n",
        " Finally, the barber went up a mountain and almost to the edge of a cliff.\n",
        " He dug a hole in the midst of some reeds.\n",
        " He looked about, to make sure no one was near.\"\"\""
      ],
      "metadata": {
        "id": "avLdWcILst94"
      },
      "execution_count": 9,
      "outputs": []
    },
    {
      "cell_type": "code",
      "source": [
        "sent_tokenize(text)"
      ],
      "metadata": {
        "colab": {
          "base_uri": "https://localhost:8080/"
        },
        "id": "hCpJplUOtjdn",
        "outputId": "1714cd22-e42a-4473-b73d-e658e5ad4b64"
      },
      "execution_count": 10,
      "outputs": [
        {
          "output_type": "execute_result",
          "data": {
            "text/plain": [
              "['His barber kept his word.',\n",
              " 'But keeping such a huge secret to himself was driving him crazy.',\n",
              " 'Finally, the barber went up a mountain and almost to the edge of a cliff.',\n",
              " 'He dug a hole in the midst of some reeds.',\n",
              " 'He looked about, to make sure no one was near.']"
            ]
          },
          "metadata": {},
          "execution_count": 10
        }
      ]
    },
    {
      "cell_type": "code",
      "source": [
        "from nltk.tokenize import word_tokenize\n",
        "text = \"I am acttively looking for Ph.D. student\"\n",
        "word_tokenize(text)"
      ],
      "metadata": {
        "colab": {
          "base_uri": "https://localhost:8080/"
        },
        "id": "Am0kc2DetrW3",
        "outputId": "e399701a-b8fb-45f8-dbc3-302d3bd02961"
      },
      "execution_count": 12,
      "outputs": [
        {
          "output_type": "execute_result",
          "data": {
            "text/plain": [
              "['I', 'am', 'acttively', 'looking', 'for', 'Ph.D.', 'student']"
            ]
          },
          "metadata": {},
          "execution_count": 12
        }
      ]
    },
    {
      "cell_type": "code",
      "source": [
        "from nltk.tag import pos_tag\n",
        "\n",
        "nltk.download('averaged_perceptron_tagger')\n",
        "x=word_tokenize(text)"
      ],
      "metadata": {
        "id": "6B8vHHZausX_"
      },
      "execution_count": 14,
      "outputs": []
    },
    {
      "cell_type": "code",
      "source": [
        "pos_tag(x)"
      ],
      "metadata": {
        "colab": {
          "base_uri": "https://localhost:8080/"
        },
        "id": "m1NmOhhxvA1e",
        "outputId": "db717f97-346b-41ba-d8f1-0eb56ceeb742"
      },
      "execution_count": 19,
      "outputs": [
        {
          "output_type": "execute_result",
          "data": {
            "text/plain": [
              "[('I', 'PRP'),\n",
              " ('am', 'VBP'),\n",
              " ('acttively', 'RB'),\n",
              " ('looking', 'VBG'),\n",
              " ('for', 'IN'),\n",
              " ('Ph.D.', 'NNP'),\n",
              " ('student', 'NN')]"
            ]
          },
          "metadata": {},
          "execution_count": 19
        }
      ]
    },
    {
      "cell_type": "markdown",
      "source": [
        "# 불용어 제거"
      ],
      "metadata": {
        "id": "qHggYKPn0BhX"
      }
    },
    {
      "cell_type": "code",
      "source": [
        "nltk.download(\"stopwords\")\n",
        "from nltk.corpus import stopwords"
      ],
      "metadata": {
        "colab": {
          "base_uri": "https://localhost:8080/"
        },
        "id": "0F8rgwgLvPPH",
        "outputId": "4ca44878-135d-473f-e64a-cda6bc4f6917"
      },
      "execution_count": 22,
      "outputs": [
        {
          "output_type": "stream",
          "name": "stderr",
          "text": [
            "[nltk_data] Downloading package stopwords to /root/nltk_data...\n",
            "[nltk_data]   Package stopwords is already up-to-date!\n"
          ]
        }
      ]
    },
    {
      "cell_type": "code",
      "source": [
        "len(stopwords.words(\"english\"))"
      ],
      "metadata": {
        "colab": {
          "base_uri": "https://localhost:8080/"
        },
        "id": "Czqoheu2vXxn",
        "outputId": "1eb0c41f-b75e-4a74-f322-7eef69e6fe28"
      },
      "execution_count": 25,
      "outputs": [
        {
          "output_type": "execute_result",
          "data": {
            "text/plain": [
              "179"
            ]
          },
          "metadata": {},
          "execution_count": 25
        }
      ]
    },
    {
      "cell_type": "code",
      "source": [
        "example = \"Family is not an important thing. It's everything\"\n",
        "stop_words = set(stopwords.words(\"english\"))\n",
        "\n",
        "word_token=word_tokenize(example)\n",
        "print(word_token)\n",
        "\n",
        "# 불용어 처리\n",
        "result = []\n",
        "\n",
        "for j in word_token:\n",
        "  if j not in stop_words:\n",
        "    result.append(j)\n"
      ],
      "metadata": {
        "colab": {
          "base_uri": "https://localhost:8080/"
        },
        "id": "RGADFeiA0PX2",
        "outputId": "927e1fd2-a7e9-469f-e530-c84a9e1bab92"
      },
      "execution_count": 34,
      "outputs": [
        {
          "output_type": "stream",
          "name": "stdout",
          "text": [
            "['Family', 'is', 'not', 'an', 'important', 'thing', '.', 'It', \"'s\", 'everything']\n"
          ]
        }
      ]
    },
    {
      "cell_type": "code",
      "source": [
        "result"
      ],
      "metadata": {
        "colab": {
          "base_uri": "https://localhost:8080/"
        },
        "id": "oh-pcq7I0pEF",
        "outputId": "10a1689e-c088-441e-8d66-197c71624fc0"
      },
      "execution_count": 35,
      "outputs": [
        {
          "output_type": "execute_result",
          "data": {
            "text/plain": [
              "['Family', 'important', 'thing', '.', 'It', \"'s\", 'everything']"
            ]
          },
          "metadata": {},
          "execution_count": 35
        }
      ]
    },
    {
      "cell_type": "markdown",
      "source": [
        "# 정수 인코딩(단어 사전 만들기)\n"
      ],
      "metadata": {
        "id": "vmofKw692i81"
      }
    },
    {
      "cell_type": "code",
      "source": [
        "texts=\"His barber kept his word. But keeping such a huge secret to himself was driving him crazy. Finally, the barber went up a mountain and almost to the edge of a cliff. He dug a hole in the midst of some reeds. He looked about, to make sure no one was near.\""
      ],
      "metadata": {
        "id": "8vc2FKco2ivm"
      },
      "execution_count": 40,
      "outputs": []
    },
    {
      "cell_type": "code",
      "source": [
        "# 문장 토큰화\n",
        "\n",
        "texts = sent_tokenize(texts)\n",
        "print(texts)"
      ],
      "metadata": {
        "colab": {
          "base_uri": "https://localhost:8080/"
        },
        "id": "SJLjPr9r0_Q5",
        "outputId": "16efe016-6e10-4ec9-a28e-cd40f96f142c"
      },
      "execution_count": 41,
      "outputs": [
        {
          "output_type": "stream",
          "name": "stdout",
          "text": [
            "['His barber kept his word.', 'But keeping such a huge secret to himself was driving him crazy.', 'Finally, the barber went up a mountain and almost to the edge of a cliff.', 'He dug a hole in the midst of some reeds.', 'He looked about, to make sure no one was near.']\n"
          ]
        }
      ]
    },
    {
      "cell_type": "code",
      "source": [
        "# 단어 토큰화화 함께 불용어 처리\n",
        "\n",
        "vocab = {} # 단어 사전\n",
        "sentences=[] # 단어 토큰화 후 데이터 저장\n",
        "\n",
        "stop_words = set(stopwords.words(\"english\")).union({'.',','})\n",
        "\n",
        "for text in texts:\n",
        "  sentence = word_tokenize(text)\n",
        "  result = []\n",
        "  for w in sentence:\n",
        "    w=w.lower()\n",
        "    if w not in stop_words:\n",
        "      result.append(w)\n",
        "      if w not in vocab.keys():\n",
        "        vocab[w]=0\n",
        "      vocab[w]+=1\n",
        "\n",
        "  sentences.append(result)"
      ],
      "metadata": {
        "id": "PQ_q-xnG3QCd"
      },
      "execution_count": 65,
      "outputs": []
    },
    {
      "cell_type": "code",
      "source": [
        "sentences"
      ],
      "metadata": {
        "colab": {
          "base_uri": "https://localhost:8080/"
        },
        "id": "gNpoBr184cs1",
        "outputId": "4e0ed5ef-3990-4be2-826a-b23e860509e1"
      },
      "execution_count": 66,
      "outputs": [
        {
          "output_type": "execute_result",
          "data": {
            "text/plain": [
              "[['barber', 'kept', 'word'],\n",
              " ['keeping', 'huge', 'secret', 'driving', 'crazy'],\n",
              " ['finally', 'barber', 'went', 'mountain', 'almost', 'edge', 'cliff'],\n",
              " ['dug', 'hole', 'midst', 'reeds'],\n",
              " ['looked', 'make', 'sure', 'one', 'near']]"
            ]
          },
          "metadata": {},
          "execution_count": 66
        }
      ]
    },
    {
      "cell_type": "code",
      "source": [
        "vocab"
      ],
      "metadata": {
        "colab": {
          "base_uri": "https://localhost:8080/"
        },
        "id": "yfhZPFp95ewt",
        "outputId": "07e2d274-cd2a-4a10-ac45-59b271b005d7"
      },
      "execution_count": 67,
      "outputs": [
        {
          "output_type": "execute_result",
          "data": {
            "text/plain": [
              "{'barber': 2,\n",
              " 'kept': 1,\n",
              " 'word': 1,\n",
              " 'keeping': 1,\n",
              " 'huge': 1,\n",
              " 'secret': 1,\n",
              " 'driving': 1,\n",
              " 'crazy': 1,\n",
              " 'finally': 1,\n",
              " 'went': 1,\n",
              " 'mountain': 1,\n",
              " 'almost': 1,\n",
              " 'edge': 1,\n",
              " 'cliff': 1,\n",
              " 'dug': 1,\n",
              " 'hole': 1,\n",
              " 'midst': 1,\n",
              " 'reeds': 1,\n",
              " 'looked': 1,\n",
              " 'make': 1,\n",
              " 'sure': 1,\n",
              " 'one': 1,\n",
              " 'near': 1}"
            ]
          },
          "metadata": {},
          "execution_count": 67
        }
      ]
    },
    {
      "cell_type": "code",
      "source": [
        "# vocab을 value를 기준으로 정렬\n",
        "vocab_sorted = sorted(vocab.items(),key=lambda x:x[1],reverse = True)"
      ],
      "metadata": {
        "id": "EsJinxPw5vTV"
      },
      "execution_count": 74,
      "outputs": []
    },
    {
      "cell_type": "code",
      "source": [],
      "metadata": {
        "colab": {
          "base_uri": "https://localhost:8080/",
          "height": 174
        },
        "id": "QeptttMp_jCk",
        "outputId": "0141120c-38f5-4630-971a-6751867aa091"
      },
      "execution_count": 104,
      "outputs": [
        {
          "output_type": "error",
          "ename": "TypeError",
          "evalue": "ignored",
          "traceback": [
            "\u001b[0;31m---------------------------------------------------------------------------\u001b[0m",
            "\u001b[0;31mTypeError\u001b[0m                                 Traceback (most recent call last)",
            "\u001b[0;32m<ipython-input-104-f7521f210bbb>\u001b[0m in \u001b[0;36m<cell line: 1>\u001b[0;34m()\u001b[0m\n\u001b[0;32m----> 1\u001b[0;31m \u001b[0mvocab_sorted\u001b[0m\u001b[0;34m[\u001b[0m\u001b[0;34m:\u001b[0m\u001b[0;34m,\u001b[0m\u001b[0;36m1\u001b[0m\u001b[0;34m]\u001b[0m\u001b[0;34m\u001b[0m\u001b[0;34m\u001b[0m\u001b[0m\n\u001b[0m",
            "\u001b[0;31mTypeError\u001b[0m: list indices must be integers or slices, not tuple"
          ]
        }
      ]
    },
    {
      "cell_type": "code",
      "source": [
        "word_to_id ={}\n",
        "for j,i in zip(range(len(vocab_sorted)),vocab_sorted):\n",
        "  word_to_id[i]=j\n",
        "\n"
      ],
      "metadata": {
        "id": "Gs9HJX6n_kiU"
      },
      "execution_count": 110,
      "outputs": []
    },
    {
      "cell_type": "code",
      "source": [
        "word_to_id ={}\n",
        "num=0\n",
        "for i,j in vocab_sorted:\n",
        "  word_to_id[i] = num\n",
        "  num+=1"
      ],
      "metadata": {
        "id": "J2I_psBRBQvD"
      },
      "execution_count": 114,
      "outputs": []
    },
    {
      "cell_type": "code",
      "source": [
        "word_to_id"
      ],
      "metadata": {
        "colab": {
          "base_uri": "https://localhost:8080/"
        },
        "id": "4GwAQtahBSLR",
        "outputId": "7b059c0c-b0dd-4d4e-a5b0-61bc778a5175"
      },
      "execution_count": 115,
      "outputs": [
        {
          "output_type": "execute_result",
          "data": {
            "text/plain": [
              "{'barber': 0,\n",
              " 'kept': 1,\n",
              " 'word': 2,\n",
              " 'keeping': 3,\n",
              " 'huge': 4,\n",
              " 'secret': 5,\n",
              " 'driving': 6,\n",
              " 'crazy': 7,\n",
              " 'finally': 8,\n",
              " 'went': 9,\n",
              " 'mountain': 10,\n",
              " 'almost': 11,\n",
              " 'edge': 12,\n",
              " 'cliff': 13,\n",
              " 'dug': 14,\n",
              " 'hole': 15,\n",
              " 'midst': 16,\n",
              " 'reeds': 17,\n",
              " 'looked': 18,\n",
              " 'make': 19,\n",
              " 'sure': 20,\n",
              " 'one': 21,\n",
              " 'near': 22}"
            ]
          },
          "metadata": {},
          "execution_count": 115
        }
      ]
    },
    {
      "cell_type": "code",
      "source": [
        "encoded = []\n",
        "for s in sentences:\n",
        "  temp = []\n",
        "  for w in s:\n",
        "    temp.append(word_to_id[w])\n",
        "  encoded.append(temp)\n",
        "encoded"
      ],
      "metadata": {
        "colab": {
          "base_uri": "https://localhost:8080/"
        },
        "id": "ndKydNZ0DL2D",
        "outputId": "d3c48355-0c4b-4911-defb-b14fd0f994ef"
      },
      "execution_count": 116,
      "outputs": [
        {
          "output_type": "execute_result",
          "data": {
            "text/plain": [
              "[[0, 1, 2],\n",
              " [3, 4, 5, 6, 7],\n",
              " [8, 0, 9, 10, 11, 12, 13],\n",
              " [14, 15, 16, 17],\n",
              " [18, 19, 20, 21, 22]]"
            ]
          },
          "metadata": {},
          "execution_count": 116
        }
      ]
    },
    {
      "cell_type": "code",
      "source": [],
      "metadata": {
        "id": "ZS1RvMtGDeeL"
      },
      "execution_count": null,
      "outputs": []
    }
  ]
}
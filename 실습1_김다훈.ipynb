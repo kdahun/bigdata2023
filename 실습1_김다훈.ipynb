{
 "cells": [
  {
   "cell_type": "markdown",
   "id": "0c8b843f",
   "metadata": {},
   "source": [
    "# 보스턴# 보스턴 주택가격 예측"
   ]
  },
  {
   "cell_type": "code",
   "execution_count": 1,
   "id": "481aee83",
   "metadata": {},
   "outputs": [
    {
     "name": "stderr",
     "output_type": "stream",
     "text": [
      "Using TensorFlow backend.\n"
     ]
    }
   ],
   "source": [
    "from keras.datasets import boston_housing"
   ]
  },
  {
   "cell_type": "code",
   "execution_count": 2,
   "id": "602bfd39",
   "metadata": {},
   "outputs": [
    {
     "name": "stdout",
     "output_type": "stream",
     "text": [
      "(404, 13) (404,) (102, 13) (102,)\n"
     ]
    }
   ],
   "source": [
    "(x_train,y_train),(x_test,y_test) = boston_housing.load_data(path=\"boston_housing.npz\",test_split=0.2,seed=113)\n",
    "print(x_train.shape,y_train.shape,x_test.shape,y_test.shape)"
   ]
  },
  {
   "cell_type": "code",
   "execution_count": 3,
   "id": "88407cc4",
   "metadata": {},
   "outputs": [],
   "source": [
    "# 값의 범위가 정규화가 안되어 있어서 loss가 크다\n",
    "# 발산하거나 시간이 오래걸린다.\n",
    "# 최소 최대 정규화, z 점수 표준화\n",
    "# 아래 코드는 z점수 표준화\n",
    "import numpy as np\n",
    "def zscore_standize(x):\n",
    "    return (x-x.mean(0))/x.std(0)\n",
    "\n",
    "# 최소 최대 정규화\n",
    "def minmax_normalize(x):\n",
    "    return (x-x.min(0))/(x.max(0)-x.min(0))\n",
    "\n",
    "x_train = np.apply_along_axis(zscore_standize,0,x_train)\n",
    "x_test = np.apply_along_axis(zscore_standize,0,x_test)\n",
    "\n",
    "#x_train = np.apply_along_axis(minmax_normalize,0,x_train)\n",
    "#x_test = np.apply_along_axis(minmax_normalize,0,x_test)\n"
   ]
  },
  {
   "cell_type": "code",
   "execution_count": 5,
   "id": "8e29f1ea",
   "metadata": {},
   "outputs": [
    {
     "name": "stdout",
     "output_type": "stream",
     "text": [
      "Epoch 1/5\n",
      "13/13 [==============================] - 0s 417us/step - loss: 531.9383 - mae: 20.8001\n",
      "Epoch 2/5\n",
      "13/13 [==============================] - 0s 417us/step - loss: 296.7788 - mae: 16.0760\n",
      "Epoch 3/5\n",
      "13/13 [==============================] - 0s 333us/step - loss: 216.4859 - mae: 13.0592\n",
      "Epoch 4/5\n",
      "13/13 [==============================] - 0s 417us/step - loss: 117.8175 - mae: 9.5010\n",
      "Epoch 5/5\n",
      "13/13 [==============================] - 0s 417us/step - loss: 78.0410 - mae: 7.3823\n",
      "404/404 [==============================] - 0s 295us/step - loss: 63.4937 - mae: 6.1636\n"
     ]
    }
   ],
   "source": [
    "from keras.models import Sequential\n",
    "from keras.layers import Dense\n",
    "\n",
    "model = Sequential()\n",
    "# 모델이 갱신되는거는 batch size로 된다 = > batch size가 짧으면 로스가 더 준다\n",
    "# ep\n",
    "\n",
    "model.add(Dense(units=1,activation='linear',input_dim=13))\n",
    "model.compile(loss='mse',optimizer='sgd',metrics=['mae'])\n",
    "# sgd\n",
    "\n",
    "\n",
    "model.fit(x_train,y_train,epochs=5,batch_size=32) # 테스트에 대한 \n",
    "loss_and_metrics = model.evaluate(x_train,y_train,batch_size=1) # 평가지표?\n",
    "\n",
    "classes=model.predict(x_train,batch_size=128) # 예측한 결과 y_hat이다."
   ]
  },
  {
   "cell_type": "code",
   "execution_count": null,
   "id": "10e890f6",
   "metadata": {},
   "outputs": [],
   "source": []
  }
 ],
 "metadata": {
  "kernelspec": {
   "display_name": "Python 3 (ipykernel)",
   "language": "python",
   "name": "python3"
  },
  "language_info": {
   "codemirror_mode": {
    "name": "ipython",
    "version": 3
   },
   "file_extension": ".py",
   "mimetype": "text/x-python",
   "name": "python",
   "nbconvert_exporter": "python",
   "pygments_lexer": "ipython3",
   "version": "3.8.0"
  }
 },
 "nbformat": 4,
 "nbformat_minor": 5
}

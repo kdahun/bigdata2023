{
  "nbformat": 4,
  "nbformat_minor": 0,
  "metadata": {
    "colab": {
      "provenance": [],
      "authorship_tag": "ABX9TyOFuvzGFDnQo+lIPr1R3que",
      "include_colab_link": true
    },
    "kernelspec": {
      "name": "python3",
      "display_name": "Python 3"
    },
    "language_info": {
      "name": "python"
    }
  },
  "cells": [
    {
      "cell_type": "markdown",
      "metadata": {
        "id": "view-in-github",
        "colab_type": "text"
      },
      "source": [
        "<a href=\"https://colab.research.google.com/github/kdahun/bigdata2023/blob/main/%EC%95%BC%EA%B5%AC%EA%B2%8C%EC%9E%84.ipynb\" target=\"_parent\"><img src=\"https://colab.research.google.com/assets/colab-badge.svg\" alt=\"Open In Colab\"/></a>"
      ]
    },
    {
      "cell_type": "code",
      "execution_count": 3,
      "metadata": {
        "id": "97Py5uh9fZpe"
      },
      "outputs": [],
      "source": [
        "import random"
      ]
    },
    {
      "cell_type": "code",
      "source": [
        "def rand_int(): # 랜덤정수 4개를 갖고 있는 정수리스트 반환\n",
        "  li = []\n",
        "  count = 0\n",
        "  while count<4:\n",
        "    num = random.randint(0,9) # 랜덤 정수(0~9)\n",
        "    if num not in li: # 중복 제거\n",
        "      li.append(num) # 리스트에 추가\n",
        "      count+=1 # while문 나가기 위한 count\n",
        "  return li\n",
        "\n",
        "def user_input(): # 사용자가 정수 입력(예외처리 하기)\n",
        "  b=input()\n",
        "  li = []\n",
        "\n",
        "  try:\n",
        "    for i in b:\n",
        "      li.append(int(i))\n",
        "    if len(li)!=4: # 입력한 수가 4개가 아닐때\n",
        "      print(\"4개의 정수만 입력해 주세요\")\n",
        "      li = user_input()\n",
        "\n",
        "    if len(set(li))!=4:\n",
        "      print(\"중복입니다. 다시 입력해 주세요\")\n",
        "      li = user_input()\n",
        "  except:\n",
        "    print(\"정수만 입력해 주세요\")\n",
        "    li = user_input()\n",
        "\n",
        "  return li\n",
        "\n",
        "def strike(a,b):\n",
        "  count=0\n",
        "  for i,j in zip(a,b):\n",
        "    if i==j:\n",
        "      count+=1\n",
        "  return count;\n",
        "\n",
        "def ball(a,b):\n",
        "  count = 0\n",
        "  for i in b:\n",
        "    if i in a:\n",
        "      count+=1\n",
        "  return count"
      ],
      "metadata": {
        "id": "jflAW60Hfeqf"
      },
      "execution_count": 90,
      "outputs": []
    },
    {
      "cell_type": "code",
      "source": [
        "st=0\n",
        "ba=0\n",
        "a=rand_int()\n",
        "print(\"랜덤 정수 4개 : \" , a)\n",
        "\n",
        "\n",
        "while st !=4:\n",
        "  b=user_input()\n",
        "  print(\"-------------------------------------\\n\")\n",
        "  print(\"사용자 입력 정수 4개 : \",b)\n",
        "  st = strike(a,b)\n",
        "  print(\"스트라이크 : \",st)\n",
        "  ba = ball(a,b)-st\n",
        "  print(\"볼 : \" , ba)\n",
        "  print(\"--------------------------------------\\n\")\n",
        "\n",
        "print(\"정답!!\")"
      ],
      "metadata": {
        "colab": {
          "base_uri": "https://localhost:8080/"
        },
        "id": "OaVhg05JfitW",
        "outputId": "ed75a992-277a-4839-e103-44ec4db8f987"
      },
      "execution_count": 92,
      "outputs": [
        {
          "output_type": "stream",
          "name": "stdout",
          "text": [
            "랜덤 정수 4개 :  [4, 9, 6, 1]\n",
            "1234\n",
            "-------------------------------------\n",
            "\n",
            "사용자 입력 정수 4개 :  [1, 2, 3, 4]\n",
            "스트라이크 :  0\n",
            "볼 :  2\n",
            "--------------------------------------\n",
            "\n",
            "4444\n",
            "중복입니다. 다시 입력해 주세요\n",
            "44444\n",
            "4개의 정수만 입력해 주세요\n",
            "4619\n",
            "-------------------------------------\n",
            "\n",
            "사용자 입력 정수 4개 :  [4, 6, 1, 9]\n",
            "스트라이크 :  1\n",
            "볼 :  3\n",
            "--------------------------------------\n",
            "\n",
            "4961\n",
            "-------------------------------------\n",
            "\n",
            "사용자 입력 정수 4개 :  [4, 9, 6, 1]\n",
            "스트라이크 :  4\n",
            "볼 :  0\n",
            "--------------------------------------\n",
            "\n",
            "정답!!\n"
          ]
        }
      ]
    },
    {
      "cell_type": "code",
      "source": [
        "2"
      ],
      "metadata": {
        "colab": {
          "base_uri": "https://localhost:8080/"
        },
        "id": "QaIqiGpTgKWQ",
        "outputId": "458af6e0-dd36-4acb-c77c-a7c70056c12c"
      },
      "execution_count": 77,
      "outputs": [
        {
          "output_type": "stream",
          "name": "stdout",
          "text": [
            "8904\n",
            "[8, 9, 0, 4]\n"
          ]
        }
      ]
    },
    {
      "cell_type": "code",
      "source": [],
      "metadata": {
        "colab": {
          "base_uri": "https://localhost:8080/"
        },
        "id": "CVD3Y_3Og9Gf",
        "outputId": "7421437c-7055-479b-d572-c854da9787c7"
      },
      "execution_count": 78,
      "outputs": [
        {
          "output_type": "stream",
          "name": "stdout",
          "text": [
            "2\n"
          ]
        }
      ]
    },
    {
      "cell_type": "code",
      "source": [],
      "metadata": {
        "colab": {
          "base_uri": "https://localhost:8080/"
        },
        "id": "bVsqT6IPh0aQ",
        "outputId": "1663135c-81d3-42ff-fdd8-c7d81e89deb8"
      },
      "execution_count": 79,
      "outputs": [
        {
          "output_type": "stream",
          "name": "stdout",
          "text": [
            "2\n"
          ]
        }
      ]
    },
    {
      "cell_type": "code",
      "source": [],
      "metadata": {
        "id": "yuQHQHNBlIWQ"
      },
      "execution_count": null,
      "outputs": []
    }
  ]
}
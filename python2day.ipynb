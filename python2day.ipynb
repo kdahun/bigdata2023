{
  "nbformat": 4,
  "nbformat_minor": 0,
  "metadata": {
    "colab": {
      "provenance": [],
      "authorship_tag": "ABX9TyMEuQ7Hwdou7xEBrJ5Op+Qo",
      "include_colab_link": true
    },
    "kernelspec": {
      "name": "python3",
      "display_name": "Python 3"
    },
    "language_info": {
      "name": "python"
    }
  },
  "cells": [
    {
      "cell_type": "markdown",
      "metadata": {
        "id": "view-in-github",
        "colab_type": "text"
      },
      "source": [
        "<a href=\"https://colab.research.google.com/github/kdahun/bigdata2023/blob/main/python2day.ipynb\" target=\"_parent\"><img src=\"https://colab.research.google.com/assets/colab-badge.svg\" alt=\"Open In Colab\"/></a>"
      ]
    },
    {
      "cell_type": "code",
      "execution_count": 37,
      "metadata": {
        "colab": {
          "base_uri": "https://localhost:8080/"
        },
        "id": "kzAP5Mhmbm9v",
        "outputId": "b49800ce-aa86-4e99-b133-ff69546fd28f"
      },
      "outputs": [
        {
          "output_type": "execute_result",
          "data": {
            "text/plain": [
              "14"
            ]
          },
          "metadata": {},
          "execution_count": 37
        }
      ],
      "source": [
        "number = 1110\n",
        "base = 2\n",
        "multiplier=1\n",
        "result=0\n",
        "\n",
        "while number>0:\n",
        "  temp = number % 10\n",
        "  result = result + (temp * multiplier)\n",
        "  multiplier = multiplier * base\n",
        "  number=number//10\n",
        "result"
      ]
    },
    {
      "cell_type": "code",
      "source": [],
      "metadata": {
        "id": "HdrEtYS5scX8"
      },
      "execution_count": null,
      "outputs": []
    },
    {
      "cell_type": "code",
      "source": [
        "I=[2,3,4,7,8]\n",
        "# I을 이용해서 I의 원소의 제곱을 한 리스트 생성\n",
        "i2=[]\n",
        "for i in I:\n",
        "  i2.append(i**2)\n",
        "print(i2)\n",
        "\n",
        "l3=[num**2 for num in I]\n",
        "print(l3)"
      ],
      "metadata": {
        "colab": {
          "base_uri": "https://localhost:8080/"
        },
        "id": "TcyGnV8DscVd",
        "outputId": "2a291277-dc83-432d-bd6c-69ad4c2e1700"
      },
      "execution_count": 65,
      "outputs": [
        {
          "output_type": "stream",
          "name": "stdout",
          "text": [
            "[4, 9, 16, 49, 64]\n"
          ]
        }
      ]
    },
    {
      "cell_type": "code",
      "source": [
        "#list comprehensions\n",
        "b=[y for y in range(2000,2100) if y%4==0] # 2000~2100 수를 가져오는데 4의 배수만\n",
        "print(b)"
      ],
      "metadata": {
        "colab": {
          "base_uri": "https://localhost:8080/"
        },
        "id": "Hj9t4JfWscRV",
        "outputId": "fa54a24d-fe9a-4cb9-dee2-4cef96405024"
      },
      "execution_count": 69,
      "outputs": [
        {
          "output_type": "stream",
          "name": "stdout",
          "text": [
            "[2000, 2004, 2008, 2012, 2016, 2020, 2024, 2028, 2032, 2036, 2040, 2044, 2048, 2052, 2056, 2060, 2064, 2068, 2072, 2076, 2080, 2084, 2088, 2092, 2096]\n"
          ]
        }
      ]
    },
    {
      "cell_type": "code",
      "source": [
        "result = []\n",
        "\n",
        "for i in range(5):\n",
        "  for j in range(3):\n",
        "    result.append((i,j))\n",
        "\n",
        "result1 = [ (i,j) for i in range(5) for j in range(3)]\n",
        "\n",
        "print(result)\n",
        "print(result1)"
      ],
      "metadata": {
        "colab": {
          "base_uri": "https://localhost:8080/"
        },
        "id": "3aYgvHdbscO8",
        "outputId": "0f76434b-47d4-4ac7-c937-5576d1102198"
      },
      "execution_count": 73,
      "outputs": [
        {
          "output_type": "stream",
          "name": "stdout",
          "text": [
            "[(0, 0), (0, 1), (0, 2), (1, 0), (1, 1), (1, 2), (2, 0), (2, 1), (2, 2), (3, 0), (3, 1), (3, 2), (4, 0), (4, 1), (4, 2)]\n",
            "[(0, 0), (0, 1), (0, 2), (1, 0), (1, 1), (1, 2), (2, 0), (2, 1), (2, 2), (3, 0), (3, 1), (3, 2), (4, 0), (4, 1), (4, 2)]\n"
          ]
        }
      ]
    },
    {
      "cell_type": "markdown",
      "source": [
        "### 문자열 : \" \" , ' ', ''' ''', 불변형 배열"
      ],
      "metadata": {
        "id": "tjiSKnM0wN4F"
      }
    },
    {
      "cell_type": "code",
      "source": [
        "s = \"life is too short.\"\n",
        "print(s[3])\n",
        "print(s[:])"
      ],
      "metadata": {
        "colab": {
          "base_uri": "https://localhost:8080/"
        },
        "id": "_m_-am65scKs",
        "outputId": "87b66248-349a-4f11-8c23-f591d0e10e1b"
      },
      "execution_count": 74,
      "outputs": [
        {
          "output_type": "stream",
          "name": "stdout",
          "text": [
            "e\n",
            "life is too short.\n"
          ]
        }
      ]
    },
    {
      "cell_type": "code",
      "source": [
        "주민번호 =\"990120-1234567\"\n",
        "a=주민번호.split('-')\n",
        "a[1][0]\n",
        "\n",
        "print(\"year : \",주민번호[0:2])\n",
        "print(\"month : \",주민번호[2:4])\n",
        "print(\"성별 : \", a[1][0])\n",
        "print(\"검증번호 : \",주민번호[-1])"
      ],
      "metadata": {
        "colab": {
          "base_uri": "https://localhost:8080/"
        },
        "id": "RCjHmlxoscIM",
        "outputId": "420d1062-289f-49dc-d568-086f8be36dbb"
      },
      "execution_count": 78,
      "outputs": [
        {
          "output_type": "stream",
          "name": "stdout",
          "text": [
            "year :  99\n",
            "month :  01\n",
            "성별 :  1\n",
            "검증번호 :  7\n"
          ]
        }
      ]
    },
    {
      "cell_type": "code",
      "source": [
        "print(\"a : \",a)\n",
        "print(''.join(a))\n",
        "b=''.join(a)\n",
        "type(b)"
      ],
      "metadata": {
        "colab": {
          "base_uri": "https://localhost:8080/"
        },
        "id": "mVsFMqhyscGE",
        "outputId": "29fdc329-c182-4cda-cc79-2ee4517b6079"
      },
      "execution_count": 81,
      "outputs": [
        {
          "output_type": "stream",
          "name": "stdout",
          "text": [
            "a :  ['990120', '1234567']\n",
            "9901201234567\n"
          ]
        },
        {
          "output_type": "execute_result",
          "data": {
            "text/plain": [
              "str"
            ]
          },
          "metadata": {},
          "execution_count": 81
        }
      ]
    },
    {
      "cell_type": "code",
      "source": [
        "a=\"a:b:c:d\"\n",
        "print('/'.join(a.split(\":\")))\n",
        "\n",
        "\n",
        "\n",
        "s=\"2022.03.07\"\n",
        "print('/'.join(s.split(\".\")))\n",
        "print(s.replace('.','/'))"
      ],
      "metadata": {
        "colab": {
          "base_uri": "https://localhost:8080/"
        },
        "id": "DYXarOFPscDM",
        "outputId": "58e2b33c-acdd-4860-ae1f-2da9732fa1c7"
      },
      "execution_count": 86,
      "outputs": [
        {
          "output_type": "stream",
          "name": "stdout",
          "text": [
            "a/b/c/d\n",
            "2022/03/07\n",
            "2022/03/07\n"
          ]
        }
      ]
    },
    {
      "cell_type": "code",
      "source": [
        "# 암호만들기 실습\n",
        "\n",
        "# 예) http://naver.com\n",
        "\n",
        "url = \"http://naver.com\"\n",
        "pw = url.replace('http://',\"\")\n",
        "print(pw)\n",
        "pw=pw.split('.')\n",
        "print(pw)\n",
        "pw = pw[0][:3]+str(len(pw[0]))+str(pw[0].count(\"e\"))+\"!\"\n",
        "print(pw)\n",
        "print()\n",
        "\n",
        "addresses = [\"http://naver.com\",\"http://google.com\",\"http://youtube.com\",\"http://daum.net\"]\n",
        "\n",
        "for address in  addresses:\n",
        "  rule_1 = address[7:]\n",
        "  rule_2 = rule_1.split(\".\")[0]\n",
        "  count=0\n",
        "  for a in rule_2:\n",
        "    if a=='e':\n",
        "      count+=1\n",
        "  rule_3 = rule_2[:3] + str(len(rule_2)) + str(count)+\"!\"\n",
        "  print(rule_3)\n",
        "\n"
      ],
      "metadata": {
        "colab": {
          "base_uri": "https://localhost:8080/"
        },
        "id": "vQR5bgdqsb-k",
        "outputId": "8a42575d-b5d6-46d3-e0d6-c911f733fcce"
      },
      "execution_count": 116,
      "outputs": [
        {
          "output_type": "stream",
          "name": "stdout",
          "text": [
            "naver.com\n",
            "['naver', 'com']\n",
            "nav51!\n",
            "\n",
            "nav51!\n",
            "goo61!\n",
            "you71!\n",
            "dau40!\n"
          ]
        }
      ]
    },
    {
      "cell_type": "code",
      "source": [
        "# 문자 반전 안녕 세상!\n",
        "s = \"안녕 세상!\"\n",
        "s_re=\"\"\n",
        "for i in reversed(s):\n",
        "  s_re +=i\n",
        "\n",
        "s2= \"파이썬 알고리즘 정말 재미있다\"\n",
        "\n",
        "ss = s2.split(\" \")\n",
        "ss_re = \"\"\n",
        "for i in reversed(ss):\n",
        "  ss_re+=(i+\" \")\n",
        "\n",
        "print(s[::-1])\n",
        "print(\" \".join(s2.split(\" \")[::-1]))"
      ],
      "metadata": {
        "colab": {
          "base_uri": "https://localhost:8080/"
        },
        "id": "DIvbUelfLdaT",
        "outputId": "41f85429-fe8e-4edc-90d6-a8cae1c7daff"
      },
      "execution_count": 133,
      "outputs": [
        {
          "output_type": "stream",
          "name": "stdout",
          "text": [
            "!상세 녕안\n",
            "재미있다 정말 알고리즘 파이썬\n"
          ]
        }
      ]
    },
    {
      "cell_type": "code",
      "source": [
        "s_re"
      ],
      "metadata": {
        "colab": {
          "base_uri": "https://localhost:8080/",
          "height": 35
        },
        "id": "Di9-B4uaLdRr",
        "outputId": "42b7e20c-0daf-412d-9948-7d9e7102ba8e"
      },
      "execution_count": 129,
      "outputs": [
        {
          "output_type": "execute_result",
          "data": {
            "text/plain": [
              "'!상세 녕안'"
            ],
            "application/vnd.google.colaboratory.intrinsic+json": {
              "type": "string"
            }
          },
          "metadata": {},
          "execution_count": 129
        }
      ]
    },
    {
      "cell_type": "code",
      "source": [
        "ss_re"
      ],
      "metadata": {
        "colab": {
          "base_uri": "https://localhost:8080/",
          "height": 35
        },
        "id": "z2S2yNdDEW4b",
        "outputId": "97636209-78fd-444c-fda3-1fed52dcb4a7"
      },
      "execution_count": 130,
      "outputs": [
        {
          "output_type": "execute_result",
          "data": {
            "text/plain": [
              "'재미있다 정말 알고리즘 파이썬 '"
            ],
            "application/vnd.google.colaboratory.intrinsic+json": {
              "type": "string"
            }
          },
          "metadata": {},
          "execution_count": 130
        }
      ]
    },
    {
      "cell_type": "code",
      "source": [
        "# 회문 여부 판단\n",
        "\n",
        "s3 = \"다시 합창합시다\"\n",
        "s3 = \"\".join(s3.split(\" \"))\n",
        "print(s3)\n",
        "\n",
        "print()\n",
        "\n",
        "count=0\n",
        "s3_re = s3[::-1]\n",
        "\n",
        "\n",
        "for i in range(len(s3)):\n",
        "  if(\"\".join(s3.split(\" \"))[::-1][i]!=s3[i]):\n",
        "    count+=1\n",
        "\n",
        "if count==0:\n",
        "  print(\"T\")\n",
        "else:\n",
        "  print(\"F\")\n",
        "\n",
        "\n"
      ],
      "metadata": {
        "colab": {
          "base_uri": "https://localhost:8080/"
        },
        "id": "aiwls2NPEW8K",
        "outputId": "421d4713-aa99-4149-c2a4-b3dfb9b3edc2"
      },
      "execution_count": 144,
      "outputs": [
        {
          "output_type": "stream",
          "name": "stdout",
          "text": [
            "다시합창합시다\n",
            "\n",
            "T\n"
          ]
        }
      ]
    },
    {
      "cell_type": "code",
      "source": [
        "if s3==s3_re:\n",
        "  print(\"reverse\")"
      ],
      "metadata": {
        "colab": {
          "base_uri": "https://localhost:8080/"
        },
        "id": "WGJfo1tLEW_J",
        "outputId": "df8de0ff-4584-40fc-9147-f5025c846aef"
      },
      "execution_count": 145,
      "outputs": [
        {
          "output_type": "stream",
          "name": "stdout",
          "text": [
            "reverse\n"
          ]
        }
      ]
    },
    {
      "cell_type": "code",
      "source": [
        "s3.replace(\" \",\"\")==s3.replace(\" \",\"\")[::-1]"
      ],
      "metadata": {
        "colab": {
          "base_uri": "https://localhost:8080/"
        },
        "id": "PcLWDGawEXBq",
        "outputId": "7523bf31-b534-4eb6-fad5-471e548ddbdf"
      },
      "execution_count": 146,
      "outputs": [
        {
          "output_type": "execute_result",
          "data": {
            "text/plain": [
              "True"
            ]
          },
          "metadata": {},
          "execution_count": 146
        }
      ]
    },
    {
      "cell_type": "markdown",
      "source": [
        "## 자료형(collection => mapping)\n",
        "{키1:값1, 키2:값2, ....}, 키가 인덱스의 역할"
      ],
      "metadata": {
        "id": "h-OYiXAlSzIk"
      }
    },
    {
      "cell_type": "code",
      "source": [
        "portfolio={\"name\" : \"김은연\",\"phone\":\"011-677-12324\",\"birth\":\"05/08\"}\n",
        "\n",
        "print(portfolio[\"name\"])\n",
        "\n",
        "print(portfolio[\"phone\"])\n",
        "\n",
        "print(portfolio[\"birth\"])\n",
        "\n",
        "print(portfolio.keys())\n",
        "print(portfolio.values())\n",
        "print(portfolio.items())\n",
        "\n",
        "portfolio[\"hobby\"] = [\"sleeping\",\"watching Tv\"]\n",
        "\n",
        "print(portfolio.items())"
      ],
      "metadata": {
        "colab": {
          "base_uri": "https://localhost:8080/"
        },
        "id": "YuihgkC3RyGs",
        "outputId": "a7c0d839-6c37-40c5-fae6-8efc599fe98a"
      },
      "execution_count": 152,
      "outputs": [
        {
          "output_type": "stream",
          "name": "stdout",
          "text": [
            "김은연\n",
            "011-677-12324\n",
            "05/08\n",
            "dict_keys(['name', 'phone', 'birth'])\n",
            "dict_values(['김은연', '011-677-12324', '05/08'])\n",
            "dict_items([('name', '김은연'), ('phone', '011-677-12324'), ('birth', '05/08')])\n",
            "dict_items([('name', '김은연'), ('phone', '011-677-12324'), ('birth', '05/08'), ('hobby', ['sleeping', 'watching Tv'])])\n"
          ]
        }
      ]
    },
    {
      "cell_type": "code",
      "source": [
        "cabinet = {\"A-1\":\"유재석\",\"A-2\":\"조세호\",\"B-1\":[\"김종국\",\"하하\"]}\n",
        "\n",
        "cabinet[\"A-1\"]"
      ],
      "metadata": {
        "colab": {
          "base_uri": "https://localhost:8080/",
          "height": 35
        },
        "id": "dCwAtKIrRyD7",
        "outputId": "687f27d3-a084-452d-8c8d-2b82cb47ccba"
      },
      "execution_count": 153,
      "outputs": [
        {
          "output_type": "execute_result",
          "data": {
            "text/plain": [
              "'유재석'"
            ],
            "application/vnd.google.colaboratory.intrinsic+json": {
              "type": "string"
            }
          },
          "metadata": {},
          "execution_count": 153
        }
      ]
    },
    {
      "cell_type": "code",
      "source": [
        "cabinet[\"B-2\"]=[\"박명수\",\"신동엽\"]\n",
        "cabinet"
      ],
      "metadata": {
        "colab": {
          "base_uri": "https://localhost:8080/"
        },
        "id": "wO8n2y8aRyBs",
        "outputId": "8a9222cc-294a-4875-916c-1885ae31b032"
      },
      "execution_count": 155,
      "outputs": [
        {
          "output_type": "execute_result",
          "data": {
            "text/plain": [
              "{'A-1': '유재석', 'A-2': '조세호', 'B-1': ['김종국', '하하'], 'B-2': ['박명수', '신동엽']}"
            ]
          },
          "metadata": {},
          "execution_count": 155
        }
      ]
    },
    {
      "cell_type": "code",
      "source": [
        "seq = \"버피 에인젤 몬스터 잰더 윌로우 버피 몬수터 슈퍼 버피 에인젤\"\n",
        "\n",
        "seq1 = seq.split(\" \")\n",
        "d={}\n",
        "for i in seq1:\n",
        "  d[i]=seq.count(i)\n",
        "\n",
        "d1={}\n",
        "for name in seq.split():\n",
        "  if name not in d1.keys():\n",
        "    d1[name]=1\n",
        "  else:\n",
        "    d1[name]+=1\n",
        "\n",
        "d2={}\n",
        "for name in set(seq):\n",
        "  d2[name]=seq.count(name)"
      ],
      "metadata": {
        "id": "CKxI0Xm3Rx-8"
      },
      "execution_count": 181,
      "outputs": []
    },
    {
      "cell_type": "code",
      "source": [
        "d"
      ],
      "metadata": {
        "colab": {
          "base_uri": "https://localhost:8080/"
        },
        "id": "vFWAlrXSRx6U",
        "outputId": "c28244bd-6c58-473a-db1e-d8794f549e6d"
      },
      "execution_count": 168,
      "outputs": [
        {
          "output_type": "execute_result",
          "data": {
            "text/plain": [
              "{'버피': 3, '에인젤': 2, '몬스터': 1, '잰더': 1, '윌로우': 1, '몬수터': 1, '슈퍼': 1}"
            ]
          },
          "metadata": {},
          "execution_count": 168
        }
      ]
    },
    {
      "cell_type": "code",
      "source": [
        "d1"
      ],
      "metadata": {
        "colab": {
          "base_uri": "https://localhost:8080/"
        },
        "id": "91vI_7S0sb8E",
        "outputId": "bdd0861d-ce91-41b7-c352-c488c7410e3f"
      },
      "execution_count": 169,
      "outputs": [
        {
          "output_type": "execute_result",
          "data": {
            "text/plain": [
              "{'버피': 3, '에인젤': 2, '몬스터': 1, '잰더': 1, '윌로우': 1, '몬수터': 1, '슈퍼': 1}"
            ]
          },
          "metadata": {},
          "execution_count": 169
        }
      ]
    },
    {
      "cell_type": "code",
      "source": [
        "d2"
      ],
      "metadata": {
        "colab": {
          "base_uri": "https://localhost:8080/"
        },
        "id": "mTxkLdrKcqhp",
        "outputId": "a8e6437c-7811-4af3-c9db-bbdbdbcb2936"
      },
      "execution_count": 170,
      "outputs": [
        {
          "output_type": "execute_result",
          "data": {
            "text/plain": [
              "{}"
            ]
          },
          "metadata": {},
          "execution_count": 170
        }
      ]
    },
    {
      "cell_type": "code",
      "source": [
        "s = 'life is short, so python is easy'\n",
        "punct=',. '\n",
        "d={}\n",
        "d1={}\n",
        "\n",
        "a=list(set(s))\n",
        "a[0]\n",
        "\n",
        "for p in punct:\n",
        "  if p in a:\n",
        "    a.remove(p)"
      ],
      "metadata": {
        "colab": {
          "base_uri": "https://localhost:8080/",
          "height": 35
        },
        "id": "iDCTJjlqdwOC",
        "outputId": "8e255e9a-baa7-4e17-a927-09fcfbb59cfe"
      },
      "execution_count": 171,
      "outputs": [
        {
          "output_type": "execute_result",
          "data": {
            "text/plain": [
              "'f'"
            ],
            "application/vnd.google.colaboratory.intrinsic+json": {
              "type": "string"
            }
          },
          "metadata": {},
          "execution_count": 171
        }
      ]
    },
    {
      "cell_type": "code",
      "source": [
        "for i in a:\n",
        "  d[i]=0\n",
        "  for j in s:\n",
        "    if i==j:\n",
        "      d[i]+=1\n",
        "d"
      ],
      "metadata": {
        "colab": {
          "base_uri": "https://localhost:8080/"
        },
        "id": "bQBBB7WFnUK0",
        "outputId": "efcedf0b-103d-4d36-dc21-b538206dfda3"
      },
      "execution_count": 174,
      "outputs": [
        {
          "output_type": "execute_result",
          "data": {
            "text/plain": [
              "{'f': 1,\n",
              " 'i': 3,\n",
              " 'e': 2,\n",
              " 'r': 1,\n",
              " 'l': 1,\n",
              " 'h': 2,\n",
              " 'p': 1,\n",
              " 'o': 3,\n",
              " 't': 2,\n",
              " 's': 5,\n",
              " 'n': 1,\n",
              " 'y': 2,\n",
              " 'a': 1}"
            ]
          },
          "metadata": {},
          "execution_count": 174
        }
      ]
    },
    {
      "cell_type": "code",
      "source": [
        "for i in a:\n",
        "  d1[i]=s.count(i)\n",
        "d1"
      ],
      "metadata": {
        "colab": {
          "base_uri": "https://localhost:8080/"
        },
        "id": "qLWQHgogsZXG",
        "outputId": "1c9a00e7-dde8-44ed-b243-615abd42cbe5"
      },
      "execution_count": 175,
      "outputs": [
        {
          "output_type": "execute_result",
          "data": {
            "text/plain": [
              "{'f': 1,\n",
              " 'i': 3,\n",
              " 'e': 2,\n",
              " 'r': 1,\n",
              " 'l': 1,\n",
              " 'h': 2,\n",
              " 'p': 1,\n",
              " 'o': 3,\n",
              " 't': 2,\n",
              " 's': 5,\n",
              " 'n': 1,\n",
              " 'y': 2,\n",
              " 'a': 1}"
            ]
          },
          "metadata": {},
          "execution_count": 175
        }
      ]
    },
    {
      "cell_type": "code",
      "source": [
        "a=(1,2,3)\n",
        "print(a,type(a))\n",
        "a=(1,2,3,4)\n",
        "print(a,type(a))"
      ],
      "metadata": {
        "colab": {
          "base_uri": "https://localhost:8080/"
        },
        "id": "JewiyoddLZiz",
        "outputId": "3c271bf4-c830-4fe3-d848-205a1f373a1e"
      },
      "execution_count": 177,
      "outputs": [
        {
          "output_type": "stream",
          "name": "stdout",
          "text": [
            "(1, 2, 3) <class 'tuple'>\n",
            "(1, 2, 3, 4) <class 'tuple'>\n"
          ]
        }
      ]
    },
    {
      "cell_type": "code",
      "source": [
        "# 가로가 없어도 튜플로 인식한다.\n",
        "b=1,2,3,4\n",
        "a==b\n",
        "# 튜플에 1개의 원소만 넣고 싶으면 (3, )하면 된다.\n"
      ],
      "metadata": {
        "colab": {
          "base_uri": "https://localhost:8080/"
        },
        "id": "TQOujwpHggOY",
        "outputId": "954f8279-a69b-43a9-e9e4-2b40c28b42f4"
      },
      "execution_count": 180,
      "outputs": [
        {
          "output_type": "execute_result",
          "data": {
            "text/plain": [
              "True"
            ]
          },
          "metadata": {},
          "execution_count": 180
        }
      ]
    },
    {
      "cell_type": "code",
      "source": [],
      "metadata": {
        "colab": {
          "base_uri": "https://localhost:8080/"
        },
        "id": "yQGR3o34hD5Y",
        "outputId": "aebaf9c2-2d48-43c2-b331-28cb470f1f75"
      },
      "execution_count": 179,
      "outputs": [
        {
          "output_type": "execute_result",
          "data": {
            "text/plain": [
              "3"
            ]
          },
          "metadata": {},
          "execution_count": 179
        }
      ]
    },
    {
      "cell_type": "markdown",
      "source": [
        "### 집합(set) : {}, 중복 제거\n"
      ],
      "metadata": {
        "id": "F_m0cq-NhWif"
      }
    },
    {
      "cell_type": "code",
      "source": [
        "a={1,2,3,3,3,6}\n",
        "print(a)"
      ],
      "metadata": {
        "colab": {
          "base_uri": "https://localhost:8080/"
        },
        "id": "5vXeTgbFhJTo",
        "outputId": "23aed050-db3c-4729-c589-89025c7501b2"
      },
      "execution_count": 183,
      "outputs": [
        {
          "output_type": "stream",
          "name": "stdout",
          "text": [
            "{1, 2, 3, 6}\n"
          ]
        }
      ]
    },
    {
      "cell_type": "code",
      "source": [
        "print(\"intersection : \",a.intersection(({3,4})))\n",
        "print(\"union : \",a.union({3,4,5,6}))"
      ],
      "metadata": {
        "colab": {
          "base_uri": "https://localhost:8080/"
        },
        "id": "72v29yDchi64",
        "outputId": "0db520cf-e5cb-4bc7-fe07-653b80c12553"
      },
      "execution_count": 188,
      "outputs": [
        {
          "output_type": "stream",
          "name": "stdout",
          "text": [
            "intersection :  {3}\n",
            "union :  {1, 2, 3, 4, 5, 6}\n"
          ]
        }
      ]
    },
    {
      "cell_type": "code",
      "source": [],
      "metadata": {
        "colab": {
          "base_uri": "https://localhost:8080/"
        },
        "id": "h2NfRM6dj8yw",
        "outputId": "d7eedf46-6017-4e0e-b8bd-6235f0961ab8"
      },
      "execution_count": 194,
      "outputs": [
        {
          "name": "stdout",
          "output_type": "stream",
          "text": [
            "강아지\n",
            "해피\n"
          ]
        }
      ]
    },
    {
      "cell_type": "code",
      "source": [
        "petType = input()\n",
        "petName = input()\n",
        "petAge = input()\n",
        "\n",
        "print(f\"우리집 {[petType]} 이름은 {petName}(이)예요, {petName}는 {petAge}살입니다.\")\n",
        "print(\"우리집 {0} 이름은 {1}(이)예요, {1}는 {2}살입니다.\".format(petType,petName,petAge))\n",
        "print(\"우리집 %s 이름은 %s(이)예요, %s는 %s살입니다.\"%(petType,petName,petName,petAge))\n"
      ],
      "metadata": {
        "colab": {
          "base_uri": "https://localhost:8080/"
        },
        "id": "EmJm017ohpcA",
        "outputId": "72d591c5-da2b-4597-ff01-ed3c3c9ad26f"
      },
      "execution_count": 198,
      "outputs": [
        {
          "output_type": "stream",
          "name": "stdout",
          "text": [
            "1\n",
            "2\n",
            "3\n",
            "우리집 ['1'] 이름은 2(이)예요, 2는 3살입니다.\n",
            "우리집 1 이름은 2(이)예요, 2는 3살입니다.\n",
            "우리집 1 이름은 2(이)예요, 2는 3살입니다.\n"
          ]
        }
      ]
    },
    {
      "cell_type": "code",
      "source": [
        "def mul(x1,x2):\n",
        "  a=x1**2+x2**2\n",
        "  return a\n",
        "\n",
        "mul(2,4)"
      ],
      "metadata": {
        "colab": {
          "base_uri": "https://localhost:8080/"
        },
        "id": "-UE15bYuj70A",
        "outputId": "7462d6d1-1e15-429a-c5c9-fa70f2bbcf5c"
      },
      "execution_count": 199,
      "outputs": [
        {
          "output_type": "execute_result",
          "data": {
            "text/plain": [
              "20"
            ]
          },
          "metadata": {},
          "execution_count": 199
        }
      ]
    },
    {
      "cell_type": "code",
      "source": [],
      "metadata": {
        "id": "-7oIvhq1m_G5"
      },
      "execution_count": 200,
      "outputs": []
    },
    {
      "cell_type": "code",
      "source": [
        "number = 1110\n",
        "base = 2\n",
        "\n",
        "def binary(number,base):\n",
        "  multiplier=1\n",
        "  result=0\n",
        "\n",
        "  while number>0:\n",
        "    temp = number % 10\n",
        "    result = result + (temp * multiplier)\n",
        "    multiplier = multiplier * base\n",
        "    number=number//10\n",
        "  return result\n",
        "\n",
        "\n",
        "re = binary(number,base)\n",
        "print(re)\n"
      ],
      "metadata": {
        "colab": {
          "base_uri": "https://localhost:8080/"
        },
        "id": "KlvMoN5JnIzz",
        "outputId": "088ef98c-3555-41a2-8861-0608583016ae"
      },
      "execution_count": 202,
      "outputs": [
        {
          "output_type": "stream",
          "name": "stdout",
          "text": [
            "14\n"
          ]
        }
      ]
    },
    {
      "cell_type": "code",
      "source": [
        "# 두점 사이의 거리를 구하는 dist\n",
        "\n",
        "def dist(a,b):\n",
        "  result = (b[0]-a[0])**2+(b[1]-a[1])**2+(b[2]-a[2])**2\n",
        "  print(result)\n",
        "  return result\n",
        "\n",
        "\n",
        "\n",
        "a=[1,3,0]\n",
        "b=[2,0,0]\n",
        "\n",
        "re = dist(a,b)\n",
        "print(\"거리 : \",re**0.5)"
      ],
      "metadata": {
        "colab": {
          "base_uri": "https://localhost:8080/"
        },
        "id": "m57npEgkn8bp",
        "outputId": "f00ea9d6-8418-47b9-8311-f4ec67e0fbfe"
      },
      "execution_count": 204,
      "outputs": [
        {
          "output_type": "stream",
          "name": "stdout",
          "text": [
            "10\n",
            "거리 :  3.1622776601683795\n"
          ]
        }
      ]
    },
    {
      "cell_type": "code",
      "source": [
        "\n",
        "def std_weight(cm,gender):\n",
        "  cm=cm*0.01\n",
        "  if gender == 0:\n",
        "    man = round(cm**2*22,2)\n",
        "    return man,gender\n",
        "  else:\n",
        "    female = round(cm**2*21,2)\n",
        "    return female,gender\n",
        "\n",
        "cm = 170\n",
        "gender = 0\n",
        "\n",
        "weight,gen = std_weight(cm,gender)\n",
        "print(\"키 {0}cm {1}의 표준 체중은 {2}kg 입니다\".format(cm,gen,weight))\n",
        "\n"
      ],
      "metadata": {
        "colab": {
          "base_uri": "https://localhost:8080/"
        },
        "id": "FHUGiAOdtspb",
        "outputId": "bc3d63d1-19ba-4561-cc6d-731729fdfff6"
      },
      "execution_count": 212,
      "outputs": [
        {
          "output_type": "stream",
          "name": "stdout",
          "text": [
            "키 170cm 0의 표준 체중은 63.58kg 입니다\n"
          ]
        }
      ]
    },
    {
      "cell_type": "code",
      "source": [
        "def factoryer(num):\n",
        "  if num==1:\n",
        "    return 1\n",
        "  result = factoryer(num-1)*num\n",
        "  return result\n",
        "\n",
        "factoryer(5)\n"
      ],
      "metadata": {
        "colab": {
          "base_uri": "https://localhost:8080/"
        },
        "id": "ySPgdOQ-x0Fz",
        "outputId": "ccfd999c-04c5-4e44-8a5e-a93445f8126b"
      },
      "execution_count": 218,
      "outputs": [
        {
          "output_type": "execute_result",
          "data": {
            "text/plain": [
              "120"
            ]
          },
          "metadata": {},
          "execution_count": 218
        }
      ]
    },
    {
      "cell_type": "code",
      "source": [],
      "metadata": {
        "id": "EbKLEo5y1c-l"
      },
      "execution_count": null,
      "outputs": []
    }
  ]
}
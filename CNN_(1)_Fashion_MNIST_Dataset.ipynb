{
  "nbformat": 4,
  "nbformat_minor": 0,
  "metadata": {
    "colab": {
      "provenance": [],
      "include_colab_link": true
    },
    "kernelspec": {
      "name": "python3",
      "display_name": "Python 3"
    },
    "language_info": {
      "name": "python"
    }
  },
  "cells": [
    {
      "cell_type": "markdown",
      "metadata": {
        "id": "view-in-github",
        "colab_type": "text"
      },
      "source": [
        "<a href=\"https://colab.research.google.com/github/kdahun/bigdata2023/blob/main/CNN_(1)_Fashion_MNIST_Dataset.ipynb\" target=\"_parent\"><img src=\"https://colab.research.google.com/assets/colab-badge.svg\" alt=\"Open In Colab\"/></a>"
      ]
    },
    {
      "cell_type": "markdown",
      "source": [
        "# Fashion MNIST Dataset을 CNN으로 훈련"
      ],
      "metadata": {
        "id": "0ETilGfW95b_"
      }
    },
    {
      "cell_type": "code",
      "source": [
        "import tensorflow as tf\n",
        "\n",
        "import numpy as np\n",
        "import matplotlib.pyplot as plt\n"
      ],
      "metadata": {
        "id": "fsivrl_Y998W"
      },
      "execution_count": null,
      "outputs": []
    },
    {
      "cell_type": "code",
      "source": [
        "np.random.seed(42)\n",
        "tf.random.set_seed(42)"
      ],
      "metadata": {
        "id": "GlAX4D_C-cCe"
      },
      "execution_count": null,
      "outputs": []
    },
    {
      "cell_type": "code",
      "source": [
        "from tensorflow.keras.datasets import fashion_mnist"
      ],
      "metadata": {
        "id": "RK3So_Qx-xpW"
      },
      "execution_count": null,
      "outputs": []
    },
    {
      "cell_type": "markdown",
      "source": [
        "## 1. 데이터 다운로드 및 적재"
      ],
      "metadata": {
        "id": "pgZGGM1dDpOP"
      }
    },
    {
      "cell_type": "code",
      "source": [
        "(train_images, train_labels), (test_images, test_labels) = fashion_mnist.load_data()"
      ],
      "metadata": {
        "id": "FOuPSAZy_H2X"
      },
      "execution_count": null,
      "outputs": []
    },
    {
      "cell_type": "code",
      "source": [
        "train_images.shape, train_labels.shape"
      ],
      "metadata": {
        "colab": {
          "base_uri": "https://localhost:8080/"
        },
        "id": "UU0r6-s7AFRI",
        "outputId": "c91280ef-7d7b-47ba-e023-d9f38078d321"
      },
      "execution_count": null,
      "outputs": [
        {
          "output_type": "execute_result",
          "data": {
            "text/plain": [
              "((60000, 28, 28), (60000,))"
            ]
          },
          "metadata": {},
          "execution_count": 31
        }
      ]
    },
    {
      "cell_type": "code",
      "source": [
        "test_images.shape, test_labels.shape"
      ],
      "metadata": {
        "colab": {
          "base_uri": "https://localhost:8080/"
        },
        "id": "wJP95B9BARy-",
        "outputId": "6e5249a0-283b-4f26-d1b9-91488763e1ff"
      },
      "execution_count": null,
      "outputs": [
        {
          "output_type": "execute_result",
          "data": {
            "text/plain": [
              "((10000, 28, 28), (10000,))"
            ]
          },
          "metadata": {},
          "execution_count": 32
        }
      ]
    },
    {
      "cell_type": "code",
      "source": [
        "train_images[0].shape"
      ],
      "metadata": {
        "colab": {
          "base_uri": "https://localhost:8080/"
        },
        "id": "m5dMJfSoB6vz",
        "outputId": "3e320f03-ec3f-4b33-997f-f8b03204adea"
      },
      "execution_count": null,
      "outputs": [
        {
          "output_type": "execute_result",
          "data": {
            "text/plain": [
              "(28, 28)"
            ]
          },
          "metadata": {},
          "execution_count": 33
        }
      ]
    },
    {
      "cell_type": "markdown",
      "source": [
        "## 2. 데이터 시각화"
      ],
      "metadata": {
        "id": "XVWDmsFXDwH-"
      }
    },
    {
      "cell_type": "code",
      "source": [
        "class_names = [\"T-shirt/top\", \"Trouser\", \"Pullover\", \"Dress\", \"Coat\",\n",
        "\"Sandal\", \"Shirt\", \"Sneaker\", \"Bag\", \"Ankle boot\"]"
      ],
      "metadata": {
        "id": "BKLJOlscIL8z"
      },
      "execution_count": null,
      "outputs": []
    },
    {
      "cell_type": "code",
      "source": [
        "figure, axes = plt.subplots(figsize=(22, 6), nrows=1, ncols=8)\n",
        "\n",
        "for i in range(8):\n",
        "    axes[i].imshow(train_images[i], cmap=\"gray\")\n",
        "    axes[i].set_title(class_names[train_labels[i]])\n",
        "plt.show()\n",
        "\n",
        "figure, axes = plt.subplots(figsize=(22, 6), nrows=1, ncols=8)\n",
        "for i in range(8):\n",
        "    axes[i].imshow(train_images[i+16], cmap=\"gray\")\n",
        "    axes[i].set_title(class_names[test_labels[i]])\n",
        "plt.show()"
      ],
      "metadata": {
        "colab": {
          "base_uri": "https://localhost:8080/",
          "height": 213
        },
        "id": "efO4IfAVAv1Y",
        "outputId": "3b3d295e-ef05-4ad4-c068-1aeef81e8974"
      },
      "execution_count": null,
      "outputs": [
        {
          "output_type": "display_data",
          "data": {
            "text/plain": [
              "<Figure size 2200x600 with 8 Axes>"
            ],
            "image/png": "[encoded data removed]"
          },
          "metadata": {}
        },
        {
          "output_type": "display_data",
          "data": {
            "text/plain": [
              "<Figure size 2200x600 with 8 Axes>"
            ],
            "image/png": "[encoded data removed]"
          },
          "metadata": {}
        }
      ]
    },
    {
      "cell_type": "markdown",
      "source": [
        "## 3. 데이터 전처리"
      ],
      "metadata": {
        "id": "oaDBOUTiH53m"
      }
    },
    {
      "cell_type": "code",
      "source": [
        "train_images = np.array(train_images/255.0, dtype=np.float32)\n",
        "train_labels = np.array(train_labels, dtype=np.float32)\n",
        "\n",
        "test_images = np.array(test_images/255.0, dtype=np.float32)\n",
        "test_labels = np.array(test_labels, dtype=np.float32)"
      ],
      "metadata": {
        "id": "i6JmspD-BXnf"
      },
      "execution_count": null,
      "outputs": []
    },
    {
      "cell_type": "markdown",
      "source": [
        "## 4. 모델 생성, 학습, 검증"
      ],
      "metadata": {
        "id": "cFX-qkUFJWOm"
      }
    },
    {
      "cell_type": "markdown",
      "source": [
        "**(참고)** Keras에서 Mdoel 만들기"
      ],
      "metadata": {
        "id": "fKp1wkypMxQf"
      }
    },
    {
      "cell_type": "code",
      "source": [
        "from tensorflow.keras import Sequential\n",
        "from tensorflow.keras.layers import Input, Flatten, Dense, Conv2D, MaxPooling2D, Dropout\n",
        "from tensorflow.keras.models import Model"
      ],
      "metadata": {
        "id": "3LgpD9bBM_ZL"
      },
      "execution_count": null,
      "outputs": []
    },
    {
      "cell_type": "code",
      "source": [
        "# Sequential API\n",
        "model = Sequential([Flatten(input_shape=(28, 28)),\n",
        "                    Dense(units=20, activation=\"sigmoid\"),\n",
        "                    Dense(units=10, activation=\"softmax\")])"
      ],
      "metadata": {
        "id": "Jr_mLXZiHr99"
      },
      "execution_count": null,
      "outputs": []
    },
    {
      "cell_type": "code",
      "source": [
        "# Functional API\n",
        "input_tensor = Input(shape=(28, 28))\n",
        "x = Flatten()(input_tensor)\n",
        "x = Dense(units=20, activation=\"sigmoid\")(x)\n",
        "output = Dense(units=10, activaton=\"softmax\")(x)\n",
        "\n",
        "model = Model(inputs=input_tensor, outputs=output)"
      ],
      "metadata": {
        "id": "Woo4G1VjPaNf"
      },
      "execution_count": null,
      "outputs": []
    },
    {
      "cell_type": "markdown",
      "source": [
        "**(참고) Conv2D 적용, Pooling 적용**"
      ],
      "metadata": {
        "id": "90D6oE3kTXh2"
      }
    },
    {
      "cell_type": "code",
      "source": [
        "input_tensor = Input(shape=(28, 28, 1))\n",
        "x = Conv2D(filters=4, kernel_size=3, strides=(1, 1),\n",
        "           padding=\"same\", activation=\"relu\")(input_tensor)\n",
        "x = MaxPooling2D(pool_size =(2, 2), strides=(2, 2))(x)"
      ],
      "metadata": {
        "id": "D0SXv6t_TaC-"
      },
      "execution_count": null,
      "outputs": []
    },
    {
      "cell_type": "code",
      "source": [
        "input_tensor = Input(shape=(28, 28, 1))\n",
        "x = Conv2D(filters=16, kernel_size=3, strides=(1, 1),\n",
        "           padding=\"same\", activation=\"relu\")(input_tensor)\n",
        "x = MaxPooling2D(pool_size =(2, 2), strides=(2, 2))(x)   # 14*14*16\n",
        "\n",
        "x = Conv2D(filters=32, kernel_size=3, strides=(1, 1),\n",
        "           padding=\"same\", activation=\"relu\")(x)\n",
        "x = MaxPooling2D(pool_size =(2, 2), strides=(2, 2))(x)   # 7*7*32\n",
        "\n",
        "x = Flatten()(x) # 7*7*32=1568\n",
        "x = Dense(units=200, activation=\"relu\")(x)\n",
        "output = Dense(units=10, activation=\"softmax\")(x)\n",
        "\n",
        "model = Model(inputs=input_tensor, outputs=output)\n",
        "model.summary()"
      ],
      "metadata": {
        "colab": {
          "base_uri": "https://localhost:8080/"
        },
        "id": "VK_R5eOuU1jR",
        "outputId": "ae735056-37db-4f3b-99ae-6e8aefaf474a"
      },
      "execution_count": null,
      "outputs": [
        {
          "output_type": "stream",
          "name": "stdout",
          "text": [
            "Model: \"model\"\n",
            "_________________________________________________________________\n",
            " Layer (type)                Output Shape              Param #   \n",
            "=================================================================\n",
            " input_2 (InputLayer)        [(None, 28, 28, 1)]       0         \n",
            "                                                                 \n",
            " conv2d_1 (Conv2D)           (None, 28, 28, 16)        160       \n",
            "                                                                 \n",
            " max_pooling2d_1 (MaxPooling  (None, 14, 14, 16)       0         \n",
            " 2D)                                                             \n",
            "                                                                 \n",
            " conv2d_2 (Conv2D)           (None, 14, 14, 32)        4640      \n",
            "                                                                 \n",
            " max_pooling2d_2 (MaxPooling  (None, 7, 7, 32)         0         \n",
            " 2D)                                                             \n",
            "                                                                 \n",
            " flatten_1 (Flatten)         (None, 1568)              0         \n",
            "                                                                 \n",
            " dense_2 (Dense)             (None, 200)               313800    \n",
            "                                                                 \n",
            " dense_3 (Dense)             (None, 10)                2010      \n",
            "                                                                 \n",
            "=================================================================\n",
            "Total params: 320,610\n",
            "Trainable params: 320,610\n",
            "Non-trainable params: 0\n",
            "_________________________________________________________________\n"
          ]
        }
      ]
    },
    {
      "cell_type": "code",
      "source": [
        "7*7*32"
      ],
      "metadata": {
        "colab": {
          "base_uri": "https://localhost:8080/"
        },
        "id": "H2JIx5N3WMxa",
        "outputId": "8d08c8e6-6c45-41a4-bdbe-04816b91dde5"
      },
      "execution_count": null,
      "outputs": [
        {
          "output_type": "execute_result",
          "data": {
            "text/plain": [
              "1568"
            ]
          },
          "metadata": {},
          "execution_count": 45
        }
      ]
    },
    {
      "cell_type": "code",
      "source": [],
      "metadata": {
        "id": "7U8WATTSWNnS"
      },
      "execution_count": null,
      "outputs": []
    }
  ]
}